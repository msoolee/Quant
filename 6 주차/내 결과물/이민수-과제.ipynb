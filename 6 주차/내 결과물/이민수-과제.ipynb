{
 "cells": [
  {
   "cell_type": "code",
   "execution_count": 33,
   "id": "9349c379",
   "metadata": {},
   "outputs": [
    {
     "data": {
      "text/plain": [
       "('ta-lib-0.4.0-src.tar.gz', <http.client.HTTPMessage at 0x17e9b7d6a60>)"
      ]
     },
     "execution_count": 33,
     "metadata": {},
     "output_type": "execute_result"
    }
   ],
   "source": [
    "import urllib.request\n",
    "url = 'http://prdownloads.sourceforge.net/ta-lib/ta-lib-0.4.0-src.tar.gz'\n",
    "urllib.request.urlretrieve(url, 'ta-lib-0.4.0-src.tar.gz')\n"
   ]
  },
  {
   "cell_type": "code",
   "execution_count": 35,
   "id": "dacae686",
   "metadata": {},
   "outputs": [],
   "source": [
    "import os\n",
    "os.chdir('ta-lib') # Can't use !cd in co-lab"
   ]
  },
  {
   "cell_type": "code",
   "execution_count": 36,
   "id": "0c519096",
   "metadata": {},
   "outputs": [
    {
     "name": "stdout",
     "output_type": "stream",
     "text": [
      "Requirement already satisfied: TA-Lib in c:\\users\\minsoo\\anaconda3\\lib\\site-packages (0.4.19)\n",
      "Requirement already satisfied: numpy in c:\\users\\minsoo\\anaconda3\\lib\\site-packages (from TA-Lib) (1.21.5)\n"
     ]
    }
   ],
   "source": [
    "!pip install TA-Lib"
   ]
  },
  {
   "cell_type": "code",
   "execution_count": 37,
   "id": "0ddef05c",
   "metadata": {},
   "outputs": [
    {
     "name": "stdout",
     "output_type": "stream",
     "text": [
      "Package                       Version\n",
      "----------------------------- --------------------\n",
      "alabaster                     0.7.12\n",
      "anaconda-client               1.11.0\n",
      "anaconda-navigator            2.3.2\n",
      "anaconda-project              0.11.1\n",
      "anyio                         3.5.0\n",
      "appdirs                       1.4.4\n",
      "argon2-cffi                   21.3.0\n",
      "argon2-cffi-bindings          21.2.0\n",
      "arrow                         1.2.2\n",
      "astroid                       2.11.7\n",
      "astropy                       5.1\n",
      "atomicwrites                  1.4.0\n",
      "attrs                         21.4.0\n",
      "Automat                       20.2.0\n",
      "autopep8                      1.6.0\n",
      "Babel                         2.9.1\n",
      "backcall                      0.2.0\n",
      "backports.functools-lru-cache 1.6.4\n",
      "backports.tempfile            1.0\n",
      "backports.weakref             1.0.post1\n",
      "bcrypt                        3.2.0\n",
      "beautifulsoup4                4.11.1\n",
      "binaryornot                   0.4.4\n",
      "bitarray                      2.5.1\n",
      "bkcharts                      0.2\n",
      "black                         22.6.0\n",
      "bleach                        4.1.0\n",
      "bokeh                         2.4.3\n",
      "boto3                         1.24.28\n",
      "botocore                      1.27.28\n",
      "Bottleneck                    1.3.5\n",
      "brotlipy                      0.7.0\n",
      "certifi                       2022.12.7\n",
      "cffi                          1.15.1\n",
      "chardet                       4.0.0\n",
      "charset-normalizer            2.0.4\n",
      "click                         8.0.4\n",
      "cloudpickle                   2.0.0\n",
      "clyent                        1.2.2\n",
      "colorama                      0.4.5\n",
      "colorcet                      3.0.0\n",
      "comtypes                      1.1.10\n",
      "conda                         22.11.1\n",
      "conda-build                   3.22.0\n",
      "conda-content-trust           0.1.3\n",
      "conda-pack                    0.6.0\n",
      "conda-package-handling        1.9.0\n",
      "conda-repo-cli                1.0.20\n",
      "conda-token                   0.4.0\n",
      "conda-verify                  3.4.2\n",
      "constantly                    15.1.0\n",
      "cookiecutter                  1.7.3\n",
      "cryptography                  37.0.1\n",
      "cssselect                     1.1.0\n",
      "cycler                        0.11.0\n",
      "Cython                        0.29.32\n",
      "cytoolz                       0.11.0\n",
      "daal4py                       2021.6.0\n",
      "dask                          2022.7.0\n",
      "datashader                    0.14.1\n",
      "datashape                     0.5.4\n",
      "dateparser                    1.1.7\n",
      "DateTime                      5.0\n",
      "debugpy                       1.5.1\n",
      "decorator                     5.1.1\n",
      "defusedxml                    0.7.1\n",
      "Deprecated                    1.2.13\n",
      "diff-match-patch              20200713\n",
      "dill                          0.3.4\n",
      "distributed                   2022.7.0\n",
      "docutils                      0.18.1\n",
      "entrypoints                   0.4\n",
      "et-xmlfile                    1.1.0\n",
      "fastjsonschema                2.16.2\n",
      "filelock                      3.6.0\n",
      "finance-datareader            0.9.50\n",
      "flake8                        4.0.1\n",
      "Flask                         1.1.2\n",
      "fonttools                     4.25.0\n",
      "frozendict                    2.3.4\n",
      "fsspec                        2022.7.1\n",
      "future                        0.18.2\n",
      "gensim                        4.1.2\n",
      "glob2                         0.7\n",
      "greenlet                      1.1.1\n",
      "h5py                          3.7.0\n",
      "HeapDict                      1.0.1\n",
      "holoviews                     1.15.0\n",
      "html5lib                      1.1\n",
      "hvplot                        0.8.0\n",
      "hyperlink                     21.0.0\n",
      "idna                          3.3\n",
      "imagecodecs                   2021.8.26\n",
      "imageio                       2.19.3\n",
      "imagesize                     1.4.1\n",
      "importlib-metadata            4.11.3\n",
      "incremental                   21.3.0\n",
      "inflection                    0.5.1\n",
      "iniconfig                     1.1.1\n",
      "intake                        0.6.5\n",
      "intervaltree                  3.1.0\n",
      "ipykernel                     6.15.2\n",
      "ipynb-py-convert              0.4.6\n",
      "ipython                       7.31.1\n",
      "ipython-genutils              0.2.0\n",
      "ipywidgets                    7.6.5\n",
      "isort                         5.9.3\n",
      "itemadapter                   0.3.0\n",
      "itemloaders                   1.0.4\n",
      "itsdangerous                  2.0.1\n",
      "jdcal                         1.4.1\n",
      "jedi                          0.18.1\n",
      "jellyfish                     0.9.0\n",
      "Jinja2                        2.11.3\n",
      "jinja2-time                   0.2.0\n",
      "jmespath                      0.10.0\n",
      "joblib                        1.1.0\n",
      "json5                         0.9.6\n",
      "jsonschema                    4.16.0\n",
      "jupyter                       1.0.0\n",
      "jupyter_client                7.3.4\n",
      "jupyter-console               6.4.3\n",
      "jupyter_core                  4.11.1\n",
      "jupyter-server                1.18.1\n",
      "jupyterlab                    3.4.4\n",
      "jupyterlab-pygments           0.1.2\n",
      "jupyterlab-server             2.10.3\n",
      "jupyterlab-widgets            1.0.0\n",
      "jupyterthemes                 0.20.0\n",
      "keyring                       23.4.0\n",
      "kiwisolver                    1.4.2\n",
      "lazy-object-proxy             1.6.0\n",
      "lesscpy                       0.15.1\n",
      "libarchive-c                  2.9\n",
      "llvmlite                      0.38.0\n",
      "locket                        1.0.0\n",
      "lxml                          4.9.1\n",
      "lz4                           3.1.3\n",
      "Markdown                      3.3.4\n",
      "MarkupSafe                    2.0.1\n",
      "matplotlib                    3.5.2\n",
      "matplotlib-inline             0.1.6\n",
      "mccabe                        0.6.1\n",
      "menuinst                      1.4.19\n",
      "mistune                       0.8.4\n",
      "mkl-fft                       1.3.1\n",
      "mkl-random                    1.2.2\n",
      "mkl-service                   2.4.0\n",
      "mock                          4.0.3\n",
      "mpl-finance                   0.10.1\n",
      "mplcursors                    0.5.2\n",
      "mplfinance                    0.12.9b7\n",
      "mpmath                        1.2.1\n",
      "msgpack                       1.0.3\n",
      "multipledispatch              0.6.0\n",
      "multitasking                  0.0.11\n",
      "munkres                       1.1.4\n",
      "mypy-extensions               0.4.3\n",
      "navigator-updater             0.3.0\n",
      "nbclassic                     0.3.5\n",
      "nbclient                      0.5.13\n",
      "nbconvert                     6.4.4\n",
      "nbformat                      5.5.0\n",
      "nest-asyncio                  1.5.5\n",
      "networkx                      2.8.4\n",
      "nltk                          3.7\n",
      "nose                          1.3.7\n",
      "notebook                      6.4.12\n",
      "numba                         0.55.1\n",
      "numexpr                       2.8.3\n",
      "numpy                         1.21.5\n",
      "numpydoc                      1.4.0\n",
      "olefile                       0.46\n",
      "openpyxl                      3.0.10\n",
      "packaging                     21.3\n",
      "pandas                        1.4.4\n",
      "pandas-ta                     0.3.14b0\n",
      "pandocfilters                 1.5.0\n",
      "panel                         0.13.1\n",
      "param                         1.12.0\n",
      "paramiko                      2.8.1\n",
      "parsel                        1.6.0\n",
      "parso                         0.8.3\n",
      "partd                         1.2.0\n",
      "pathlib                       1.0.1\n",
      "pathspec                      0.9.0\n",
      "patsy                         0.5.2\n",
      "pep8                          1.7.1\n",
      "pexpect                       4.8.0\n",
      "pickleshare                   0.7.5\n",
      "Pillow                        9.2.0\n",
      "pip                           22.2.2\n",
      "pkginfo                       1.8.2\n",
      "platformdirs                  2.5.2\n",
      "plotly                        5.9.0\n",
      "pluggy                        1.0.0\n",
      "ply                           3.11\n",
      "poyo                          0.5.0\n",
      "prometheus-client             0.14.1\n",
      "prompt-toolkit                3.0.20\n",
      "Protego                       0.1.16\n",
      "psutil                        5.9.0\n",
      "ptyprocess                    0.7.0\n",
      "py                            1.11.0\n",
      "pyasn1                        0.4.8\n",
      "pyasn1-modules                0.2.8\n",
      "pycodestyle                   2.8.0\n",
      "pycosat                       0.6.3\n",
      "pycparser                     2.21\n",
      "pyct                          0.4.8\n",
      "pycurl                        7.45.1\n",
      "PyDispatcher                  2.0.5\n",
      "pydocstyle                    6.1.1\n",
      "pyerfa                        2.0.0\n",
      "pyflakes                      2.4.0\n",
      "Pygments                      2.11.2\n",
      "PyHamcrest                    2.0.2\n",
      "PyJWT                         2.4.0\n",
      "pykrx                         1.0.40\n",
      "pylint                        2.14.5\n",
      "pyls-spyder                   0.4.0\n",
      "PyNaCl                        1.5.0\n",
      "pyodbc                        4.0.34\n",
      "pyOpenSSL                     22.0.0\n",
      "pyparsing                     3.0.9\n",
      "pyrsistent                    0.18.0\n",
      "PySocks                       1.7.1\n",
      "pytest                        7.1.2\n",
      "python-dateutil               2.8.2\n",
      "python-lsp-black              1.0.0\n",
      "python-lsp-jsonrpc            1.0.0\n",
      "python-lsp-server             1.3.3\n",
      "python-slugify                5.0.2\n",
      "python-snappy                 0.6.0\n",
      "pytz                          2022.7.1\n",
      "pytz-deprecation-shim         0.1.0.post0\n",
      "pyviz-comms                   2.0.2\n",
      "PyWavelets                    1.3.0\n",
      "pywin32                       302\n",
      "pywin32-ctypes                0.2.0\n",
      "pywinpty                      2.0.2\n",
      "PyYAML                        6.0\n",
      "pyzmq                         23.2.0\n",
      "QDarkStyle                    3.0.2\n",
      "qstylizer                     0.1.10\n",
      "QtAwesome                     1.0.3\n",
      "qtconsole                     5.2.2\n",
      "QtPy                          2.2.0\n",
      "queuelib                      1.5.0\n",
      "regex                         2022.7.9\n",
      "requests                      2.28.1\n",
      "requests-file                 1.5.1\n",
      "rope                          0.22.0\n",
      "Rtree                         0.9.7\n",
      "ruamel.yaml                   0.17.21\n",
      "ruamel.yaml.clib              0.2.6\n",
      "ruamel-yaml-conda             0.15.100\n",
      "s3transfer                    0.6.0\n",
      "schedule                      1.1.0\n",
      "scikit-image                  0.19.2\n",
      "scikit-learn                  1.0.2\n",
      "scikit-learn-intelex          2021.20221004.171935\n",
      "scipy                         1.9.1\n",
      "Scrapy                        2.6.2\n",
      "seaborn                       0.11.2\n",
      "Send2Trash                    1.8.0\n",
      "service-identity              18.1.0\n",
      "setuptools                    63.4.1\n",
      "sip                           4.19.13\n",
      "six                           1.16.0\n",
      "smart-open                    5.2.1\n",
      "sniffio                       1.2.0\n",
      "snowballstemmer               2.2.0\n",
      "sortedcollections             2.1.0\n",
      "sortedcontainers              2.4.0\n",
      "soupsieve                     2.3.1\n",
      "Sphinx                        5.0.2\n",
      "sphinxcontrib-applehelp       1.0.2\n",
      "sphinxcontrib-devhelp         1.0.2\n",
      "sphinxcontrib-htmlhelp        2.0.0\n",
      "sphinxcontrib-jsmath          1.0.1\n",
      "sphinxcontrib-qthelp          1.0.3\n",
      "sphinxcontrib-serializinghtml 1.1.5\n",
      "spyder                        5.2.2\n",
      "spyder-kernels                2.2.1\n",
      "SQLAlchemy                    1.4.39\n",
      "statsmodels                   0.13.2\n",
      "sympy                         1.10.1\n",
      "ta                            0.10.2\n",
      "TA-Lib                        0.4.19\n",
      "tables                        3.6.1\n",
      "tabulate                      0.8.10\n",
      "TBB                           0.2\n",
      "tblib                         1.7.0\n",
      "tenacity                      8.0.1\n",
      "terminado                     0.13.1\n",
      "testpath                      0.6.0\n",
      "text-unidecode                1.3\n",
      "textdistance                  4.2.1\n",
      "threadpoolctl                 2.2.0\n",
      "three-merge                   0.1.1\n",
      "tifffile                      2021.7.2\n",
      "tinycss                       0.4\n",
      "tldextract                    3.2.0\n",
      "toml                          0.10.2\n",
      "tomli                         2.0.1\n",
      "tomlkit                       0.11.1\n",
      "toolz                         0.11.2\n",
      "tornado                       6.1\n",
      "tqdm                          4.64.1\n",
      "traitlets                     5.1.1\n",
      "Twisted                       22.2.0\n",
      "twisted-iocpsupport           1.0.2\n",
      "typing_extensions             4.3.0\n",
      "tzdata                        2022.7\n",
      "tzlocal                       4.2\n",
      "ujson                         5.4.0\n",
      "Unidecode                     1.2.0\n",
      "urllib3                       1.26.11\n",
      "vectorbt                      0.24.5\n",
      "w3lib                         1.21.0\n",
      "watchdog                      2.1.6\n",
      "wcwidth                       0.2.5\n",
      "webencodings                  0.5.1\n",
      "websocket-client              0.58.0\n",
      "Werkzeug                      2.0.3\n",
      "wheel                         0.37.1\n",
      "widgetsnbextension            3.5.2\n",
      "win-inet-pton                 1.1.0\n",
      "win-unicode-console           0.5\n",
      "wincertstore                  0.2\n",
      "wrapt                         1.14.1\n",
      "xarray                        0.20.1\n",
      "xlrd                          2.0.1\n",
      "XlsxWriter                    3.0.3\n",
      "xlwings                       0.27.15\n",
      "yapf                          0.31.0\n",
      "yfinance                      0.2.4\n",
      "zict                          2.1.0\n",
      "zipp                          3.8.0\n",
      "zope.interface                5.4.0\n"
     ]
    }
   ],
   "source": [
    "!pip list"
   ]
  },
  {
   "cell_type": "code",
   "execution_count": 38,
   "id": "278e841e",
   "metadata": {
    "scrolled": true
   },
   "outputs": [
    {
     "name": "stdout",
     "output_type": "stream",
     "text": [
      "Requirement already satisfied: TA-Lib in c:\\users\\minsoo\\anaconda3\\lib\\site-packages (0.4.19)\n",
      "Requirement already satisfied: numpy in c:\\users\\minsoo\\anaconda3\\lib\\site-packages (from TA-Lib) (1.21.5)\n"
     ]
    }
   ],
   "source": [
    "!pip install TA-Lib"
   ]
  },
  {
   "cell_type": "code",
   "execution_count": 39,
   "id": "621768eb",
   "metadata": {},
   "outputs": [
    {
     "name": "stdout",
     "output_type": "stream",
     "text": [
      "Requirement already satisfied: ta in c:\\users\\minsoo\\anaconda3\\lib\\site-packages (0.10.2)\n",
      "Requirement already satisfied: numpy in c:\\users\\minsoo\\anaconda3\\lib\\site-packages (from ta) (1.21.5)\n",
      "Requirement already satisfied: pandas in c:\\users\\minsoo\\anaconda3\\lib\\site-packages (from ta) (1.4.4)\n",
      "Requirement already satisfied: python-dateutil>=2.8.1 in c:\\users\\minsoo\\anaconda3\\lib\\site-packages (from pandas->ta) (2.8.2)\n",
      "Requirement already satisfied: pytz>=2020.1 in c:\\users\\minsoo\\anaconda3\\lib\\site-packages (from pandas->ta) (2022.7.1)\n",
      "Requirement already satisfied: six>=1.5 in c:\\users\\minsoo\\anaconda3\\lib\\site-packages (from python-dateutil>=2.8.1->pandas->ta) (1.16.0)\n"
     ]
    }
   ],
   "source": [
    "!pip install --upgrade ta"
   ]
  },
  {
   "cell_type": "code",
   "execution_count": 40,
   "id": "b2620ae4",
   "metadata": {},
   "outputs": [
    {
     "name": "stdout",
     "output_type": "stream",
     "text": [
      "[*********************100%***********************]  1 of 1 completed\n"
     ]
    },
    {
     "data": {
      "text/html": [
       "<div>\n",
       "<style scoped>\n",
       "    .dataframe tbody tr th:only-of-type {\n",
       "        vertical-align: middle;\n",
       "    }\n",
       "\n",
       "    .dataframe tbody tr th {\n",
       "        vertical-align: top;\n",
       "    }\n",
       "\n",
       "    .dataframe thead th {\n",
       "        text-align: right;\n",
       "    }\n",
       "</style>\n",
       "<table border=\"1\" class=\"dataframe\">\n",
       "  <thead>\n",
       "    <tr style=\"text-align: right;\">\n",
       "      <th></th>\n",
       "      <th>Open</th>\n",
       "      <th>High</th>\n",
       "      <th>Low</th>\n",
       "      <th>Close</th>\n",
       "      <th>Adj Close</th>\n",
       "      <th>Volume</th>\n",
       "    </tr>\n",
       "    <tr>\n",
       "      <th>Date</th>\n",
       "      <th></th>\n",
       "      <th></th>\n",
       "      <th></th>\n",
       "      <th></th>\n",
       "      <th></th>\n",
       "      <th></th>\n",
       "    </tr>\n",
       "  </thead>\n",
       "  <tbody>\n",
       "    <tr>\n",
       "      <th>2000-01-03 00:00:00-05:00</th>\n",
       "      <td>148.250000</td>\n",
       "      <td>148.250000</td>\n",
       "      <td>143.875000</td>\n",
       "      <td>145.437500</td>\n",
       "      <td>95.308815</td>\n",
       "      <td>8164300</td>\n",
       "    </tr>\n",
       "    <tr>\n",
       "      <th>2000-01-04 00:00:00-05:00</th>\n",
       "      <td>143.531250</td>\n",
       "      <td>144.062500</td>\n",
       "      <td>139.640625</td>\n",
       "      <td>139.750000</td>\n",
       "      <td>91.581650</td>\n",
       "      <td>8089800</td>\n",
       "    </tr>\n",
       "    <tr>\n",
       "      <th>2000-01-05 00:00:00-05:00</th>\n",
       "      <td>139.937500</td>\n",
       "      <td>141.531250</td>\n",
       "      <td>137.250000</td>\n",
       "      <td>140.000000</td>\n",
       "      <td>91.745476</td>\n",
       "      <td>12177900</td>\n",
       "    </tr>\n",
       "    <tr>\n",
       "      <th>2000-01-06 00:00:00-05:00</th>\n",
       "      <td>139.625000</td>\n",
       "      <td>141.500000</td>\n",
       "      <td>137.750000</td>\n",
       "      <td>137.750000</td>\n",
       "      <td>90.270981</td>\n",
       "      <td>6227200</td>\n",
       "    </tr>\n",
       "    <tr>\n",
       "      <th>2000-01-07 00:00:00-05:00</th>\n",
       "      <td>140.312500</td>\n",
       "      <td>145.750000</td>\n",
       "      <td>140.062500</td>\n",
       "      <td>145.750000</td>\n",
       "      <td>95.513649</td>\n",
       "      <td>8066500</td>\n",
       "    </tr>\n",
       "    <tr>\n",
       "      <th>...</th>\n",
       "      <td>...</td>\n",
       "      <td>...</td>\n",
       "      <td>...</td>\n",
       "      <td>...</td>\n",
       "      <td>...</td>\n",
       "      <td>...</td>\n",
       "    </tr>\n",
       "    <tr>\n",
       "      <th>2022-12-23 00:00:00-05:00</th>\n",
       "      <td>379.649994</td>\n",
       "      <td>383.059998</td>\n",
       "      <td>378.029999</td>\n",
       "      <td>382.910004</td>\n",
       "      <td>382.910004</td>\n",
       "      <td>59857300</td>\n",
       "    </tr>\n",
       "    <tr>\n",
       "      <th>2022-12-27 00:00:00-05:00</th>\n",
       "      <td>382.790009</td>\n",
       "      <td>383.149994</td>\n",
       "      <td>379.649994</td>\n",
       "      <td>381.399994</td>\n",
       "      <td>381.399994</td>\n",
       "      <td>51638200</td>\n",
       "    </tr>\n",
       "    <tr>\n",
       "      <th>2022-12-28 00:00:00-05:00</th>\n",
       "      <td>381.329987</td>\n",
       "      <td>383.390015</td>\n",
       "      <td>376.420013</td>\n",
       "      <td>376.660004</td>\n",
       "      <td>376.660004</td>\n",
       "      <td>70911500</td>\n",
       "    </tr>\n",
       "    <tr>\n",
       "      <th>2022-12-29 00:00:00-05:00</th>\n",
       "      <td>379.630005</td>\n",
       "      <td>384.350006</td>\n",
       "      <td>379.079987</td>\n",
       "      <td>383.440002</td>\n",
       "      <td>383.440002</td>\n",
       "      <td>66970900</td>\n",
       "    </tr>\n",
       "    <tr>\n",
       "      <th>2022-12-30 00:00:00-05:00</th>\n",
       "      <td>380.640015</td>\n",
       "      <td>382.579987</td>\n",
       "      <td>378.429993</td>\n",
       "      <td>382.429993</td>\n",
       "      <td>382.429993</td>\n",
       "      <td>83975100</td>\n",
       "    </tr>\n",
       "  </tbody>\n",
       "</table>\n",
       "<p>5787 rows × 6 columns</p>\n",
       "</div>"
      ],
      "text/plain": [
       "                                 Open        High         Low       Close  \\\n",
       "Date                                                                        \n",
       "2000-01-03 00:00:00-05:00  148.250000  148.250000  143.875000  145.437500   \n",
       "2000-01-04 00:00:00-05:00  143.531250  144.062500  139.640625  139.750000   \n",
       "2000-01-05 00:00:00-05:00  139.937500  141.531250  137.250000  140.000000   \n",
       "2000-01-06 00:00:00-05:00  139.625000  141.500000  137.750000  137.750000   \n",
       "2000-01-07 00:00:00-05:00  140.312500  145.750000  140.062500  145.750000   \n",
       "...                               ...         ...         ...         ...   \n",
       "2022-12-23 00:00:00-05:00  379.649994  383.059998  378.029999  382.910004   \n",
       "2022-12-27 00:00:00-05:00  382.790009  383.149994  379.649994  381.399994   \n",
       "2022-12-28 00:00:00-05:00  381.329987  383.390015  376.420013  376.660004   \n",
       "2022-12-29 00:00:00-05:00  379.630005  384.350006  379.079987  383.440002   \n",
       "2022-12-30 00:00:00-05:00  380.640015  382.579987  378.429993  382.429993   \n",
       "\n",
       "                            Adj Close    Volume  \n",
       "Date                                             \n",
       "2000-01-03 00:00:00-05:00   95.308815   8164300  \n",
       "2000-01-04 00:00:00-05:00   91.581650   8089800  \n",
       "2000-01-05 00:00:00-05:00   91.745476  12177900  \n",
       "2000-01-06 00:00:00-05:00   90.270981   6227200  \n",
       "2000-01-07 00:00:00-05:00   95.513649   8066500  \n",
       "...                               ...       ...  \n",
       "2022-12-23 00:00:00-05:00  382.910004  59857300  \n",
       "2022-12-27 00:00:00-05:00  381.399994  51638200  \n",
       "2022-12-28 00:00:00-05:00  376.660004  70911500  \n",
       "2022-12-29 00:00:00-05:00  383.440002  66970900  \n",
       "2022-12-30 00:00:00-05:00  382.429993  83975100  \n",
       "\n",
       "[5787 rows x 6 columns]"
      ]
     },
     "execution_count": 40,
     "metadata": {},
     "output_type": "execute_result"
    }
   ],
   "source": [
    "import vectorbt as vbt\n",
    "import yfinance as yf\n",
    "import talib\n",
    "\n",
    "data = yf.download(\"SPY\", start='2000-01-01',end='2023-01-01')\n",
    "data"
   ]
  },
  {
   "cell_type": "code",
   "execution_count": 41,
   "id": "355c6e83",
   "metadata": {},
   "outputs": [
    {
     "data": {
      "text/plain": [
       "Date\n",
       "2000-01-03 00:00:00-05:00    0\n",
       "2000-01-04 00:00:00-05:00    0\n",
       "2000-01-05 00:00:00-05:00    0\n",
       "2000-01-06 00:00:00-05:00    0\n",
       "2000-01-07 00:00:00-05:00    0\n",
       "                            ..\n",
       "2022-12-23 00:00:00-05:00    0\n",
       "2022-12-27 00:00:00-05:00    0\n",
       "2022-12-28 00:00:00-05:00    0\n",
       "2022-12-29 00:00:00-05:00    0\n",
       "2022-12-30 00:00:00-05:00    0\n",
       "Length: 5787, dtype: int32"
      ]
     },
     "execution_count": 41,
     "metadata": {},
     "output_type": "execute_result"
    }
   ],
   "source": [
    "hammer = talib.CDLHAMMER(data.Open, data.High, data.Low, data.Close)\n",
    "hammer    # 망치형이 아니면 0, 망치형이면 100을 저장"
   ]
  },
  {
   "cell_type": "code",
   "execution_count": 42,
   "id": "fab3cd51",
   "metadata": {},
   "outputs": [
    {
     "name": "stdout",
     "output_type": "stream",
     "text": [
      "Date\n",
      "2000-02-07 00:00:00-05:00    100\n",
      "2000-04-20 00:00:00-04:00    100\n",
      "2000-05-22 00:00:00-04:00    100\n",
      "2000-08-29 00:00:00-04:00    100\n",
      "2001-01-08 00:00:00-05:00    100\n",
      "                            ... \n",
      "2021-07-27 00:00:00-04:00    100\n",
      "2021-12-20 00:00:00-05:00    100\n",
      "2022-08-09 00:00:00-04:00    100\n",
      "2022-09-16 00:00:00-04:00    100\n",
      "2022-09-23 00:00:00-04:00    100\n",
      "Length: 93, dtype: int32\n"
     ]
    }
   ],
   "source": [
    "print(hammer[hammer==100]) #매수 타이밍 "
   ]
  },
  {
   "cell_type": "code",
   "execution_count": 61,
   "id": "f0137bf0",
   "metadata": {},
   "outputs": [],
   "source": [
    "# 캔들 차트 그리는 함수로 실제 해당 일에 망치형이 되는지 확인해보기\n",
    "import pandas as pd\n",
    "import plotly.graph_objs as go\n",
    "import pandas as pd\n",
    "\n",
    "def plot_candlestick(ticker, start, end):\n",
    "    dataframe = yf.download(ticker,start,end)\n",
    "    fig = go.Figure(data=[go.Candlestick(x=dataframe.index,\n",
    "                                         open=dataframe['Open'],\n",
    "                                         high=dataframe['High'],\n",
    "                                         low=dataframe['Low'],\n",
    "                                         close=dataframe['Close'])])\n",
    "\n",
    "    fig.show()\n"
   ]
  },
  {
   "cell_type": "code",
   "execution_count": 62,
   "id": "e20cd77d",
   "metadata": {},
   "outputs": [
    {
     "name": "stdout",
     "output_type": "stream",
     "text": [
      "[*********************100%***********************]  1 of 1 completed\n"
     ]
    },
    {
     "data": {
      "application/vnd.plotly.v1+json": {
       "config": {
        "plotlyServerURL": "https://plot.ly"
       },
       "data": [
        {
         "close": [
          140.9375,
          141.0625,
          143.1875,
          142.59375,
          142.375,
          144.3125,
          141.28125,
          141.5625,
          138.6875,
          139.5,
          141.078125,
          139,
          138.28125,
          135.3125,
          134.96875,
          136.5625,
          133.8125,
          133.328125,
          136.125,
          137.4375,
          138.4375,
          138.53125,
          141.125,
          139.75,
          137.046875,
          136.875,
          140.875,
          140.125,
          138.59375,
          136.625,
          139.8125,
          146.34375,
          146.9375,
          146.1875,
          149.1875,
          150.09375,
          152.65625,
          153.5625,
          151.9375,
          151.0625,
          151.21875,
          148.6875,
          150.375,
          151.25,
          150.125,
          149.1875,
          150.484375,
          151.4375,
          150.84375,
          150.40625,
          146.28125,
          144.25,
          136,
          140.75,
          144.46875,
          143.125,
          143.8125,
          142.25,
          148.15625,
          146.484375,
          146,
          145.09375,
          147.0625,
          144.125,
          140.75,
          141.8125,
          143.53125,
          142.453125,
          141.3125,
          138.125,
          141.28125,
          142.8125,
          145.28125,
          146.6875,
          145.15625,
          143.375,
          141.125,
          140.0625,
          138,
          140.25,
          137.84375,
          138,
          142.5,
          142.8125,
          145.3125,
          147.84375,
          147.125,
          146.46875,
          147.484375,
          146.90625,
          146.59375,
          144.875,
          147.59375,
          147.84375,
          148.15625,
          146.59375,
          148.46875,
          147.9375,
          147.875,
          145.625,
          144.375,
          146.234375,
          145.15625,
          145.5625,
          144.1875,
          145.28125,
          147.28125,
          144.625,
          145.75,
          148.09375,
          147.84375,
          148.15625,
          149.125,
          149.78125,
          151.25,
          151,
          149.765625,
          148.5625,
          150.625,
          147.6875,
          146.84375,
          147.3125,
          145.875,
          145.375,
          142.09375,
          143,
          143.875,
          144.59375,
          145.59375,
          146.375,
          148.125,
          148.6875,
          147.4375,
          146.71875,
          147.40625,
          149.28125,
          149.15625,
          148.625,
          150.1875,
          149.6875,
          150.5,
          150.25,
          150.84375,
          151.3125,
          151.25,
          151.765625,
          151.796875,
          150.34375
         ],
         "high": [
          141.6875,
          142.25,
          143.25,
          144,
          142.78125,
          144.5625,
          144.46875,
          142.5625,
          141.9375,
          139.78125,
          141.21875,
          140.9375,
          140.4375,
          138.875,
          136.34375,
          137.46875,
          137.03125,
          136.71875,
          136.6875,
          137.4375,
          139,
          139.125,
          141.71875,
          141.34375,
          140.15625,
          137.84375,
          140.875,
          142,
          140.46875,
          140.09375,
          140.4375,
          146.84375,
          148,
          147.34375,
          149.75,
          150.84375,
          153.46875,
          155.75,
          153.78125,
          152.984375,
          152.484375,
          151.921875,
          152.3125,
          151.25,
          153,
          150.8125,
          151.6875,
          152.125,
          153.109375,
          151.625,
          151.15625,
          148.15625,
          142.8125,
          140.75,
          144.46875,
          145.125,
          143.9375,
          143.3125,
          148.15625,
          148.75,
          147.34375,
          147.859375,
          148.484375,
          147.125,
          144,
          142.359375,
          144,
          143.375,
          143.40625,
          140.96875,
          141.5,
          143.46875,
          145.609375,
          147.71875,
          146.1875,
          146.3125,
          143.234375,
          141.46875,
          140.8125,
          140.6875,
          141.8125,
          139.6875,
          142.9375,
          144,
          145.4375,
          149.09375,
          148.21875,
          147.78125,
          148,
          147.75,
          147.96875,
          146.96875,
          147.75,
          148.875,
          148.75,
          148.3125,
          149.15625,
          148.875,
          148.4375,
          147.6875,
          146.125,
          146.25,
          146.71875,
          146.984375,
          145.75,
          145.59375,
          147.4375,
          146.65625,
          146.46875,
          148.78125,
          148.90625,
          149.125,
          150.125,
          150.375,
          151.25,
          151.984375,
          150.625,
          149.90625,
          150.625,
          149.75,
          148.859375,
          147.84375,
          147.15625,
          146.625,
          145.90625,
          144.125,
          144.71875,
          145.40625,
          145.8125,
          146.71875,
          148.4375,
          148.8125,
          149.21875,
          147.859375,
          148,
          149.5625,
          149.8125,
          149.9375,
          150.4375,
          150.375,
          150.71875,
          151.3125,
          151.28125,
          151.5,
          151.625,
          152.90625,
          151.875,
          151.5
         ],
         "low": [
          138.53125,
          140.375,
          140,
          142.125,
          141.4375,
          143.625,
          141.265625,
          140.875,
          138.03125,
          138.3125,
          137.796875,
          138.796875,
          138.21875,
          134.625,
          133.53125,
          134.5,
          133.09375,
          133.125,
          132.71875,
          135.75,
          137.21875,
          137.34375,
          139.71875,
          138.75,
          135.21875,
          135.03125,
          136.125,
          139.53125,
          135.6875,
          136.15625,
          136.0625,
          140.875,
          145.4375,
          144.78125,
          144.5,
          148.6875,
          149.15625,
          151.71875,
          151.8125,
          150.59375,
          149.65625,
          147.125,
          148.4375,
          148.6875,
          141.390625,
          147.625,
          149,
          150.5,
          150.3125,
          148.375,
          146.15625,
          143.78125,
          133.5,
          134.6875,
          139.78125,
          142.53125,
          142.375,
          140.5,
          144.4375,
          146,
          143,
          145.0625,
          145.84375,
          144.125,
          139.78125,
          140.75,
          140.9375,
          141.84375,
          140.265625,
          137.75,
          139.125,
          141.625,
          142,
          145.3125,
          144.46875,
          143.375,
          140.40625,
          137,
          137.5625,
          136.5,
          137.71875,
          137.328125,
          139.46875,
          142.09375,
          143,
          147.484375,
          146.875,
          145.90625,
          146,
          146.0625,
          145.625,
          144.875,
          144.625,
          147.1875,
          146.84375,
          145.875,
          146.25,
          147,
          146.890625,
          145,
          143.875,
          144.875,
          145.015625,
          145.3125,
          143.515625,
          143.890625,
          145.1875,
          144.375,
          144.21875,
          146.25,
          147.53125,
          147.15625,
          148.6875,
          149.1875,
          149.671875,
          150.6875,
          149.34375,
          148.25,
          148.8125,
          147.6875,
          146.5625,
          146.78125,
          145.640625,
          144.6875,
          141.515625,
          142.0625,
          143.125,
          143.625,
          142.625,
          145.40625,
          146.375,
          147.5,
          147.375,
          146.28125,
          145.5625,
          147.0625,
          148.5625,
          147.84375,
          148.34375,
          149.21875,
          149.40625,
          150.09375,
          149.28125,
          150.5,
          150.9375,
          151.25,
          150.90625,
          150.34375
         ],
         "open": [
          139.75,
          141.28125,
          140.875,
          143.1875,
          142.5625,
          143.96875,
          144.46875,
          141.625,
          141.84375,
          139.78125,
          139.25,
          140.375,
          140.4375,
          138.875,
          135.1875,
          135.625,
          136.6875,
          135.1875,
          133.375,
          136.0625,
          137.625,
          138.6875,
          140.4375,
          140.8125,
          140,
          136.46875,
          137.25,
          140.1875,
          136.6875,
          139.28125,
          136.875,
          141.625,
          145.8125,
          146.875,
          145.53125,
          149.5625,
          149.15625,
          152.875,
          153.375,
          151.25,
          151.5625,
          150.15625,
          149.625,
          150.125,
          151.75,
          147.875,
          150.25,
          151.5625,
          151.75,
          150,
          150.375,
          147.46875,
          142.625,
          135.1875,
          140.5625,
          144.5,
          143.5625,
          141.5,
          144.625,
          147.96875,
          143,
          147,
          146.5625,
          145.5,
          144,
          142,
          141.0625,
          142.75,
          143.0625,
          140.5,
          140.125,
          141.8125,
          142.75,
          146.5625,
          145.6875,
          145.625,
          142.5625,
          141.25,
          140.4375,
          138,
          140.6875,
          138.8125,
          140,
          142.5625,
          143.6875,
          148.9375,
          147.46875,
          146.625,
          146.625,
          147.5,
          147.5,
          146.96875,
          144.8125,
          148.25,
          148.125,
          148.3125,
          146.46875,
          148.1875,
          146.9375,
          147.5625,
          145.8125,
          145.375,
          145.984375,
          145.625,
          144.75,
          143.9375,
          145.4375,
          146.375,
          144.9375,
          146.6875,
          147.875,
          147.46875,
          149.28125,
          149.984375,
          150.4375,
          150.984375,
          150.625,
          149.46875,
          149,
          149.75,
          148.125,
          147.75,
          146.96875,
          145.9375,
          145.71875,
          142.9375,
          143.625,
          143.875,
          142.875,
          146.3125,
          146.71875,
          147.5,
          149.140625,
          147.53125,
          146.625,
          147.78125,
          149.34375,
          149.3125,
          148.6875,
          150.375,
          150.03125,
          150.5625,
          149.8125,
          151.15625,
          151.15625,
          151.25,
          151.4375,
          151.3125
         ],
         "type": "candlestick",
         "x": [
          "2000-02-01T00:00:00-05:00",
          "2000-02-02T00:00:00-05:00",
          "2000-02-03T00:00:00-05:00",
          "2000-02-04T00:00:00-05:00",
          "2000-02-07T00:00:00-05:00",
          "2000-02-08T00:00:00-05:00",
          "2000-02-09T00:00:00-05:00",
          "2000-02-10T00:00:00-05:00",
          "2000-02-11T00:00:00-05:00",
          "2000-02-14T00:00:00-05:00",
          "2000-02-15T00:00:00-05:00",
          "2000-02-16T00:00:00-05:00",
          "2000-02-17T00:00:00-05:00",
          "2000-02-18T00:00:00-05:00",
          "2000-02-22T00:00:00-05:00",
          "2000-02-23T00:00:00-05:00",
          "2000-02-24T00:00:00-05:00",
          "2000-02-25T00:00:00-05:00",
          "2000-02-28T00:00:00-05:00",
          "2000-02-29T00:00:00-05:00",
          "2000-03-01T00:00:00-05:00",
          "2000-03-02T00:00:00-05:00",
          "2000-03-03T00:00:00-05:00",
          "2000-03-06T00:00:00-05:00",
          "2000-03-07T00:00:00-05:00",
          "2000-03-08T00:00:00-05:00",
          "2000-03-09T00:00:00-05:00",
          "2000-03-10T00:00:00-05:00",
          "2000-03-13T00:00:00-05:00",
          "2000-03-14T00:00:00-05:00",
          "2000-03-15T00:00:00-05:00",
          "2000-03-16T00:00:00-05:00",
          "2000-03-17T00:00:00-05:00",
          "2000-03-20T00:00:00-05:00",
          "2000-03-21T00:00:00-05:00",
          "2000-03-22T00:00:00-05:00",
          "2000-03-23T00:00:00-05:00",
          "2000-03-24T00:00:00-05:00",
          "2000-03-27T00:00:00-05:00",
          "2000-03-28T00:00:00-05:00",
          "2000-03-29T00:00:00-05:00",
          "2000-03-30T00:00:00-05:00",
          "2000-03-31T00:00:00-05:00",
          "2000-04-03T00:00:00-04:00",
          "2000-04-04T00:00:00-04:00",
          "2000-04-05T00:00:00-04:00",
          "2000-04-06T00:00:00-04:00",
          "2000-04-07T00:00:00-04:00",
          "2000-04-10T00:00:00-04:00",
          "2000-04-11T00:00:00-04:00",
          "2000-04-12T00:00:00-04:00",
          "2000-04-13T00:00:00-04:00",
          "2000-04-14T00:00:00-04:00",
          "2000-04-17T00:00:00-04:00",
          "2000-04-18T00:00:00-04:00",
          "2000-04-19T00:00:00-04:00",
          "2000-04-20T00:00:00-04:00",
          "2000-04-24T00:00:00-04:00",
          "2000-04-25T00:00:00-04:00",
          "2000-04-26T00:00:00-04:00",
          "2000-04-27T00:00:00-04:00",
          "2000-04-28T00:00:00-04:00",
          "2000-05-01T00:00:00-04:00",
          "2000-05-02T00:00:00-04:00",
          "2000-05-03T00:00:00-04:00",
          "2000-05-04T00:00:00-04:00",
          "2000-05-05T00:00:00-04:00",
          "2000-05-08T00:00:00-04:00",
          "2000-05-09T00:00:00-04:00",
          "2000-05-10T00:00:00-04:00",
          "2000-05-11T00:00:00-04:00",
          "2000-05-12T00:00:00-04:00",
          "2000-05-15T00:00:00-04:00",
          "2000-05-16T00:00:00-04:00",
          "2000-05-17T00:00:00-04:00",
          "2000-05-18T00:00:00-04:00",
          "2000-05-19T00:00:00-04:00",
          "2000-05-22T00:00:00-04:00",
          "2000-05-23T00:00:00-04:00",
          "2000-05-24T00:00:00-04:00",
          "2000-05-25T00:00:00-04:00",
          "2000-05-26T00:00:00-04:00",
          "2000-05-30T00:00:00-04:00",
          "2000-05-31T00:00:00-04:00",
          "2000-06-01T00:00:00-04:00",
          "2000-06-02T00:00:00-04:00",
          "2000-06-05T00:00:00-04:00",
          "2000-06-06T00:00:00-04:00",
          "2000-06-07T00:00:00-04:00",
          "2000-06-08T00:00:00-04:00",
          "2000-06-09T00:00:00-04:00",
          "2000-06-12T00:00:00-04:00",
          "2000-06-13T00:00:00-04:00",
          "2000-06-14T00:00:00-04:00",
          "2000-06-15T00:00:00-04:00",
          "2000-06-16T00:00:00-04:00",
          "2000-06-19T00:00:00-04:00",
          "2000-06-20T00:00:00-04:00",
          "2000-06-21T00:00:00-04:00",
          "2000-06-22T00:00:00-04:00",
          "2000-06-23T00:00:00-04:00",
          "2000-06-26T00:00:00-04:00",
          "2000-06-27T00:00:00-04:00",
          "2000-06-28T00:00:00-04:00",
          "2000-06-29T00:00:00-04:00",
          "2000-06-30T00:00:00-04:00",
          "2000-07-03T00:00:00-04:00",
          "2000-07-05T00:00:00-04:00",
          "2000-07-06T00:00:00-04:00",
          "2000-07-07T00:00:00-04:00",
          "2000-07-10T00:00:00-04:00",
          "2000-07-11T00:00:00-04:00",
          "2000-07-12T00:00:00-04:00",
          "2000-07-13T00:00:00-04:00",
          "2000-07-14T00:00:00-04:00",
          "2000-07-17T00:00:00-04:00",
          "2000-07-18T00:00:00-04:00",
          "2000-07-19T00:00:00-04:00",
          "2000-07-20T00:00:00-04:00",
          "2000-07-21T00:00:00-04:00",
          "2000-07-24T00:00:00-04:00",
          "2000-07-25T00:00:00-04:00",
          "2000-07-26T00:00:00-04:00",
          "2000-07-27T00:00:00-04:00",
          "2000-07-28T00:00:00-04:00",
          "2000-07-31T00:00:00-04:00",
          "2000-08-01T00:00:00-04:00",
          "2000-08-02T00:00:00-04:00",
          "2000-08-03T00:00:00-04:00",
          "2000-08-04T00:00:00-04:00",
          "2000-08-07T00:00:00-04:00",
          "2000-08-08T00:00:00-04:00",
          "2000-08-09T00:00:00-04:00",
          "2000-08-10T00:00:00-04:00",
          "2000-08-11T00:00:00-04:00",
          "2000-08-14T00:00:00-04:00",
          "2000-08-15T00:00:00-04:00",
          "2000-08-16T00:00:00-04:00",
          "2000-08-17T00:00:00-04:00",
          "2000-08-18T00:00:00-04:00",
          "2000-08-21T00:00:00-04:00",
          "2000-08-22T00:00:00-04:00",
          "2000-08-23T00:00:00-04:00",
          "2000-08-24T00:00:00-04:00",
          "2000-08-25T00:00:00-04:00",
          "2000-08-28T00:00:00-04:00",
          "2000-08-29T00:00:00-04:00",
          "2000-08-30T00:00:00-04:00"
         ]
        }
       ],
       "layout": {
        "template": {
         "data": {
          "bar": [
           {
            "error_x": {
             "color": "#2a3f5f"
            },
            "error_y": {
             "color": "#2a3f5f"
            },
            "marker": {
             "line": {
              "color": "#E5ECF6",
              "width": 0.5
             },
             "pattern": {
              "fillmode": "overlay",
              "size": 10,
              "solidity": 0.2
             }
            },
            "type": "bar"
           }
          ],
          "barpolar": [
           {
            "marker": {
             "line": {
              "color": "#E5ECF6",
              "width": 0.5
             },
             "pattern": {
              "fillmode": "overlay",
              "size": 10,
              "solidity": 0.2
             }
            },
            "type": "barpolar"
           }
          ],
          "carpet": [
           {
            "aaxis": {
             "endlinecolor": "#2a3f5f",
             "gridcolor": "white",
             "linecolor": "white",
             "minorgridcolor": "white",
             "startlinecolor": "#2a3f5f"
            },
            "baxis": {
             "endlinecolor": "#2a3f5f",
             "gridcolor": "white",
             "linecolor": "white",
             "minorgridcolor": "white",
             "startlinecolor": "#2a3f5f"
            },
            "type": "carpet"
           }
          ],
          "choropleth": [
           {
            "colorbar": {
             "outlinewidth": 0,
             "ticks": ""
            },
            "type": "choropleth"
           }
          ],
          "contour": [
           {
            "colorbar": {
             "outlinewidth": 0,
             "ticks": ""
            },
            "colorscale": [
             [
              0,
              "#0d0887"
             ],
             [
              0.1111111111111111,
              "#46039f"
             ],
             [
              0.2222222222222222,
              "#7201a8"
             ],
             [
              0.3333333333333333,
              "#9c179e"
             ],
             [
              0.4444444444444444,
              "#bd3786"
             ],
             [
              0.5555555555555556,
              "#d8576b"
             ],
             [
              0.6666666666666666,
              "#ed7953"
             ],
             [
              0.7777777777777778,
              "#fb9f3a"
             ],
             [
              0.8888888888888888,
              "#fdca26"
             ],
             [
              1,
              "#f0f921"
             ]
            ],
            "type": "contour"
           }
          ],
          "contourcarpet": [
           {
            "colorbar": {
             "outlinewidth": 0,
             "ticks": ""
            },
            "type": "contourcarpet"
           }
          ],
          "heatmap": [
           {
            "colorbar": {
             "outlinewidth": 0,
             "ticks": ""
            },
            "colorscale": [
             [
              0,
              "#0d0887"
             ],
             [
              0.1111111111111111,
              "#46039f"
             ],
             [
              0.2222222222222222,
              "#7201a8"
             ],
             [
              0.3333333333333333,
              "#9c179e"
             ],
             [
              0.4444444444444444,
              "#bd3786"
             ],
             [
              0.5555555555555556,
              "#d8576b"
             ],
             [
              0.6666666666666666,
              "#ed7953"
             ],
             [
              0.7777777777777778,
              "#fb9f3a"
             ],
             [
              0.8888888888888888,
              "#fdca26"
             ],
             [
              1,
              "#f0f921"
             ]
            ],
            "type": "heatmap"
           }
          ],
          "heatmapgl": [
           {
            "colorbar": {
             "outlinewidth": 0,
             "ticks": ""
            },
            "colorscale": [
             [
              0,
              "#0d0887"
             ],
             [
              0.1111111111111111,
              "#46039f"
             ],
             [
              0.2222222222222222,
              "#7201a8"
             ],
             [
              0.3333333333333333,
              "#9c179e"
             ],
             [
              0.4444444444444444,
              "#bd3786"
             ],
             [
              0.5555555555555556,
              "#d8576b"
             ],
             [
              0.6666666666666666,
              "#ed7953"
             ],
             [
              0.7777777777777778,
              "#fb9f3a"
             ],
             [
              0.8888888888888888,
              "#fdca26"
             ],
             [
              1,
              "#f0f921"
             ]
            ],
            "type": "heatmapgl"
           }
          ],
          "histogram": [
           {
            "marker": {
             "pattern": {
              "fillmode": "overlay",
              "size": 10,
              "solidity": 0.2
             }
            },
            "type": "histogram"
           }
          ],
          "histogram2d": [
           {
            "colorbar": {
             "outlinewidth": 0,
             "ticks": ""
            },
            "colorscale": [
             [
              0,
              "#0d0887"
             ],
             [
              0.1111111111111111,
              "#46039f"
             ],
             [
              0.2222222222222222,
              "#7201a8"
             ],
             [
              0.3333333333333333,
              "#9c179e"
             ],
             [
              0.4444444444444444,
              "#bd3786"
             ],
             [
              0.5555555555555556,
              "#d8576b"
             ],
             [
              0.6666666666666666,
              "#ed7953"
             ],
             [
              0.7777777777777778,
              "#fb9f3a"
             ],
             [
              0.8888888888888888,
              "#fdca26"
             ],
             [
              1,
              "#f0f921"
             ]
            ],
            "type": "histogram2d"
           }
          ],
          "histogram2dcontour": [
           {
            "colorbar": {
             "outlinewidth": 0,
             "ticks": ""
            },
            "colorscale": [
             [
              0,
              "#0d0887"
             ],
             [
              0.1111111111111111,
              "#46039f"
             ],
             [
              0.2222222222222222,
              "#7201a8"
             ],
             [
              0.3333333333333333,
              "#9c179e"
             ],
             [
              0.4444444444444444,
              "#bd3786"
             ],
             [
              0.5555555555555556,
              "#d8576b"
             ],
             [
              0.6666666666666666,
              "#ed7953"
             ],
             [
              0.7777777777777778,
              "#fb9f3a"
             ],
             [
              0.8888888888888888,
              "#fdca26"
             ],
             [
              1,
              "#f0f921"
             ]
            ],
            "type": "histogram2dcontour"
           }
          ],
          "mesh3d": [
           {
            "colorbar": {
             "outlinewidth": 0,
             "ticks": ""
            },
            "type": "mesh3d"
           }
          ],
          "parcoords": [
           {
            "line": {
             "colorbar": {
              "outlinewidth": 0,
              "ticks": ""
             }
            },
            "type": "parcoords"
           }
          ],
          "pie": [
           {
            "automargin": true,
            "type": "pie"
           }
          ],
          "scatter": [
           {
            "fillpattern": {
             "fillmode": "overlay",
             "size": 10,
             "solidity": 0.2
            },
            "type": "scatter"
           }
          ],
          "scatter3d": [
           {
            "line": {
             "colorbar": {
              "outlinewidth": 0,
              "ticks": ""
             }
            },
            "marker": {
             "colorbar": {
              "outlinewidth": 0,
              "ticks": ""
             }
            },
            "type": "scatter3d"
           }
          ],
          "scattercarpet": [
           {
            "marker": {
             "colorbar": {
              "outlinewidth": 0,
              "ticks": ""
             }
            },
            "type": "scattercarpet"
           }
          ],
          "scattergeo": [
           {
            "marker": {
             "colorbar": {
              "outlinewidth": 0,
              "ticks": ""
             }
            },
            "type": "scattergeo"
           }
          ],
          "scattergl": [
           {
            "marker": {
             "colorbar": {
              "outlinewidth": 0,
              "ticks": ""
             }
            },
            "type": "scattergl"
           }
          ],
          "scattermapbox": [
           {
            "marker": {
             "colorbar": {
              "outlinewidth": 0,
              "ticks": ""
             }
            },
            "type": "scattermapbox"
           }
          ],
          "scatterpolar": [
           {
            "marker": {
             "colorbar": {
              "outlinewidth": 0,
              "ticks": ""
             }
            },
            "type": "scatterpolar"
           }
          ],
          "scatterpolargl": [
           {
            "marker": {
             "colorbar": {
              "outlinewidth": 0,
              "ticks": ""
             }
            },
            "type": "scatterpolargl"
           }
          ],
          "scatterternary": [
           {
            "marker": {
             "colorbar": {
              "outlinewidth": 0,
              "ticks": ""
             }
            },
            "type": "scatterternary"
           }
          ],
          "surface": [
           {
            "colorbar": {
             "outlinewidth": 0,
             "ticks": ""
            },
            "colorscale": [
             [
              0,
              "#0d0887"
             ],
             [
              0.1111111111111111,
              "#46039f"
             ],
             [
              0.2222222222222222,
              "#7201a8"
             ],
             [
              0.3333333333333333,
              "#9c179e"
             ],
             [
              0.4444444444444444,
              "#bd3786"
             ],
             [
              0.5555555555555556,
              "#d8576b"
             ],
             [
              0.6666666666666666,
              "#ed7953"
             ],
             [
              0.7777777777777778,
              "#fb9f3a"
             ],
             [
              0.8888888888888888,
              "#fdca26"
             ],
             [
              1,
              "#f0f921"
             ]
            ],
            "type": "surface"
           }
          ],
          "table": [
           {
            "cells": {
             "fill": {
              "color": "#EBF0F8"
             },
             "line": {
              "color": "white"
             }
            },
            "header": {
             "fill": {
              "color": "#C8D4E3"
             },
             "line": {
              "color": "white"
             }
            },
            "type": "table"
           }
          ]
         },
         "layout": {
          "annotationdefaults": {
           "arrowcolor": "#2a3f5f",
           "arrowhead": 0,
           "arrowwidth": 1
          },
          "autotypenumbers": "strict",
          "coloraxis": {
           "colorbar": {
            "outlinewidth": 0,
            "ticks": ""
           }
          },
          "colorscale": {
           "diverging": [
            [
             0,
             "#8e0152"
            ],
            [
             0.1,
             "#c51b7d"
            ],
            [
             0.2,
             "#de77ae"
            ],
            [
             0.3,
             "#f1b6da"
            ],
            [
             0.4,
             "#fde0ef"
            ],
            [
             0.5,
             "#f7f7f7"
            ],
            [
             0.6,
             "#e6f5d0"
            ],
            [
             0.7,
             "#b8e186"
            ],
            [
             0.8,
             "#7fbc41"
            ],
            [
             0.9,
             "#4d9221"
            ],
            [
             1,
             "#276419"
            ]
           ],
           "sequential": [
            [
             0,
             "#0d0887"
            ],
            [
             0.1111111111111111,
             "#46039f"
            ],
            [
             0.2222222222222222,
             "#7201a8"
            ],
            [
             0.3333333333333333,
             "#9c179e"
            ],
            [
             0.4444444444444444,
             "#bd3786"
            ],
            [
             0.5555555555555556,
             "#d8576b"
            ],
            [
             0.6666666666666666,
             "#ed7953"
            ],
            [
             0.7777777777777778,
             "#fb9f3a"
            ],
            [
             0.8888888888888888,
             "#fdca26"
            ],
            [
             1,
             "#f0f921"
            ]
           ],
           "sequentialminus": [
            [
             0,
             "#0d0887"
            ],
            [
             0.1111111111111111,
             "#46039f"
            ],
            [
             0.2222222222222222,
             "#7201a8"
            ],
            [
             0.3333333333333333,
             "#9c179e"
            ],
            [
             0.4444444444444444,
             "#bd3786"
            ],
            [
             0.5555555555555556,
             "#d8576b"
            ],
            [
             0.6666666666666666,
             "#ed7953"
            ],
            [
             0.7777777777777778,
             "#fb9f3a"
            ],
            [
             0.8888888888888888,
             "#fdca26"
            ],
            [
             1,
             "#f0f921"
            ]
           ]
          },
          "colorway": [
           "#636efa",
           "#EF553B",
           "#00cc96",
           "#ab63fa",
           "#FFA15A",
           "#19d3f3",
           "#FF6692",
           "#B6E880",
           "#FF97FF",
           "#FECB52"
          ],
          "font": {
           "color": "#2a3f5f"
          },
          "geo": {
           "bgcolor": "white",
           "lakecolor": "white",
           "landcolor": "#E5ECF6",
           "showlakes": true,
           "showland": true,
           "subunitcolor": "white"
          },
          "hoverlabel": {
           "align": "left"
          },
          "hovermode": "closest",
          "mapbox": {
           "style": "light"
          },
          "paper_bgcolor": "white",
          "plot_bgcolor": "#E5ECF6",
          "polar": {
           "angularaxis": {
            "gridcolor": "white",
            "linecolor": "white",
            "ticks": ""
           },
           "bgcolor": "#E5ECF6",
           "radialaxis": {
            "gridcolor": "white",
            "linecolor": "white",
            "ticks": ""
           }
          },
          "scene": {
           "xaxis": {
            "backgroundcolor": "#E5ECF6",
            "gridcolor": "white",
            "gridwidth": 2,
            "linecolor": "white",
            "showbackground": true,
            "ticks": "",
            "zerolinecolor": "white"
           },
           "yaxis": {
            "backgroundcolor": "#E5ECF6",
            "gridcolor": "white",
            "gridwidth": 2,
            "linecolor": "white",
            "showbackground": true,
            "ticks": "",
            "zerolinecolor": "white"
           },
           "zaxis": {
            "backgroundcolor": "#E5ECF6",
            "gridcolor": "white",
            "gridwidth": 2,
            "linecolor": "white",
            "showbackground": true,
            "ticks": "",
            "zerolinecolor": "white"
           }
          },
          "shapedefaults": {
           "line": {
            "color": "#2a3f5f"
           }
          },
          "ternary": {
           "aaxis": {
            "gridcolor": "white",
            "linecolor": "white",
            "ticks": ""
           },
           "baxis": {
            "gridcolor": "white",
            "linecolor": "white",
            "ticks": ""
           },
           "bgcolor": "#E5ECF6",
           "caxis": {
            "gridcolor": "white",
            "linecolor": "white",
            "ticks": ""
           }
          },
          "title": {
           "x": 0.05
          },
          "xaxis": {
           "automargin": true,
           "gridcolor": "white",
           "linecolor": "white",
           "ticks": "",
           "title": {
            "standoff": 15
           },
           "zerolinecolor": "white",
           "zerolinewidth": 2
          },
          "yaxis": {
           "automargin": true,
           "gridcolor": "white",
           "linecolor": "white",
           "ticks": "",
           "title": {
            "standoff": 15
           },
           "zerolinecolor": "white",
           "zerolinewidth": 2
          }
         }
        }
       }
      },
      "text/html": [
       "<div>                            <div id=\"27992f13-a612-45d6-bd27-a58fefc46e54\" class=\"plotly-graph-div\" style=\"height:525px; width:100%;\"></div>            <script type=\"text/javascript\">                require([\"plotly\"], function(Plotly) {                    window.PLOTLYENV=window.PLOTLYENV || {};                                    if (document.getElementById(\"27992f13-a612-45d6-bd27-a58fefc46e54\")) {                    Plotly.newPlot(                        \"27992f13-a612-45d6-bd27-a58fefc46e54\",                        [{\"close\":[140.9375,141.0625,143.1875,142.59375,142.375,144.3125,141.28125,141.5625,138.6875,139.5,141.078125,139.0,138.28125,135.3125,134.96875,136.5625,133.8125,133.328125,136.125,137.4375,138.4375,138.53125,141.125,139.75,137.046875,136.875,140.875,140.125,138.59375,136.625,139.8125,146.34375,146.9375,146.1875,149.1875,150.09375,152.65625,153.5625,151.9375,151.0625,151.21875,148.6875,150.375,151.25,150.125,149.1875,150.484375,151.4375,150.84375,150.40625,146.28125,144.25,136.0,140.75,144.46875,143.125,143.8125,142.25,148.15625,146.484375,146.0,145.09375,147.0625,144.125,140.75,141.8125,143.53125,142.453125,141.3125,138.125,141.28125,142.8125,145.28125,146.6875,145.15625,143.375,141.125,140.0625,138.0,140.25,137.84375,138.0,142.5,142.8125,145.3125,147.84375,147.125,146.46875,147.484375,146.90625,146.59375,144.875,147.59375,147.84375,148.15625,146.59375,148.46875,147.9375,147.875,145.625,144.375,146.234375,145.15625,145.5625,144.1875,145.28125,147.28125,144.625,145.75,148.09375,147.84375,148.15625,149.125,149.78125,151.25,151.0,149.765625,148.5625,150.625,147.6875,146.84375,147.3125,145.875,145.375,142.09375,143.0,143.875,144.59375,145.59375,146.375,148.125,148.6875,147.4375,146.71875,147.40625,149.28125,149.15625,148.625,150.1875,149.6875,150.5,150.25,150.84375,151.3125,151.25,151.765625,151.796875,150.34375],\"high\":[141.6875,142.25,143.25,144.0,142.78125,144.5625,144.46875,142.5625,141.9375,139.78125,141.21875,140.9375,140.4375,138.875,136.34375,137.46875,137.03125,136.71875,136.6875,137.4375,139.0,139.125,141.71875,141.34375,140.15625,137.84375,140.875,142.0,140.46875,140.09375,140.4375,146.84375,148.0,147.34375,149.75,150.84375,153.46875,155.75,153.78125,152.984375,152.484375,151.921875,152.3125,151.25,153.0,150.8125,151.6875,152.125,153.109375,151.625,151.15625,148.15625,142.8125,140.75,144.46875,145.125,143.9375,143.3125,148.15625,148.75,147.34375,147.859375,148.484375,147.125,144.0,142.359375,144.0,143.375,143.40625,140.96875,141.5,143.46875,145.609375,147.71875,146.1875,146.3125,143.234375,141.46875,140.8125,140.6875,141.8125,139.6875,142.9375,144.0,145.4375,149.09375,148.21875,147.78125,148.0,147.75,147.96875,146.96875,147.75,148.875,148.75,148.3125,149.15625,148.875,148.4375,147.6875,146.125,146.25,146.71875,146.984375,145.75,145.59375,147.4375,146.65625,146.46875,148.78125,148.90625,149.125,150.125,150.375,151.25,151.984375,150.625,149.90625,150.625,149.75,148.859375,147.84375,147.15625,146.625,145.90625,144.125,144.71875,145.40625,145.8125,146.71875,148.4375,148.8125,149.21875,147.859375,148.0,149.5625,149.8125,149.9375,150.4375,150.375,150.71875,151.3125,151.28125,151.5,151.625,152.90625,151.875,151.5],\"low\":[138.53125,140.375,140.0,142.125,141.4375,143.625,141.265625,140.875,138.03125,138.3125,137.796875,138.796875,138.21875,134.625,133.53125,134.5,133.09375,133.125,132.71875,135.75,137.21875,137.34375,139.71875,138.75,135.21875,135.03125,136.125,139.53125,135.6875,136.15625,136.0625,140.875,145.4375,144.78125,144.5,148.6875,149.15625,151.71875,151.8125,150.59375,149.65625,147.125,148.4375,148.6875,141.390625,147.625,149.0,150.5,150.3125,148.375,146.15625,143.78125,133.5,134.6875,139.78125,142.53125,142.375,140.5,144.4375,146.0,143.0,145.0625,145.84375,144.125,139.78125,140.75,140.9375,141.84375,140.265625,137.75,139.125,141.625,142.0,145.3125,144.46875,143.375,140.40625,137.0,137.5625,136.5,137.71875,137.328125,139.46875,142.09375,143.0,147.484375,146.875,145.90625,146.0,146.0625,145.625,144.875,144.625,147.1875,146.84375,145.875,146.25,147.0,146.890625,145.0,143.875,144.875,145.015625,145.3125,143.515625,143.890625,145.1875,144.375,144.21875,146.25,147.53125,147.15625,148.6875,149.1875,149.671875,150.6875,149.34375,148.25,148.8125,147.6875,146.5625,146.78125,145.640625,144.6875,141.515625,142.0625,143.125,143.625,142.625,145.40625,146.375,147.5,147.375,146.28125,145.5625,147.0625,148.5625,147.84375,148.34375,149.21875,149.40625,150.09375,149.28125,150.5,150.9375,151.25,150.90625,150.34375],\"open\":[139.75,141.28125,140.875,143.1875,142.5625,143.96875,144.46875,141.625,141.84375,139.78125,139.25,140.375,140.4375,138.875,135.1875,135.625,136.6875,135.1875,133.375,136.0625,137.625,138.6875,140.4375,140.8125,140.0,136.46875,137.25,140.1875,136.6875,139.28125,136.875,141.625,145.8125,146.875,145.53125,149.5625,149.15625,152.875,153.375,151.25,151.5625,150.15625,149.625,150.125,151.75,147.875,150.25,151.5625,151.75,150.0,150.375,147.46875,142.625,135.1875,140.5625,144.5,143.5625,141.5,144.625,147.96875,143.0,147.0,146.5625,145.5,144.0,142.0,141.0625,142.75,143.0625,140.5,140.125,141.8125,142.75,146.5625,145.6875,145.625,142.5625,141.25,140.4375,138.0,140.6875,138.8125,140.0,142.5625,143.6875,148.9375,147.46875,146.625,146.625,147.5,147.5,146.96875,144.8125,148.25,148.125,148.3125,146.46875,148.1875,146.9375,147.5625,145.8125,145.375,145.984375,145.625,144.75,143.9375,145.4375,146.375,144.9375,146.6875,147.875,147.46875,149.28125,149.984375,150.4375,150.984375,150.625,149.46875,149.0,149.75,148.125,147.75,146.96875,145.9375,145.71875,142.9375,143.625,143.875,142.875,146.3125,146.71875,147.5,149.140625,147.53125,146.625,147.78125,149.34375,149.3125,148.6875,150.375,150.03125,150.5625,149.8125,151.15625,151.15625,151.25,151.4375,151.3125],\"x\":[\"2000-02-01T00:00:00-05:00\",\"2000-02-02T00:00:00-05:00\",\"2000-02-03T00:00:00-05:00\",\"2000-02-04T00:00:00-05:00\",\"2000-02-07T00:00:00-05:00\",\"2000-02-08T00:00:00-05:00\",\"2000-02-09T00:00:00-05:00\",\"2000-02-10T00:00:00-05:00\",\"2000-02-11T00:00:00-05:00\",\"2000-02-14T00:00:00-05:00\",\"2000-02-15T00:00:00-05:00\",\"2000-02-16T00:00:00-05:00\",\"2000-02-17T00:00:00-05:00\",\"2000-02-18T00:00:00-05:00\",\"2000-02-22T00:00:00-05:00\",\"2000-02-23T00:00:00-05:00\",\"2000-02-24T00:00:00-05:00\",\"2000-02-25T00:00:00-05:00\",\"2000-02-28T00:00:00-05:00\",\"2000-02-29T00:00:00-05:00\",\"2000-03-01T00:00:00-05:00\",\"2000-03-02T00:00:00-05:00\",\"2000-03-03T00:00:00-05:00\",\"2000-03-06T00:00:00-05:00\",\"2000-03-07T00:00:00-05:00\",\"2000-03-08T00:00:00-05:00\",\"2000-03-09T00:00:00-05:00\",\"2000-03-10T00:00:00-05:00\",\"2000-03-13T00:00:00-05:00\",\"2000-03-14T00:00:00-05:00\",\"2000-03-15T00:00:00-05:00\",\"2000-03-16T00:00:00-05:00\",\"2000-03-17T00:00:00-05:00\",\"2000-03-20T00:00:00-05:00\",\"2000-03-21T00:00:00-05:00\",\"2000-03-22T00:00:00-05:00\",\"2000-03-23T00:00:00-05:00\",\"2000-03-24T00:00:00-05:00\",\"2000-03-27T00:00:00-05:00\",\"2000-03-28T00:00:00-05:00\",\"2000-03-29T00:00:00-05:00\",\"2000-03-30T00:00:00-05:00\",\"2000-03-31T00:00:00-05:00\",\"2000-04-03T00:00:00-04:00\",\"2000-04-04T00:00:00-04:00\",\"2000-04-05T00:00:00-04:00\",\"2000-04-06T00:00:00-04:00\",\"2000-04-07T00:00:00-04:00\",\"2000-04-10T00:00:00-04:00\",\"2000-04-11T00:00:00-04:00\",\"2000-04-12T00:00:00-04:00\",\"2000-04-13T00:00:00-04:00\",\"2000-04-14T00:00:00-04:00\",\"2000-04-17T00:00:00-04:00\",\"2000-04-18T00:00:00-04:00\",\"2000-04-19T00:00:00-04:00\",\"2000-04-20T00:00:00-04:00\",\"2000-04-24T00:00:00-04:00\",\"2000-04-25T00:00:00-04:00\",\"2000-04-26T00:00:00-04:00\",\"2000-04-27T00:00:00-04:00\",\"2000-04-28T00:00:00-04:00\",\"2000-05-01T00:00:00-04:00\",\"2000-05-02T00:00:00-04:00\",\"2000-05-03T00:00:00-04:00\",\"2000-05-04T00:00:00-04:00\",\"2000-05-05T00:00:00-04:00\",\"2000-05-08T00:00:00-04:00\",\"2000-05-09T00:00:00-04:00\",\"2000-05-10T00:00:00-04:00\",\"2000-05-11T00:00:00-04:00\",\"2000-05-12T00:00:00-04:00\",\"2000-05-15T00:00:00-04:00\",\"2000-05-16T00:00:00-04:00\",\"2000-05-17T00:00:00-04:00\",\"2000-05-18T00:00:00-04:00\",\"2000-05-19T00:00:00-04:00\",\"2000-05-22T00:00:00-04:00\",\"2000-05-23T00:00:00-04:00\",\"2000-05-24T00:00:00-04:00\",\"2000-05-25T00:00:00-04:00\",\"2000-05-26T00:00:00-04:00\",\"2000-05-30T00:00:00-04:00\",\"2000-05-31T00:00:00-04:00\",\"2000-06-01T00:00:00-04:00\",\"2000-06-02T00:00:00-04:00\",\"2000-06-05T00:00:00-04:00\",\"2000-06-06T00:00:00-04:00\",\"2000-06-07T00:00:00-04:00\",\"2000-06-08T00:00:00-04:00\",\"2000-06-09T00:00:00-04:00\",\"2000-06-12T00:00:00-04:00\",\"2000-06-13T00:00:00-04:00\",\"2000-06-14T00:00:00-04:00\",\"2000-06-15T00:00:00-04:00\",\"2000-06-16T00:00:00-04:00\",\"2000-06-19T00:00:00-04:00\",\"2000-06-20T00:00:00-04:00\",\"2000-06-21T00:00:00-04:00\",\"2000-06-22T00:00:00-04:00\",\"2000-06-23T00:00:00-04:00\",\"2000-06-26T00:00:00-04:00\",\"2000-06-27T00:00:00-04:00\",\"2000-06-28T00:00:00-04:00\",\"2000-06-29T00:00:00-04:00\",\"2000-06-30T00:00:00-04:00\",\"2000-07-03T00:00:00-04:00\",\"2000-07-05T00:00:00-04:00\",\"2000-07-06T00:00:00-04:00\",\"2000-07-07T00:00:00-04:00\",\"2000-07-10T00:00:00-04:00\",\"2000-07-11T00:00:00-04:00\",\"2000-07-12T00:00:00-04:00\",\"2000-07-13T00:00:00-04:00\",\"2000-07-14T00:00:00-04:00\",\"2000-07-17T00:00:00-04:00\",\"2000-07-18T00:00:00-04:00\",\"2000-07-19T00:00:00-04:00\",\"2000-07-20T00:00:00-04:00\",\"2000-07-21T00:00:00-04:00\",\"2000-07-24T00:00:00-04:00\",\"2000-07-25T00:00:00-04:00\",\"2000-07-26T00:00:00-04:00\",\"2000-07-27T00:00:00-04:00\",\"2000-07-28T00:00:00-04:00\",\"2000-07-31T00:00:00-04:00\",\"2000-08-01T00:00:00-04:00\",\"2000-08-02T00:00:00-04:00\",\"2000-08-03T00:00:00-04:00\",\"2000-08-04T00:00:00-04:00\",\"2000-08-07T00:00:00-04:00\",\"2000-08-08T00:00:00-04:00\",\"2000-08-09T00:00:00-04:00\",\"2000-08-10T00:00:00-04:00\",\"2000-08-11T00:00:00-04:00\",\"2000-08-14T00:00:00-04:00\",\"2000-08-15T00:00:00-04:00\",\"2000-08-16T00:00:00-04:00\",\"2000-08-17T00:00:00-04:00\",\"2000-08-18T00:00:00-04:00\",\"2000-08-21T00:00:00-04:00\",\"2000-08-22T00:00:00-04:00\",\"2000-08-23T00:00:00-04:00\",\"2000-08-24T00:00:00-04:00\",\"2000-08-25T00:00:00-04:00\",\"2000-08-28T00:00:00-04:00\",\"2000-08-29T00:00:00-04:00\",\"2000-08-30T00:00:00-04:00\"],\"type\":\"candlestick\"}],                        {\"template\":{\"data\":{\"histogram2dcontour\":[{\"type\":\"histogram2dcontour\",\"colorbar\":{\"outlinewidth\":0,\"ticks\":\"\"},\"colorscale\":[[0.0,\"#0d0887\"],[0.1111111111111111,\"#46039f\"],[0.2222222222222222,\"#7201a8\"],[0.3333333333333333,\"#9c179e\"],[0.4444444444444444,\"#bd3786\"],[0.5555555555555556,\"#d8576b\"],[0.6666666666666666,\"#ed7953\"],[0.7777777777777778,\"#fb9f3a\"],[0.8888888888888888,\"#fdca26\"],[1.0,\"#f0f921\"]]}],\"choropleth\":[{\"type\":\"choropleth\",\"colorbar\":{\"outlinewidth\":0,\"ticks\":\"\"}}],\"histogram2d\":[{\"type\":\"histogram2d\",\"colorbar\":{\"outlinewidth\":0,\"ticks\":\"\"},\"colorscale\":[[0.0,\"#0d0887\"],[0.1111111111111111,\"#46039f\"],[0.2222222222222222,\"#7201a8\"],[0.3333333333333333,\"#9c179e\"],[0.4444444444444444,\"#bd3786\"],[0.5555555555555556,\"#d8576b\"],[0.6666666666666666,\"#ed7953\"],[0.7777777777777778,\"#fb9f3a\"],[0.8888888888888888,\"#fdca26\"],[1.0,\"#f0f921\"]]}],\"heatmap\":[{\"type\":\"heatmap\",\"colorbar\":{\"outlinewidth\":0,\"ticks\":\"\"},\"colorscale\":[[0.0,\"#0d0887\"],[0.1111111111111111,\"#46039f\"],[0.2222222222222222,\"#7201a8\"],[0.3333333333333333,\"#9c179e\"],[0.4444444444444444,\"#bd3786\"],[0.5555555555555556,\"#d8576b\"],[0.6666666666666666,\"#ed7953\"],[0.7777777777777778,\"#fb9f3a\"],[0.8888888888888888,\"#fdca26\"],[1.0,\"#f0f921\"]]}],\"heatmapgl\":[{\"type\":\"heatmapgl\",\"colorbar\":{\"outlinewidth\":0,\"ticks\":\"\"},\"colorscale\":[[0.0,\"#0d0887\"],[0.1111111111111111,\"#46039f\"],[0.2222222222222222,\"#7201a8\"],[0.3333333333333333,\"#9c179e\"],[0.4444444444444444,\"#bd3786\"],[0.5555555555555556,\"#d8576b\"],[0.6666666666666666,\"#ed7953\"],[0.7777777777777778,\"#fb9f3a\"],[0.8888888888888888,\"#fdca26\"],[1.0,\"#f0f921\"]]}],\"contourcarpet\":[{\"type\":\"contourcarpet\",\"colorbar\":{\"outlinewidth\":0,\"ticks\":\"\"}}],\"contour\":[{\"type\":\"contour\",\"colorbar\":{\"outlinewidth\":0,\"ticks\":\"\"},\"colorscale\":[[0.0,\"#0d0887\"],[0.1111111111111111,\"#46039f\"],[0.2222222222222222,\"#7201a8\"],[0.3333333333333333,\"#9c179e\"],[0.4444444444444444,\"#bd3786\"],[0.5555555555555556,\"#d8576b\"],[0.6666666666666666,\"#ed7953\"],[0.7777777777777778,\"#fb9f3a\"],[0.8888888888888888,\"#fdca26\"],[1.0,\"#f0f921\"]]}],\"surface\":[{\"type\":\"surface\",\"colorbar\":{\"outlinewidth\":0,\"ticks\":\"\"},\"colorscale\":[[0.0,\"#0d0887\"],[0.1111111111111111,\"#46039f\"],[0.2222222222222222,\"#7201a8\"],[0.3333333333333333,\"#9c179e\"],[0.4444444444444444,\"#bd3786\"],[0.5555555555555556,\"#d8576b\"],[0.6666666666666666,\"#ed7953\"],[0.7777777777777778,\"#fb9f3a\"],[0.8888888888888888,\"#fdca26\"],[1.0,\"#f0f921\"]]}],\"mesh3d\":[{\"type\":\"mesh3d\",\"colorbar\":{\"outlinewidth\":0,\"ticks\":\"\"}}],\"scatter\":[{\"fillpattern\":{\"fillmode\":\"overlay\",\"size\":10,\"solidity\":0.2},\"type\":\"scatter\"}],\"parcoords\":[{\"type\":\"parcoords\",\"line\":{\"colorbar\":{\"outlinewidth\":0,\"ticks\":\"\"}}}],\"scatterpolargl\":[{\"type\":\"scatterpolargl\",\"marker\":{\"colorbar\":{\"outlinewidth\":0,\"ticks\":\"\"}}}],\"bar\":[{\"error_x\":{\"color\":\"#2a3f5f\"},\"error_y\":{\"color\":\"#2a3f5f\"},\"marker\":{\"line\":{\"color\":\"#E5ECF6\",\"width\":0.5},\"pattern\":{\"fillmode\":\"overlay\",\"size\":10,\"solidity\":0.2}},\"type\":\"bar\"}],\"scattergeo\":[{\"type\":\"scattergeo\",\"marker\":{\"colorbar\":{\"outlinewidth\":0,\"ticks\":\"\"}}}],\"scatterpolar\":[{\"type\":\"scatterpolar\",\"marker\":{\"colorbar\":{\"outlinewidth\":0,\"ticks\":\"\"}}}],\"histogram\":[{\"marker\":{\"pattern\":{\"fillmode\":\"overlay\",\"size\":10,\"solidity\":0.2}},\"type\":\"histogram\"}],\"scattergl\":[{\"type\":\"scattergl\",\"marker\":{\"colorbar\":{\"outlinewidth\":0,\"ticks\":\"\"}}}],\"scatter3d\":[{\"type\":\"scatter3d\",\"line\":{\"colorbar\":{\"outlinewidth\":0,\"ticks\":\"\"}},\"marker\":{\"colorbar\":{\"outlinewidth\":0,\"ticks\":\"\"}}}],\"scattermapbox\":[{\"type\":\"scattermapbox\",\"marker\":{\"colorbar\":{\"outlinewidth\":0,\"ticks\":\"\"}}}],\"scatterternary\":[{\"type\":\"scatterternary\",\"marker\":{\"colorbar\":{\"outlinewidth\":0,\"ticks\":\"\"}}}],\"scattercarpet\":[{\"type\":\"scattercarpet\",\"marker\":{\"colorbar\":{\"outlinewidth\":0,\"ticks\":\"\"}}}],\"carpet\":[{\"aaxis\":{\"endlinecolor\":\"#2a3f5f\",\"gridcolor\":\"white\",\"linecolor\":\"white\",\"minorgridcolor\":\"white\",\"startlinecolor\":\"#2a3f5f\"},\"baxis\":{\"endlinecolor\":\"#2a3f5f\",\"gridcolor\":\"white\",\"linecolor\":\"white\",\"minorgridcolor\":\"white\",\"startlinecolor\":\"#2a3f5f\"},\"type\":\"carpet\"}],\"table\":[{\"cells\":{\"fill\":{\"color\":\"#EBF0F8\"},\"line\":{\"color\":\"white\"}},\"header\":{\"fill\":{\"color\":\"#C8D4E3\"},\"line\":{\"color\":\"white\"}},\"type\":\"table\"}],\"barpolar\":[{\"marker\":{\"line\":{\"color\":\"#E5ECF6\",\"width\":0.5},\"pattern\":{\"fillmode\":\"overlay\",\"size\":10,\"solidity\":0.2}},\"type\":\"barpolar\"}],\"pie\":[{\"automargin\":true,\"type\":\"pie\"}]},\"layout\":{\"autotypenumbers\":\"strict\",\"colorway\":[\"#636efa\",\"#EF553B\",\"#00cc96\",\"#ab63fa\",\"#FFA15A\",\"#19d3f3\",\"#FF6692\",\"#B6E880\",\"#FF97FF\",\"#FECB52\"],\"font\":{\"color\":\"#2a3f5f\"},\"hovermode\":\"closest\",\"hoverlabel\":{\"align\":\"left\"},\"paper_bgcolor\":\"white\",\"plot_bgcolor\":\"#E5ECF6\",\"polar\":{\"bgcolor\":\"#E5ECF6\",\"angularaxis\":{\"gridcolor\":\"white\",\"linecolor\":\"white\",\"ticks\":\"\"},\"radialaxis\":{\"gridcolor\":\"white\",\"linecolor\":\"white\",\"ticks\":\"\"}},\"ternary\":{\"bgcolor\":\"#E5ECF6\",\"aaxis\":{\"gridcolor\":\"white\",\"linecolor\":\"white\",\"ticks\":\"\"},\"baxis\":{\"gridcolor\":\"white\",\"linecolor\":\"white\",\"ticks\":\"\"},\"caxis\":{\"gridcolor\":\"white\",\"linecolor\":\"white\",\"ticks\":\"\"}},\"coloraxis\":{\"colorbar\":{\"outlinewidth\":0,\"ticks\":\"\"}},\"colorscale\":{\"sequential\":[[0.0,\"#0d0887\"],[0.1111111111111111,\"#46039f\"],[0.2222222222222222,\"#7201a8\"],[0.3333333333333333,\"#9c179e\"],[0.4444444444444444,\"#bd3786\"],[0.5555555555555556,\"#d8576b\"],[0.6666666666666666,\"#ed7953\"],[0.7777777777777778,\"#fb9f3a\"],[0.8888888888888888,\"#fdca26\"],[1.0,\"#f0f921\"]],\"sequentialminus\":[[0.0,\"#0d0887\"],[0.1111111111111111,\"#46039f\"],[0.2222222222222222,\"#7201a8\"],[0.3333333333333333,\"#9c179e\"],[0.4444444444444444,\"#bd3786\"],[0.5555555555555556,\"#d8576b\"],[0.6666666666666666,\"#ed7953\"],[0.7777777777777778,\"#fb9f3a\"],[0.8888888888888888,\"#fdca26\"],[1.0,\"#f0f921\"]],\"diverging\":[[0,\"#8e0152\"],[0.1,\"#c51b7d\"],[0.2,\"#de77ae\"],[0.3,\"#f1b6da\"],[0.4,\"#fde0ef\"],[0.5,\"#f7f7f7\"],[0.6,\"#e6f5d0\"],[0.7,\"#b8e186\"],[0.8,\"#7fbc41\"],[0.9,\"#4d9221\"],[1,\"#276419\"]]},\"xaxis\":{\"gridcolor\":\"white\",\"linecolor\":\"white\",\"ticks\":\"\",\"title\":{\"standoff\":15},\"zerolinecolor\":\"white\",\"automargin\":true,\"zerolinewidth\":2},\"yaxis\":{\"gridcolor\":\"white\",\"linecolor\":\"white\",\"ticks\":\"\",\"title\":{\"standoff\":15},\"zerolinecolor\":\"white\",\"automargin\":true,\"zerolinewidth\":2},\"scene\":{\"xaxis\":{\"backgroundcolor\":\"#E5ECF6\",\"gridcolor\":\"white\",\"linecolor\":\"white\",\"showbackground\":true,\"ticks\":\"\",\"zerolinecolor\":\"white\",\"gridwidth\":2},\"yaxis\":{\"backgroundcolor\":\"#E5ECF6\",\"gridcolor\":\"white\",\"linecolor\":\"white\",\"showbackground\":true,\"ticks\":\"\",\"zerolinecolor\":\"white\",\"gridwidth\":2},\"zaxis\":{\"backgroundcolor\":\"#E5ECF6\",\"gridcolor\":\"white\",\"linecolor\":\"white\",\"showbackground\":true,\"ticks\":\"\",\"zerolinecolor\":\"white\",\"gridwidth\":2}},\"shapedefaults\":{\"line\":{\"color\":\"#2a3f5f\"}},\"annotationdefaults\":{\"arrowcolor\":\"#2a3f5f\",\"arrowhead\":0,\"arrowwidth\":1},\"geo\":{\"bgcolor\":\"white\",\"landcolor\":\"#E5ECF6\",\"subunitcolor\":\"white\",\"showland\":true,\"showlakes\":true,\"lakecolor\":\"white\"},\"title\":{\"x\":0.05},\"mapbox\":{\"style\":\"light\"}}}},                        {\"responsive\": true}                    ).then(function(){\n",
       "                            \n",
       "var gd = document.getElementById('27992f13-a612-45d6-bd27-a58fefc46e54');\n",
       "var x = new MutationObserver(function (mutations, observer) {{\n",
       "        var display = window.getComputedStyle(gd).display;\n",
       "        if (!display || display === 'none') {{\n",
       "            console.log([gd, 'removed!']);\n",
       "            Plotly.purge(gd);\n",
       "            observer.disconnect();\n",
       "        }}\n",
       "}});\n",
       "\n",
       "// Listen for the removal of the full notebook cells\n",
       "var notebookContainer = gd.closest('#notebook-container');\n",
       "if (notebookContainer) {{\n",
       "    x.observe(notebookContainer, {childList: true});\n",
       "}}\n",
       "\n",
       "// Listen for the clearing of the current output cell\n",
       "var outputEl = gd.closest('.output');\n",
       "if (outputEl) {{\n",
       "    x.observe(outputEl, {childList: true});\n",
       "}}\n",
       "\n",
       "                        })                };                });            </script>        </div>"
      ]
     },
     "metadata": {},
     "output_type": "display_data"
    }
   ],
   "source": [
    "plot_candlestick('SPY','2000-02-01','2000-08-31')  # 실제로 4월 13일에 망치형인 것을 볼 수 있다.\n",
    "                       "
   ]
  },
  {
   "cell_type": "code",
   "execution_count": 45,
   "id": "c93ec3e6",
   "metadata": {},
   "outputs": [],
   "source": [
    "hanging_man =talib.CDLHANGINGMAN(data.Open, data.High, data.Low, data.Close)"
   ]
  },
  {
   "cell_type": "code",
   "execution_count": 46,
   "id": "6d069c76",
   "metadata": {},
   "outputs": [
    {
     "name": "stdout",
     "output_type": "stream",
     "text": [
      "Date\n",
      "2000-09-14 00:00:00-04:00   -100\n",
      "2000-11-27 00:00:00-05:00   -100\n",
      "2001-02-15 00:00:00-05:00   -100\n",
      "2001-03-23 00:00:00-05:00   -100\n",
      "2001-03-26 00:00:00-05:00   -100\n",
      "                            ... \n",
      "2022-03-25 00:00:00-04:00   -100\n",
      "2022-03-29 00:00:00-04:00   -100\n",
      "2022-05-17 00:00:00-04:00   -100\n",
      "2022-08-10 00:00:00-04:00   -100\n",
      "2022-11-18 00:00:00-05:00   -100\n",
      "Length: 195, dtype: int32\n"
     ]
    }
   ],
   "source": [
    "print(hanging_man[hanging_man==-100]) "
   ]
  },
  {
   "cell_type": "code",
   "execution_count": 63,
   "id": "407741d4",
   "metadata": {},
   "outputs": [
    {
     "name": "stdout",
     "output_type": "stream",
     "text": [
      "[*********************100%***********************]  1 of 1 completed\n"
     ]
    },
    {
     "data": {
      "application/vnd.plotly.v1+json": {
       "config": {
        "plotlyServerURL": "https://plot.ly"
       },
       "data": [
        {
         "close": [
          152.5,
          151.28125,
          149.5625,
          150.84375,
          149.8125,
          149.59375,
          148.5,
          148.890625,
          149.640625,
          146,
          144.65625,
          145.96875,
          144.890625,
          142.6875,
          145.28125,
          144.25,
          142.40625,
          143.15625,
          145,
          143.625,
          143.84375,
          142.5,
          143.6875,
          144.1875,
          141.0625,
          140,
          137.6875,
          136.53125,
          133.125,
          137.5625,
          138.1875,
          134.75,
          134.25,
          139.3125,
          139.90625,
          140.53125,
          139.59375,
          136.3125,
          136.6875,
          139.28125,
          140.53125,
          142.953125,
          142.46875,
          142.703125,
          142.78125,
          143.78125,
          143.75,
          140.5625,
          140.03125,
          136.625,
          135.5625,
          139.125,
          139.5625,
          137.375,
          136.640625,
          134.6875,
          135.375,
          132.140625,
          134.84375,
          136.03125,
          133.6875,
          133.4375,
          132.28125,
          132.21875,
          133.34375,
          137.71875,
          135.515625,
          133.65625,
          133.96875,
          138.625,
          138.03125,
          136.140625,
          134.40625,
          130.96875,
          132.71875,
          130.015625,
          126.25,
          127.125,
          130.9375,
          132.34375,
          133.3125,
          133.71875,
          131.1875
         ],
         "high": [
          153.59375,
          152.203125,
          151.953125,
          151.078125,
          150.5,
          151.1875,
          150.25,
          149.34375,
          149.9375,
          148.25,
          146.96875,
          146.3125,
          146.03125,
          145.5625,
          145.3125,
          146.0625,
          145,
          143.96875,
          146.328125,
          145.96875,
          144.90625,
          145.75,
          144.25,
          144.84375,
          144.640625,
          141.3125,
          141.25,
          138.625,
          137.59375,
          137.65625,
          138.234375,
          138.5625,
          136.125,
          139.453125,
          141.1875,
          141.03125,
          141.9375,
          139.5625,
          137.65625,
          139.28125,
          141.09375,
          143.6875,
          143.25,
          143.90625,
          143.75,
          144.296875,
          144,
          144.0625,
          141.21875,
          139.46875,
          136.984375,
          139.625,
          140.109375,
          139.875,
          139,
          136.375,
          136.1875,
          134.875,
          134.96875,
          136.6875,
          136.59375,
          135.90625,
          133.5,
          134.0625,
          133.875,
          138.25,
          138.34375,
          135.875,
          139.46875,
          139.5625,
          138.8125,
          139.40625,
          136.5,
          133.125,
          133.46875,
          134.96875,
          128.9375,
          128.859375,
          131.109375,
          132.34375,
          133.734375,
          133.875,
          134.28125
         ],
         "low": [
          152,
          150.8125,
          149.53125,
          149.828125,
          149.328125,
          148.6875,
          148.4375,
          147.65625,
          148.15625,
          146,
          144.203125,
          144.703125,
          143.15625,
          142.625,
          142.421875,
          143.71875,
          142.40625,
          142.125,
          142.890625,
          143.625,
          143.140625,
          142.28125,
          141.75,
          143.3125,
          139.75,
          139.375,
          137.6875,
          135.125,
          132.78125,
          132.875,
          136.6875,
          134.40625,
          130.15625,
          136.4375,
          138.375,
          138.9375,
          139,
          136.125,
          134.03125,
          136.625,
          138.15625,
          140.0625,
          141.21875,
          142.515625,
          142.375,
          143.03125,
          142.5625,
          140.5625,
          137.25,
          136.53125,
          133.015625,
          137,
          137.75,
          137.3125,
          135.75,
          134.3125,
          133.515625,
          132.125,
          133.625,
          135.3125,
          133.640625,
          133.265625,
          129.75,
          131,
          131.5,
          134.40625,
          135.03125,
          133.65625,
          133.875,
          136.71875,
          137.375,
          136.03125,
          134.03125,
          130.5625,
          131.765625,
          130.015625,
          126.09375,
          125.53125,
          128.84375,
          130.28125,
          131.25,
          132.59375,
          131.1875
         ],
         "open": [
          153.25,
          151.875,
          151.1875,
          150.25,
          150.28125,
          149.75,
          149.75,
          148,
          149.875,
          148.1875,
          146.375,
          145.125,
          145.6875,
          144.46875,
          142.625,
          145.9375,
          144.375,
          143.5625,
          143.1875,
          145.46875,
          144.28125,
          144.53125,
          142.875,
          143.40625,
          143.875,
          141.3125,
          140.09375,
          137.625,
          137.28125,
          132.9375,
          137.40625,
          138.4375,
          132.625,
          136.84375,
          138.375,
          139.9375,
          140.96875,
          138.75,
          137.125,
          137.875,
          138.4375,
          141.015625,
          142.25,
          143.15625,
          143.46875,
          143.15625,
          143.140625,
          144.0625,
          140,
          139,
          135.625,
          137.46875,
          139.0625,
          138.578125,
          137.3125,
          135.75,
          134.875,
          134.34375,
          133.625,
          136.46875,
          135.125,
          134.375,
          132.5,
          133.1875,
          131.875,
          134.875,
          137.78125,
          134.875,
          137.0625,
          137.375,
          138.1875,
          139.25,
          135.875,
          133.125,
          132.0625,
          132.46875,
          128.625,
          126,
          129,
          130.84375,
          131.75,
          132.8125,
          134.0625
         ],
         "type": "candlestick",
         "x": [
          "2000-09-01T00:00:00-04:00",
          "2000-09-05T00:00:00-04:00",
          "2000-09-06T00:00:00-04:00",
          "2000-09-07T00:00:00-04:00",
          "2000-09-08T00:00:00-04:00",
          "2000-09-11T00:00:00-04:00",
          "2000-09-12T00:00:00-04:00",
          "2000-09-13T00:00:00-04:00",
          "2000-09-14T00:00:00-04:00",
          "2000-09-15T00:00:00-04:00",
          "2000-09-18T00:00:00-04:00",
          "2000-09-19T00:00:00-04:00",
          "2000-09-20T00:00:00-04:00",
          "2000-09-21T00:00:00-04:00",
          "2000-09-22T00:00:00-04:00",
          "2000-09-25T00:00:00-04:00",
          "2000-09-26T00:00:00-04:00",
          "2000-09-27T00:00:00-04:00",
          "2000-09-28T00:00:00-04:00",
          "2000-09-29T00:00:00-04:00",
          "2000-10-02T00:00:00-04:00",
          "2000-10-03T00:00:00-04:00",
          "2000-10-04T00:00:00-04:00",
          "2000-10-05T00:00:00-04:00",
          "2000-10-06T00:00:00-04:00",
          "2000-10-09T00:00:00-04:00",
          "2000-10-10T00:00:00-04:00",
          "2000-10-11T00:00:00-04:00",
          "2000-10-12T00:00:00-04:00",
          "2000-10-13T00:00:00-04:00",
          "2000-10-16T00:00:00-04:00",
          "2000-10-17T00:00:00-04:00",
          "2000-10-18T00:00:00-04:00",
          "2000-10-19T00:00:00-04:00",
          "2000-10-20T00:00:00-04:00",
          "2000-10-23T00:00:00-04:00",
          "2000-10-24T00:00:00-04:00",
          "2000-10-25T00:00:00-04:00",
          "2000-10-26T00:00:00-04:00",
          "2000-10-27T00:00:00-04:00",
          "2000-10-30T00:00:00-05:00",
          "2000-10-31T00:00:00-05:00",
          "2000-11-01T00:00:00-05:00",
          "2000-11-02T00:00:00-05:00",
          "2000-11-03T00:00:00-05:00",
          "2000-11-06T00:00:00-05:00",
          "2000-11-07T00:00:00-05:00",
          "2000-11-08T00:00:00-05:00",
          "2000-11-09T00:00:00-05:00",
          "2000-11-10T00:00:00-05:00",
          "2000-11-13T00:00:00-05:00",
          "2000-11-14T00:00:00-05:00",
          "2000-11-15T00:00:00-05:00",
          "2000-11-16T00:00:00-05:00",
          "2000-11-17T00:00:00-05:00",
          "2000-11-20T00:00:00-05:00",
          "2000-11-21T00:00:00-05:00",
          "2000-11-22T00:00:00-05:00",
          "2000-11-24T00:00:00-05:00",
          "2000-11-27T00:00:00-05:00",
          "2000-11-28T00:00:00-05:00",
          "2000-11-29T00:00:00-05:00",
          "2000-11-30T00:00:00-05:00",
          "2000-12-01T00:00:00-05:00",
          "2000-12-04T00:00:00-05:00",
          "2000-12-05T00:00:00-05:00",
          "2000-12-06T00:00:00-05:00",
          "2000-12-07T00:00:00-05:00",
          "2000-12-08T00:00:00-05:00",
          "2000-12-11T00:00:00-05:00",
          "2000-12-12T00:00:00-05:00",
          "2000-12-13T00:00:00-05:00",
          "2000-12-14T00:00:00-05:00",
          "2000-12-15T00:00:00-05:00",
          "2000-12-18T00:00:00-05:00",
          "2000-12-19T00:00:00-05:00",
          "2000-12-20T00:00:00-05:00",
          "2000-12-21T00:00:00-05:00",
          "2000-12-22T00:00:00-05:00",
          "2000-12-26T00:00:00-05:00",
          "2000-12-27T00:00:00-05:00",
          "2000-12-28T00:00:00-05:00",
          "2000-12-29T00:00:00-05:00"
         ]
        }
       ],
       "layout": {
        "template": {
         "data": {
          "bar": [
           {
            "error_x": {
             "color": "#2a3f5f"
            },
            "error_y": {
             "color": "#2a3f5f"
            },
            "marker": {
             "line": {
              "color": "#E5ECF6",
              "width": 0.5
             },
             "pattern": {
              "fillmode": "overlay",
              "size": 10,
              "solidity": 0.2
             }
            },
            "type": "bar"
           }
          ],
          "barpolar": [
           {
            "marker": {
             "line": {
              "color": "#E5ECF6",
              "width": 0.5
             },
             "pattern": {
              "fillmode": "overlay",
              "size": 10,
              "solidity": 0.2
             }
            },
            "type": "barpolar"
           }
          ],
          "carpet": [
           {
            "aaxis": {
             "endlinecolor": "#2a3f5f",
             "gridcolor": "white",
             "linecolor": "white",
             "minorgridcolor": "white",
             "startlinecolor": "#2a3f5f"
            },
            "baxis": {
             "endlinecolor": "#2a3f5f",
             "gridcolor": "white",
             "linecolor": "white",
             "minorgridcolor": "white",
             "startlinecolor": "#2a3f5f"
            },
            "type": "carpet"
           }
          ],
          "choropleth": [
           {
            "colorbar": {
             "outlinewidth": 0,
             "ticks": ""
            },
            "type": "choropleth"
           }
          ],
          "contour": [
           {
            "colorbar": {
             "outlinewidth": 0,
             "ticks": ""
            },
            "colorscale": [
             [
              0,
              "#0d0887"
             ],
             [
              0.1111111111111111,
              "#46039f"
             ],
             [
              0.2222222222222222,
              "#7201a8"
             ],
             [
              0.3333333333333333,
              "#9c179e"
             ],
             [
              0.4444444444444444,
              "#bd3786"
             ],
             [
              0.5555555555555556,
              "#d8576b"
             ],
             [
              0.6666666666666666,
              "#ed7953"
             ],
             [
              0.7777777777777778,
              "#fb9f3a"
             ],
             [
              0.8888888888888888,
              "#fdca26"
             ],
             [
              1,
              "#f0f921"
             ]
            ],
            "type": "contour"
           }
          ],
          "contourcarpet": [
           {
            "colorbar": {
             "outlinewidth": 0,
             "ticks": ""
            },
            "type": "contourcarpet"
           }
          ],
          "heatmap": [
           {
            "colorbar": {
             "outlinewidth": 0,
             "ticks": ""
            },
            "colorscale": [
             [
              0,
              "#0d0887"
             ],
             [
              0.1111111111111111,
              "#46039f"
             ],
             [
              0.2222222222222222,
              "#7201a8"
             ],
             [
              0.3333333333333333,
              "#9c179e"
             ],
             [
              0.4444444444444444,
              "#bd3786"
             ],
             [
              0.5555555555555556,
              "#d8576b"
             ],
             [
              0.6666666666666666,
              "#ed7953"
             ],
             [
              0.7777777777777778,
              "#fb9f3a"
             ],
             [
              0.8888888888888888,
              "#fdca26"
             ],
             [
              1,
              "#f0f921"
             ]
            ],
            "type": "heatmap"
           }
          ],
          "heatmapgl": [
           {
            "colorbar": {
             "outlinewidth": 0,
             "ticks": ""
            },
            "colorscale": [
             [
              0,
              "#0d0887"
             ],
             [
              0.1111111111111111,
              "#46039f"
             ],
             [
              0.2222222222222222,
              "#7201a8"
             ],
             [
              0.3333333333333333,
              "#9c179e"
             ],
             [
              0.4444444444444444,
              "#bd3786"
             ],
             [
              0.5555555555555556,
              "#d8576b"
             ],
             [
              0.6666666666666666,
              "#ed7953"
             ],
             [
              0.7777777777777778,
              "#fb9f3a"
             ],
             [
              0.8888888888888888,
              "#fdca26"
             ],
             [
              1,
              "#f0f921"
             ]
            ],
            "type": "heatmapgl"
           }
          ],
          "histogram": [
           {
            "marker": {
             "pattern": {
              "fillmode": "overlay",
              "size": 10,
              "solidity": 0.2
             }
            },
            "type": "histogram"
           }
          ],
          "histogram2d": [
           {
            "colorbar": {
             "outlinewidth": 0,
             "ticks": ""
            },
            "colorscale": [
             [
              0,
              "#0d0887"
             ],
             [
              0.1111111111111111,
              "#46039f"
             ],
             [
              0.2222222222222222,
              "#7201a8"
             ],
             [
              0.3333333333333333,
              "#9c179e"
             ],
             [
              0.4444444444444444,
              "#bd3786"
             ],
             [
              0.5555555555555556,
              "#d8576b"
             ],
             [
              0.6666666666666666,
              "#ed7953"
             ],
             [
              0.7777777777777778,
              "#fb9f3a"
             ],
             [
              0.8888888888888888,
              "#fdca26"
             ],
             [
              1,
              "#f0f921"
             ]
            ],
            "type": "histogram2d"
           }
          ],
          "histogram2dcontour": [
           {
            "colorbar": {
             "outlinewidth": 0,
             "ticks": ""
            },
            "colorscale": [
             [
              0,
              "#0d0887"
             ],
             [
              0.1111111111111111,
              "#46039f"
             ],
             [
              0.2222222222222222,
              "#7201a8"
             ],
             [
              0.3333333333333333,
              "#9c179e"
             ],
             [
              0.4444444444444444,
              "#bd3786"
             ],
             [
              0.5555555555555556,
              "#d8576b"
             ],
             [
              0.6666666666666666,
              "#ed7953"
             ],
             [
              0.7777777777777778,
              "#fb9f3a"
             ],
             [
              0.8888888888888888,
              "#fdca26"
             ],
             [
              1,
              "#f0f921"
             ]
            ],
            "type": "histogram2dcontour"
           }
          ],
          "mesh3d": [
           {
            "colorbar": {
             "outlinewidth": 0,
             "ticks": ""
            },
            "type": "mesh3d"
           }
          ],
          "parcoords": [
           {
            "line": {
             "colorbar": {
              "outlinewidth": 0,
              "ticks": ""
             }
            },
            "type": "parcoords"
           }
          ],
          "pie": [
           {
            "automargin": true,
            "type": "pie"
           }
          ],
          "scatter": [
           {
            "fillpattern": {
             "fillmode": "overlay",
             "size": 10,
             "solidity": 0.2
            },
            "type": "scatter"
           }
          ],
          "scatter3d": [
           {
            "line": {
             "colorbar": {
              "outlinewidth": 0,
              "ticks": ""
             }
            },
            "marker": {
             "colorbar": {
              "outlinewidth": 0,
              "ticks": ""
             }
            },
            "type": "scatter3d"
           }
          ],
          "scattercarpet": [
           {
            "marker": {
             "colorbar": {
              "outlinewidth": 0,
              "ticks": ""
             }
            },
            "type": "scattercarpet"
           }
          ],
          "scattergeo": [
           {
            "marker": {
             "colorbar": {
              "outlinewidth": 0,
              "ticks": ""
             }
            },
            "type": "scattergeo"
           }
          ],
          "scattergl": [
           {
            "marker": {
             "colorbar": {
              "outlinewidth": 0,
              "ticks": ""
             }
            },
            "type": "scattergl"
           }
          ],
          "scattermapbox": [
           {
            "marker": {
             "colorbar": {
              "outlinewidth": 0,
              "ticks": ""
             }
            },
            "type": "scattermapbox"
           }
          ],
          "scatterpolar": [
           {
            "marker": {
             "colorbar": {
              "outlinewidth": 0,
              "ticks": ""
             }
            },
            "type": "scatterpolar"
           }
          ],
          "scatterpolargl": [
           {
            "marker": {
             "colorbar": {
              "outlinewidth": 0,
              "ticks": ""
             }
            },
            "type": "scatterpolargl"
           }
          ],
          "scatterternary": [
           {
            "marker": {
             "colorbar": {
              "outlinewidth": 0,
              "ticks": ""
             }
            },
            "type": "scatterternary"
           }
          ],
          "surface": [
           {
            "colorbar": {
             "outlinewidth": 0,
             "ticks": ""
            },
            "colorscale": [
             [
              0,
              "#0d0887"
             ],
             [
              0.1111111111111111,
              "#46039f"
             ],
             [
              0.2222222222222222,
              "#7201a8"
             ],
             [
              0.3333333333333333,
              "#9c179e"
             ],
             [
              0.4444444444444444,
              "#bd3786"
             ],
             [
              0.5555555555555556,
              "#d8576b"
             ],
             [
              0.6666666666666666,
              "#ed7953"
             ],
             [
              0.7777777777777778,
              "#fb9f3a"
             ],
             [
              0.8888888888888888,
              "#fdca26"
             ],
             [
              1,
              "#f0f921"
             ]
            ],
            "type": "surface"
           }
          ],
          "table": [
           {
            "cells": {
             "fill": {
              "color": "#EBF0F8"
             },
             "line": {
              "color": "white"
             }
            },
            "header": {
             "fill": {
              "color": "#C8D4E3"
             },
             "line": {
              "color": "white"
             }
            },
            "type": "table"
           }
          ]
         },
         "layout": {
          "annotationdefaults": {
           "arrowcolor": "#2a3f5f",
           "arrowhead": 0,
           "arrowwidth": 1
          },
          "autotypenumbers": "strict",
          "coloraxis": {
           "colorbar": {
            "outlinewidth": 0,
            "ticks": ""
           }
          },
          "colorscale": {
           "diverging": [
            [
             0,
             "#8e0152"
            ],
            [
             0.1,
             "#c51b7d"
            ],
            [
             0.2,
             "#de77ae"
            ],
            [
             0.3,
             "#f1b6da"
            ],
            [
             0.4,
             "#fde0ef"
            ],
            [
             0.5,
             "#f7f7f7"
            ],
            [
             0.6,
             "#e6f5d0"
            ],
            [
             0.7,
             "#b8e186"
            ],
            [
             0.8,
             "#7fbc41"
            ],
            [
             0.9,
             "#4d9221"
            ],
            [
             1,
             "#276419"
            ]
           ],
           "sequential": [
            [
             0,
             "#0d0887"
            ],
            [
             0.1111111111111111,
             "#46039f"
            ],
            [
             0.2222222222222222,
             "#7201a8"
            ],
            [
             0.3333333333333333,
             "#9c179e"
            ],
            [
             0.4444444444444444,
             "#bd3786"
            ],
            [
             0.5555555555555556,
             "#d8576b"
            ],
            [
             0.6666666666666666,
             "#ed7953"
            ],
            [
             0.7777777777777778,
             "#fb9f3a"
            ],
            [
             0.8888888888888888,
             "#fdca26"
            ],
            [
             1,
             "#f0f921"
            ]
           ],
           "sequentialminus": [
            [
             0,
             "#0d0887"
            ],
            [
             0.1111111111111111,
             "#46039f"
            ],
            [
             0.2222222222222222,
             "#7201a8"
            ],
            [
             0.3333333333333333,
             "#9c179e"
            ],
            [
             0.4444444444444444,
             "#bd3786"
            ],
            [
             0.5555555555555556,
             "#d8576b"
            ],
            [
             0.6666666666666666,
             "#ed7953"
            ],
            [
             0.7777777777777778,
             "#fb9f3a"
            ],
            [
             0.8888888888888888,
             "#fdca26"
            ],
            [
             1,
             "#f0f921"
            ]
           ]
          },
          "colorway": [
           "#636efa",
           "#EF553B",
           "#00cc96",
           "#ab63fa",
           "#FFA15A",
           "#19d3f3",
           "#FF6692",
           "#B6E880",
           "#FF97FF",
           "#FECB52"
          ],
          "font": {
           "color": "#2a3f5f"
          },
          "geo": {
           "bgcolor": "white",
           "lakecolor": "white",
           "landcolor": "#E5ECF6",
           "showlakes": true,
           "showland": true,
           "subunitcolor": "white"
          },
          "hoverlabel": {
           "align": "left"
          },
          "hovermode": "closest",
          "mapbox": {
           "style": "light"
          },
          "paper_bgcolor": "white",
          "plot_bgcolor": "#E5ECF6",
          "polar": {
           "angularaxis": {
            "gridcolor": "white",
            "linecolor": "white",
            "ticks": ""
           },
           "bgcolor": "#E5ECF6",
           "radialaxis": {
            "gridcolor": "white",
            "linecolor": "white",
            "ticks": ""
           }
          },
          "scene": {
           "xaxis": {
            "backgroundcolor": "#E5ECF6",
            "gridcolor": "white",
            "gridwidth": 2,
            "linecolor": "white",
            "showbackground": true,
            "ticks": "",
            "zerolinecolor": "white"
           },
           "yaxis": {
            "backgroundcolor": "#E5ECF6",
            "gridcolor": "white",
            "gridwidth": 2,
            "linecolor": "white",
            "showbackground": true,
            "ticks": "",
            "zerolinecolor": "white"
           },
           "zaxis": {
            "backgroundcolor": "#E5ECF6",
            "gridcolor": "white",
            "gridwidth": 2,
            "linecolor": "white",
            "showbackground": true,
            "ticks": "",
            "zerolinecolor": "white"
           }
          },
          "shapedefaults": {
           "line": {
            "color": "#2a3f5f"
           }
          },
          "ternary": {
           "aaxis": {
            "gridcolor": "white",
            "linecolor": "white",
            "ticks": ""
           },
           "baxis": {
            "gridcolor": "white",
            "linecolor": "white",
            "ticks": ""
           },
           "bgcolor": "#E5ECF6",
           "caxis": {
            "gridcolor": "white",
            "linecolor": "white",
            "ticks": ""
           }
          },
          "title": {
           "x": 0.05
          },
          "xaxis": {
           "automargin": true,
           "gridcolor": "white",
           "linecolor": "white",
           "ticks": "",
           "title": {
            "standoff": 15
           },
           "zerolinecolor": "white",
           "zerolinewidth": 2
          },
          "yaxis": {
           "automargin": true,
           "gridcolor": "white",
           "linecolor": "white",
           "ticks": "",
           "title": {
            "standoff": 15
           },
           "zerolinecolor": "white",
           "zerolinewidth": 2
          }
         }
        }
       }
      },
      "text/html": [
       "<div>                            <div id=\"55e58b49-7bf1-4807-be77-9e7d5a83b9bf\" class=\"plotly-graph-div\" style=\"height:525px; width:100%;\"></div>            <script type=\"text/javascript\">                require([\"plotly\"], function(Plotly) {                    window.PLOTLYENV=window.PLOTLYENV || {};                                    if (document.getElementById(\"55e58b49-7bf1-4807-be77-9e7d5a83b9bf\")) {                    Plotly.newPlot(                        \"55e58b49-7bf1-4807-be77-9e7d5a83b9bf\",                        [{\"close\":[152.5,151.28125,149.5625,150.84375,149.8125,149.59375,148.5,148.890625,149.640625,146.0,144.65625,145.96875,144.890625,142.6875,145.28125,144.25,142.40625,143.15625,145.0,143.625,143.84375,142.5,143.6875,144.1875,141.0625,140.0,137.6875,136.53125,133.125,137.5625,138.1875,134.75,134.25,139.3125,139.90625,140.53125,139.59375,136.3125,136.6875,139.28125,140.53125,142.953125,142.46875,142.703125,142.78125,143.78125,143.75,140.5625,140.03125,136.625,135.5625,139.125,139.5625,137.375,136.640625,134.6875,135.375,132.140625,134.84375,136.03125,133.6875,133.4375,132.28125,132.21875,133.34375,137.71875,135.515625,133.65625,133.96875,138.625,138.03125,136.140625,134.40625,130.96875,132.71875,130.015625,126.25,127.125,130.9375,132.34375,133.3125,133.71875,131.1875],\"high\":[153.59375,152.203125,151.953125,151.078125,150.5,151.1875,150.25,149.34375,149.9375,148.25,146.96875,146.3125,146.03125,145.5625,145.3125,146.0625,145.0,143.96875,146.328125,145.96875,144.90625,145.75,144.25,144.84375,144.640625,141.3125,141.25,138.625,137.59375,137.65625,138.234375,138.5625,136.125,139.453125,141.1875,141.03125,141.9375,139.5625,137.65625,139.28125,141.09375,143.6875,143.25,143.90625,143.75,144.296875,144.0,144.0625,141.21875,139.46875,136.984375,139.625,140.109375,139.875,139.0,136.375,136.1875,134.875,134.96875,136.6875,136.59375,135.90625,133.5,134.0625,133.875,138.25,138.34375,135.875,139.46875,139.5625,138.8125,139.40625,136.5,133.125,133.46875,134.96875,128.9375,128.859375,131.109375,132.34375,133.734375,133.875,134.28125],\"low\":[152.0,150.8125,149.53125,149.828125,149.328125,148.6875,148.4375,147.65625,148.15625,146.0,144.203125,144.703125,143.15625,142.625,142.421875,143.71875,142.40625,142.125,142.890625,143.625,143.140625,142.28125,141.75,143.3125,139.75,139.375,137.6875,135.125,132.78125,132.875,136.6875,134.40625,130.15625,136.4375,138.375,138.9375,139.0,136.125,134.03125,136.625,138.15625,140.0625,141.21875,142.515625,142.375,143.03125,142.5625,140.5625,137.25,136.53125,133.015625,137.0,137.75,137.3125,135.75,134.3125,133.515625,132.125,133.625,135.3125,133.640625,133.265625,129.75,131.0,131.5,134.40625,135.03125,133.65625,133.875,136.71875,137.375,136.03125,134.03125,130.5625,131.765625,130.015625,126.09375,125.53125,128.84375,130.28125,131.25,132.59375,131.1875],\"open\":[153.25,151.875,151.1875,150.25,150.28125,149.75,149.75,148.0,149.875,148.1875,146.375,145.125,145.6875,144.46875,142.625,145.9375,144.375,143.5625,143.1875,145.46875,144.28125,144.53125,142.875,143.40625,143.875,141.3125,140.09375,137.625,137.28125,132.9375,137.40625,138.4375,132.625,136.84375,138.375,139.9375,140.96875,138.75,137.125,137.875,138.4375,141.015625,142.25,143.15625,143.46875,143.15625,143.140625,144.0625,140.0,139.0,135.625,137.46875,139.0625,138.578125,137.3125,135.75,134.875,134.34375,133.625,136.46875,135.125,134.375,132.5,133.1875,131.875,134.875,137.78125,134.875,137.0625,137.375,138.1875,139.25,135.875,133.125,132.0625,132.46875,128.625,126.0,129.0,130.84375,131.75,132.8125,134.0625],\"x\":[\"2000-09-01T00:00:00-04:00\",\"2000-09-05T00:00:00-04:00\",\"2000-09-06T00:00:00-04:00\",\"2000-09-07T00:00:00-04:00\",\"2000-09-08T00:00:00-04:00\",\"2000-09-11T00:00:00-04:00\",\"2000-09-12T00:00:00-04:00\",\"2000-09-13T00:00:00-04:00\",\"2000-09-14T00:00:00-04:00\",\"2000-09-15T00:00:00-04:00\",\"2000-09-18T00:00:00-04:00\",\"2000-09-19T00:00:00-04:00\",\"2000-09-20T00:00:00-04:00\",\"2000-09-21T00:00:00-04:00\",\"2000-09-22T00:00:00-04:00\",\"2000-09-25T00:00:00-04:00\",\"2000-09-26T00:00:00-04:00\",\"2000-09-27T00:00:00-04:00\",\"2000-09-28T00:00:00-04:00\",\"2000-09-29T00:00:00-04:00\",\"2000-10-02T00:00:00-04:00\",\"2000-10-03T00:00:00-04:00\",\"2000-10-04T00:00:00-04:00\",\"2000-10-05T00:00:00-04:00\",\"2000-10-06T00:00:00-04:00\",\"2000-10-09T00:00:00-04:00\",\"2000-10-10T00:00:00-04:00\",\"2000-10-11T00:00:00-04:00\",\"2000-10-12T00:00:00-04:00\",\"2000-10-13T00:00:00-04:00\",\"2000-10-16T00:00:00-04:00\",\"2000-10-17T00:00:00-04:00\",\"2000-10-18T00:00:00-04:00\",\"2000-10-19T00:00:00-04:00\",\"2000-10-20T00:00:00-04:00\",\"2000-10-23T00:00:00-04:00\",\"2000-10-24T00:00:00-04:00\",\"2000-10-25T00:00:00-04:00\",\"2000-10-26T00:00:00-04:00\",\"2000-10-27T00:00:00-04:00\",\"2000-10-30T00:00:00-05:00\",\"2000-10-31T00:00:00-05:00\",\"2000-11-01T00:00:00-05:00\",\"2000-11-02T00:00:00-05:00\",\"2000-11-03T00:00:00-05:00\",\"2000-11-06T00:00:00-05:00\",\"2000-11-07T00:00:00-05:00\",\"2000-11-08T00:00:00-05:00\",\"2000-11-09T00:00:00-05:00\",\"2000-11-10T00:00:00-05:00\",\"2000-11-13T00:00:00-05:00\",\"2000-11-14T00:00:00-05:00\",\"2000-11-15T00:00:00-05:00\",\"2000-11-16T00:00:00-05:00\",\"2000-11-17T00:00:00-05:00\",\"2000-11-20T00:00:00-05:00\",\"2000-11-21T00:00:00-05:00\",\"2000-11-22T00:00:00-05:00\",\"2000-11-24T00:00:00-05:00\",\"2000-11-27T00:00:00-05:00\",\"2000-11-28T00:00:00-05:00\",\"2000-11-29T00:00:00-05:00\",\"2000-11-30T00:00:00-05:00\",\"2000-12-01T00:00:00-05:00\",\"2000-12-04T00:00:00-05:00\",\"2000-12-05T00:00:00-05:00\",\"2000-12-06T00:00:00-05:00\",\"2000-12-07T00:00:00-05:00\",\"2000-12-08T00:00:00-05:00\",\"2000-12-11T00:00:00-05:00\",\"2000-12-12T00:00:00-05:00\",\"2000-12-13T00:00:00-05:00\",\"2000-12-14T00:00:00-05:00\",\"2000-12-15T00:00:00-05:00\",\"2000-12-18T00:00:00-05:00\",\"2000-12-19T00:00:00-05:00\",\"2000-12-20T00:00:00-05:00\",\"2000-12-21T00:00:00-05:00\",\"2000-12-22T00:00:00-05:00\",\"2000-12-26T00:00:00-05:00\",\"2000-12-27T00:00:00-05:00\",\"2000-12-28T00:00:00-05:00\",\"2000-12-29T00:00:00-05:00\"],\"type\":\"candlestick\"}],                        {\"template\":{\"data\":{\"histogram2dcontour\":[{\"type\":\"histogram2dcontour\",\"colorbar\":{\"outlinewidth\":0,\"ticks\":\"\"},\"colorscale\":[[0.0,\"#0d0887\"],[0.1111111111111111,\"#46039f\"],[0.2222222222222222,\"#7201a8\"],[0.3333333333333333,\"#9c179e\"],[0.4444444444444444,\"#bd3786\"],[0.5555555555555556,\"#d8576b\"],[0.6666666666666666,\"#ed7953\"],[0.7777777777777778,\"#fb9f3a\"],[0.8888888888888888,\"#fdca26\"],[1.0,\"#f0f921\"]]}],\"choropleth\":[{\"type\":\"choropleth\",\"colorbar\":{\"outlinewidth\":0,\"ticks\":\"\"}}],\"histogram2d\":[{\"type\":\"histogram2d\",\"colorbar\":{\"outlinewidth\":0,\"ticks\":\"\"},\"colorscale\":[[0.0,\"#0d0887\"],[0.1111111111111111,\"#46039f\"],[0.2222222222222222,\"#7201a8\"],[0.3333333333333333,\"#9c179e\"],[0.4444444444444444,\"#bd3786\"],[0.5555555555555556,\"#d8576b\"],[0.6666666666666666,\"#ed7953\"],[0.7777777777777778,\"#fb9f3a\"],[0.8888888888888888,\"#fdca26\"],[1.0,\"#f0f921\"]]}],\"heatmap\":[{\"type\":\"heatmap\",\"colorbar\":{\"outlinewidth\":0,\"ticks\":\"\"},\"colorscale\":[[0.0,\"#0d0887\"],[0.1111111111111111,\"#46039f\"],[0.2222222222222222,\"#7201a8\"],[0.3333333333333333,\"#9c179e\"],[0.4444444444444444,\"#bd3786\"],[0.5555555555555556,\"#d8576b\"],[0.6666666666666666,\"#ed7953\"],[0.7777777777777778,\"#fb9f3a\"],[0.8888888888888888,\"#fdca26\"],[1.0,\"#f0f921\"]]}],\"heatmapgl\":[{\"type\":\"heatmapgl\",\"colorbar\":{\"outlinewidth\":0,\"ticks\":\"\"},\"colorscale\":[[0.0,\"#0d0887\"],[0.1111111111111111,\"#46039f\"],[0.2222222222222222,\"#7201a8\"],[0.3333333333333333,\"#9c179e\"],[0.4444444444444444,\"#bd3786\"],[0.5555555555555556,\"#d8576b\"],[0.6666666666666666,\"#ed7953\"],[0.7777777777777778,\"#fb9f3a\"],[0.8888888888888888,\"#fdca26\"],[1.0,\"#f0f921\"]]}],\"contourcarpet\":[{\"type\":\"contourcarpet\",\"colorbar\":{\"outlinewidth\":0,\"ticks\":\"\"}}],\"contour\":[{\"type\":\"contour\",\"colorbar\":{\"outlinewidth\":0,\"ticks\":\"\"},\"colorscale\":[[0.0,\"#0d0887\"],[0.1111111111111111,\"#46039f\"],[0.2222222222222222,\"#7201a8\"],[0.3333333333333333,\"#9c179e\"],[0.4444444444444444,\"#bd3786\"],[0.5555555555555556,\"#d8576b\"],[0.6666666666666666,\"#ed7953\"],[0.7777777777777778,\"#fb9f3a\"],[0.8888888888888888,\"#fdca26\"],[1.0,\"#f0f921\"]]}],\"surface\":[{\"type\":\"surface\",\"colorbar\":{\"outlinewidth\":0,\"ticks\":\"\"},\"colorscale\":[[0.0,\"#0d0887\"],[0.1111111111111111,\"#46039f\"],[0.2222222222222222,\"#7201a8\"],[0.3333333333333333,\"#9c179e\"],[0.4444444444444444,\"#bd3786\"],[0.5555555555555556,\"#d8576b\"],[0.6666666666666666,\"#ed7953\"],[0.7777777777777778,\"#fb9f3a\"],[0.8888888888888888,\"#fdca26\"],[1.0,\"#f0f921\"]]}],\"mesh3d\":[{\"type\":\"mesh3d\",\"colorbar\":{\"outlinewidth\":0,\"ticks\":\"\"}}],\"scatter\":[{\"fillpattern\":{\"fillmode\":\"overlay\",\"size\":10,\"solidity\":0.2},\"type\":\"scatter\"}],\"parcoords\":[{\"type\":\"parcoords\",\"line\":{\"colorbar\":{\"outlinewidth\":0,\"ticks\":\"\"}}}],\"scatterpolargl\":[{\"type\":\"scatterpolargl\",\"marker\":{\"colorbar\":{\"outlinewidth\":0,\"ticks\":\"\"}}}],\"bar\":[{\"error_x\":{\"color\":\"#2a3f5f\"},\"error_y\":{\"color\":\"#2a3f5f\"},\"marker\":{\"line\":{\"color\":\"#E5ECF6\",\"width\":0.5},\"pattern\":{\"fillmode\":\"overlay\",\"size\":10,\"solidity\":0.2}},\"type\":\"bar\"}],\"scattergeo\":[{\"type\":\"scattergeo\",\"marker\":{\"colorbar\":{\"outlinewidth\":0,\"ticks\":\"\"}}}],\"scatterpolar\":[{\"type\":\"scatterpolar\",\"marker\":{\"colorbar\":{\"outlinewidth\":0,\"ticks\":\"\"}}}],\"histogram\":[{\"marker\":{\"pattern\":{\"fillmode\":\"overlay\",\"size\":10,\"solidity\":0.2}},\"type\":\"histogram\"}],\"scattergl\":[{\"type\":\"scattergl\",\"marker\":{\"colorbar\":{\"outlinewidth\":0,\"ticks\":\"\"}}}],\"scatter3d\":[{\"type\":\"scatter3d\",\"line\":{\"colorbar\":{\"outlinewidth\":0,\"ticks\":\"\"}},\"marker\":{\"colorbar\":{\"outlinewidth\":0,\"ticks\":\"\"}}}],\"scattermapbox\":[{\"type\":\"scattermapbox\",\"marker\":{\"colorbar\":{\"outlinewidth\":0,\"ticks\":\"\"}}}],\"scatterternary\":[{\"type\":\"scatterternary\",\"marker\":{\"colorbar\":{\"outlinewidth\":0,\"ticks\":\"\"}}}],\"scattercarpet\":[{\"type\":\"scattercarpet\",\"marker\":{\"colorbar\":{\"outlinewidth\":0,\"ticks\":\"\"}}}],\"carpet\":[{\"aaxis\":{\"endlinecolor\":\"#2a3f5f\",\"gridcolor\":\"white\",\"linecolor\":\"white\",\"minorgridcolor\":\"white\",\"startlinecolor\":\"#2a3f5f\"},\"baxis\":{\"endlinecolor\":\"#2a3f5f\",\"gridcolor\":\"white\",\"linecolor\":\"white\",\"minorgridcolor\":\"white\",\"startlinecolor\":\"#2a3f5f\"},\"type\":\"carpet\"}],\"table\":[{\"cells\":{\"fill\":{\"color\":\"#EBF0F8\"},\"line\":{\"color\":\"white\"}},\"header\":{\"fill\":{\"color\":\"#C8D4E3\"},\"line\":{\"color\":\"white\"}},\"type\":\"table\"}],\"barpolar\":[{\"marker\":{\"line\":{\"color\":\"#E5ECF6\",\"width\":0.5},\"pattern\":{\"fillmode\":\"overlay\",\"size\":10,\"solidity\":0.2}},\"type\":\"barpolar\"}],\"pie\":[{\"automargin\":true,\"type\":\"pie\"}]},\"layout\":{\"autotypenumbers\":\"strict\",\"colorway\":[\"#636efa\",\"#EF553B\",\"#00cc96\",\"#ab63fa\",\"#FFA15A\",\"#19d3f3\",\"#FF6692\",\"#B6E880\",\"#FF97FF\",\"#FECB52\"],\"font\":{\"color\":\"#2a3f5f\"},\"hovermode\":\"closest\",\"hoverlabel\":{\"align\":\"left\"},\"paper_bgcolor\":\"white\",\"plot_bgcolor\":\"#E5ECF6\",\"polar\":{\"bgcolor\":\"#E5ECF6\",\"angularaxis\":{\"gridcolor\":\"white\",\"linecolor\":\"white\",\"ticks\":\"\"},\"radialaxis\":{\"gridcolor\":\"white\",\"linecolor\":\"white\",\"ticks\":\"\"}},\"ternary\":{\"bgcolor\":\"#E5ECF6\",\"aaxis\":{\"gridcolor\":\"white\",\"linecolor\":\"white\",\"ticks\":\"\"},\"baxis\":{\"gridcolor\":\"white\",\"linecolor\":\"white\",\"ticks\":\"\"},\"caxis\":{\"gridcolor\":\"white\",\"linecolor\":\"white\",\"ticks\":\"\"}},\"coloraxis\":{\"colorbar\":{\"outlinewidth\":0,\"ticks\":\"\"}},\"colorscale\":{\"sequential\":[[0.0,\"#0d0887\"],[0.1111111111111111,\"#46039f\"],[0.2222222222222222,\"#7201a8\"],[0.3333333333333333,\"#9c179e\"],[0.4444444444444444,\"#bd3786\"],[0.5555555555555556,\"#d8576b\"],[0.6666666666666666,\"#ed7953\"],[0.7777777777777778,\"#fb9f3a\"],[0.8888888888888888,\"#fdca26\"],[1.0,\"#f0f921\"]],\"sequentialminus\":[[0.0,\"#0d0887\"],[0.1111111111111111,\"#46039f\"],[0.2222222222222222,\"#7201a8\"],[0.3333333333333333,\"#9c179e\"],[0.4444444444444444,\"#bd3786\"],[0.5555555555555556,\"#d8576b\"],[0.6666666666666666,\"#ed7953\"],[0.7777777777777778,\"#fb9f3a\"],[0.8888888888888888,\"#fdca26\"],[1.0,\"#f0f921\"]],\"diverging\":[[0,\"#8e0152\"],[0.1,\"#c51b7d\"],[0.2,\"#de77ae\"],[0.3,\"#f1b6da\"],[0.4,\"#fde0ef\"],[0.5,\"#f7f7f7\"],[0.6,\"#e6f5d0\"],[0.7,\"#b8e186\"],[0.8,\"#7fbc41\"],[0.9,\"#4d9221\"],[1,\"#276419\"]]},\"xaxis\":{\"gridcolor\":\"white\",\"linecolor\":\"white\",\"ticks\":\"\",\"title\":{\"standoff\":15},\"zerolinecolor\":\"white\",\"automargin\":true,\"zerolinewidth\":2},\"yaxis\":{\"gridcolor\":\"white\",\"linecolor\":\"white\",\"ticks\":\"\",\"title\":{\"standoff\":15},\"zerolinecolor\":\"white\",\"automargin\":true,\"zerolinewidth\":2},\"scene\":{\"xaxis\":{\"backgroundcolor\":\"#E5ECF6\",\"gridcolor\":\"white\",\"linecolor\":\"white\",\"showbackground\":true,\"ticks\":\"\",\"zerolinecolor\":\"white\",\"gridwidth\":2},\"yaxis\":{\"backgroundcolor\":\"#E5ECF6\",\"gridcolor\":\"white\",\"linecolor\":\"white\",\"showbackground\":true,\"ticks\":\"\",\"zerolinecolor\":\"white\",\"gridwidth\":2},\"zaxis\":{\"backgroundcolor\":\"#E5ECF6\",\"gridcolor\":\"white\",\"linecolor\":\"white\",\"showbackground\":true,\"ticks\":\"\",\"zerolinecolor\":\"white\",\"gridwidth\":2}},\"shapedefaults\":{\"line\":{\"color\":\"#2a3f5f\"}},\"annotationdefaults\":{\"arrowcolor\":\"#2a3f5f\",\"arrowhead\":0,\"arrowwidth\":1},\"geo\":{\"bgcolor\":\"white\",\"landcolor\":\"#E5ECF6\",\"subunitcolor\":\"white\",\"showland\":true,\"showlakes\":true,\"lakecolor\":\"white\"},\"title\":{\"x\":0.05},\"mapbox\":{\"style\":\"light\"}}}},                        {\"responsive\": true}                    ).then(function(){\n",
       "                            \n",
       "var gd = document.getElementById('55e58b49-7bf1-4807-be77-9e7d5a83b9bf');\n",
       "var x = new MutationObserver(function (mutations, observer) {{\n",
       "        var display = window.getComputedStyle(gd).display;\n",
       "        if (!display || display === 'none') {{\n",
       "            console.log([gd, 'removed!']);\n",
       "            Plotly.purge(gd);\n",
       "            observer.disconnect();\n",
       "        }}\n",
       "}});\n",
       "\n",
       "// Listen for the removal of the full notebook cells\n",
       "var notebookContainer = gd.closest('#notebook-container');\n",
       "if (notebookContainer) {{\n",
       "    x.observe(notebookContainer, {childList: true});\n",
       "}}\n",
       "\n",
       "// Listen for the clearing of the current output cell\n",
       "var outputEl = gd.closest('.output');\n",
       "if (outputEl) {{\n",
       "    x.observe(outputEl, {childList: true});\n",
       "}}\n",
       "\n",
       "                        })                };                });            </script>        </div>"
      ]
     },
     "metadata": {},
     "output_type": "display_data"
    }
   ],
   "source": [
    "plot_candlestick('SPY','2000-09-01','2000-12-31')"
   ]
  },
  {
   "cell_type": "markdown",
   "id": "c1eeeb04",
   "metadata": {},
   "source": [
    "#### 보조지표 시그널로 백테스팅 해보기"
   ]
  },
  {
   "cell_type": "code",
   "execution_count": 47,
   "id": "7b062cf6",
   "metadata": {},
   "outputs": [],
   "source": [
    "import ta\n",
    "\n",
    "'''참고로 df['High'] 과 df.High 는 똑같다'''\n",
    "data['%K'] = ta.momentum.stoch(data.High,data.Low,data.Close,window=14,smooth_window=3)\n",
    "data['%D'] = data['%K'].rolling(3).mean()\n",
    "\n",
    "#RSI 지표 \n",
    "data['rsi'] = ta.momentum.rsi(data.Close,window=14)"
   ]
  },
  {
   "cell_type": "code",
   "execution_count": 57,
   "id": "aa02fd78",
   "metadata": {},
   "outputs": [],
   "source": [
    "#Boolean 값으로 나온다\n",
    "buys = (hammer == 100) & (data['rsi'] <= 50) #-------------------------------------------보조지표 시그널 같이 넣기--------------------------------------------\n",
    "\n",
    "sells = (hanging_man == -100) & (data['rsi'] >= 70)  #--------------------------------------------보조지표 시그널 같이 넣기--------------------------------------------"
   ]
  },
  {
   "cell_type": "code",
   "execution_count": 58,
   "id": "46c326b4",
   "metadata": {},
   "outputs": [],
   "source": [
    "portfolio = vbt.Portfolio.from_signals(data.Close,buys,sells)"
   ]
  },
  {
   "cell_type": "code",
   "execution_count": 59,
   "id": "36b1fd81",
   "metadata": {},
   "outputs": [
    {
     "name": "stdout",
     "output_type": "stream",
     "text": [
      "Start                         2000-01-03 00:00:00-05:00\n",
      "End                           2022-12-30 00:00:00-05:00\n",
      "Period                                             5787\n",
      "Start Value                                       100.0\n",
      "End Value                                    175.135171\n",
      "Total Return [%]                              75.135171\n",
      "Benchmark Return [%]                         162.951435\n",
      "Max Gross Exposure [%]                            100.0\n",
      "Total Fees Paid                                     0.0\n",
      "Max Drawdown [%]                              58.970313\n",
      "Max Drawdown Duration                            4234.0\n",
      "Total Trades                                          9\n",
      "Total Closed Trades                                   8\n",
      "Total Open Trades                                     1\n",
      "Open Trade PnL                                  25.3981\n",
      "Win Rate [%]                                       75.0\n",
      "Best Trade [%]                                48.638959\n",
      "Worst Trade [%]                              -29.334504\n",
      "Avg Winning Trade [%]                         18.949276\n",
      "Avg Losing Trade [%]                         -25.735259\n",
      "Avg Winning Trade Duration                   347.666667\n",
      "Avg Losing Trade Duration                         553.0\n",
      "Profit Factor                                   2.04707\n",
      "Expectancy                                     6.217134\n",
      "dtype: object\n"
     ]
    },
    {
     "name": "stderr",
     "output_type": "stream",
     "text": [
      "C:\\Users\\minsoo\\anaconda3\\lib\\site-packages\\vectorbt\\generic\\stats_builder.py:396: UserWarning:\n",
      "\n",
      "Metric 'sharpe_ratio' requires frequency to be set\n",
      "\n",
      "C:\\Users\\minsoo\\anaconda3\\lib\\site-packages\\vectorbt\\generic\\stats_builder.py:396: UserWarning:\n",
      "\n",
      "Metric 'calmar_ratio' requires frequency to be set\n",
      "\n",
      "C:\\Users\\minsoo\\anaconda3\\lib\\site-packages\\vectorbt\\generic\\stats_builder.py:396: UserWarning:\n",
      "\n",
      "Metric 'omega_ratio' requires frequency to be set\n",
      "\n",
      "C:\\Users\\minsoo\\anaconda3\\lib\\site-packages\\vectorbt\\generic\\stats_builder.py:396: UserWarning:\n",
      "\n",
      "Metric 'sortino_ratio' requires frequency to be set\n",
      "\n"
     ]
    }
   ],
   "source": [
    "print(portfolio.stats())"
   ]
  }
 ],
 "metadata": {
  "kernelspec": {
   "display_name": "Python 3 (ipykernel)",
   "language": "python",
   "name": "python3"
  },
  "language_info": {
   "codemirror_mode": {
    "name": "ipython",
    "version": 3
   },
   "file_extension": ".py",
   "mimetype": "text/x-python",
   "name": "python",
   "nbconvert_exporter": "python",
   "pygments_lexer": "ipython3",
   "version": "3.9.13"
  }
 },
 "nbformat": 4,
 "nbformat_minor": 5
}
