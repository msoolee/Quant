{
 "cells": [
  {
   "cell_type": "code",
   "execution_count": 1,
   "id": "59900073",
   "metadata": {
    "scrolled": false
   },
   "outputs": [
    {
     "name": "stdout",
     "output_type": "stream",
     "text": [
      "Requirement already satisfied: vectorbt in c:\\users\\minsoo\\anaconda3\\lib\\site-packages (0.24.5)\n",
      "Requirement already satisfied: dill in c:\\users\\minsoo\\anaconda3\\lib\\site-packages (from vectorbt) (0.3.4)\n",
      "Requirement already satisfied: pytz in c:\\users\\minsoo\\anaconda3\\lib\\site-packages (from vectorbt) (2022.7.1)\n",
      "Requirement already satisfied: matplotlib in c:\\users\\minsoo\\anaconda3\\lib\\site-packages (from vectorbt) (3.5.2)\n",
      "Requirement already satisfied: schedule in c:\\users\\minsoo\\anaconda3\\lib\\site-packages (from vectorbt) (1.1.0)\n",
      "Requirement already satisfied: numba>=0.53.1 in c:\\users\\minsoo\\anaconda3\\lib\\site-packages (from vectorbt) (0.55.1)\n",
      "Requirement already satisfied: dateparser in c:\\users\\minsoo\\anaconda3\\lib\\site-packages (from vectorbt) (1.1.7)\n",
      "Requirement already satisfied: scipy in c:\\users\\minsoo\\anaconda3\\lib\\site-packages (from vectorbt) (1.9.1)\n",
      "Requirement already satisfied: requests in c:\\users\\minsoo\\anaconda3\\lib\\site-packages (from vectorbt) (2.28.1)\n",
      "Requirement already satisfied: scikit-learn in c:\\users\\minsoo\\anaconda3\\lib\\site-packages (from vectorbt) (1.0.2)\n",
      "Requirement already satisfied: pandas in c:\\users\\minsoo\\anaconda3\\lib\\site-packages (from vectorbt) (1.4.4)\n",
      "Requirement already satisfied: mypy-extensions in c:\\users\\minsoo\\anaconda3\\lib\\site-packages (from vectorbt) (0.4.3)\n",
      "Requirement already satisfied: ipywidgets>=7.0.0 in c:\\users\\minsoo\\anaconda3\\lib\\site-packages (from vectorbt) (7.6.5)\n",
      "Requirement already satisfied: imageio in c:\\users\\minsoo\\anaconda3\\lib\\site-packages (from vectorbt) (2.19.3)\n",
      "Requirement already satisfied: numpy>=1.16.5 in c:\\users\\minsoo\\anaconda3\\lib\\site-packages (from vectorbt) (1.21.5)\n",
      "Requirement already satisfied: tqdm in c:\\users\\minsoo\\anaconda3\\lib\\site-packages (from vectorbt) (4.64.1)\n",
      "Requirement already satisfied: plotly>=4.12.0 in c:\\users\\minsoo\\anaconda3\\lib\\site-packages (from vectorbt) (5.9.0)\n",
      "Requirement already satisfied: ipython-genutils~=0.2.0 in c:\\users\\minsoo\\anaconda3\\lib\\site-packages (from ipywidgets>=7.0.0->vectorbt) (0.2.0)\n",
      "Requirement already satisfied: ipykernel>=4.5.1 in c:\\users\\minsoo\\anaconda3\\lib\\site-packages (from ipywidgets>=7.0.0->vectorbt) (6.15.2)\n",
      "Requirement already satisfied: traitlets>=4.3.1 in c:\\users\\minsoo\\anaconda3\\lib\\site-packages (from ipywidgets>=7.0.0->vectorbt) (5.1.1)\n",
      "Requirement already satisfied: widgetsnbextension~=3.5.0 in c:\\users\\minsoo\\anaconda3\\lib\\site-packages (from ipywidgets>=7.0.0->vectorbt) (3.5.2)\n",
      "Requirement already satisfied: ipython>=4.0.0 in c:\\users\\minsoo\\anaconda3\\lib\\site-packages (from ipywidgets>=7.0.0->vectorbt) (7.31.1)\n",
      "Requirement already satisfied: jupyterlab-widgets>=1.0.0 in c:\\users\\minsoo\\anaconda3\\lib\\site-packages (from ipywidgets>=7.0.0->vectorbt) (1.0.0)\n",
      "Requirement already satisfied: nbformat>=4.2.0 in c:\\users\\minsoo\\anaconda3\\lib\\site-packages (from ipywidgets>=7.0.0->vectorbt) (5.5.0)\n",
      "Requirement already satisfied: llvmlite<0.39,>=0.38.0rc1 in c:\\users\\minsoo\\anaconda3\\lib\\site-packages (from numba>=0.53.1->vectorbt) (0.38.0)\n",
      "Requirement already satisfied: setuptools in c:\\users\\minsoo\\anaconda3\\lib\\site-packages (from numba>=0.53.1->vectorbt) (63.4.1)\n",
      "Requirement already satisfied: tenacity>=6.2.0 in c:\\users\\minsoo\\anaconda3\\lib\\site-packages (from plotly>=4.12.0->vectorbt) (8.0.1)\n",
      "Requirement already satisfied: python-dateutil in c:\\users\\minsoo\\anaconda3\\lib\\site-packages (from dateparser->vectorbt) (2.8.2)\n",
      "Requirement already satisfied: regex!=2019.02.19,!=2021.8.27 in c:\\users\\minsoo\\anaconda3\\lib\\site-packages (from dateparser->vectorbt) (2022.7.9)\n",
      "Requirement already satisfied: tzlocal in c:\\users\\minsoo\\anaconda3\\lib\\site-packages (from dateparser->vectorbt) (4.2)\n",
      "Requirement already satisfied: pillow>=8.3.2 in c:\\users\\minsoo\\anaconda3\\lib\\site-packages (from imageio->vectorbt) (9.2.0)\n",
      "Requirement already satisfied: cycler>=0.10 in c:\\users\\minsoo\\anaconda3\\lib\\site-packages (from matplotlib->vectorbt) (0.11.0)\n",
      "Requirement already satisfied: fonttools>=4.22.0 in c:\\users\\minsoo\\anaconda3\\lib\\site-packages (from matplotlib->vectorbt) (4.25.0)\n",
      "Requirement already satisfied: pyparsing>=2.2.1 in c:\\users\\minsoo\\anaconda3\\lib\\site-packages (from matplotlib->vectorbt) (3.0.9)\n",
      "Requirement already satisfied: kiwisolver>=1.0.1 in c:\\users\\minsoo\\anaconda3\\lib\\site-packages (from matplotlib->vectorbt) (1.4.2)\n",
      "Requirement already satisfied: packaging>=20.0 in c:\\users\\minsoo\\anaconda3\\lib\\site-packages (from matplotlib->vectorbt) (21.3)\n",
      "Requirement already satisfied: urllib3<1.27,>=1.21.1 in c:\\users\\minsoo\\anaconda3\\lib\\site-packages (from requests->vectorbt) (1.26.11)\n",
      "Requirement already satisfied: certifi>=2017.4.17 in c:\\users\\minsoo\\anaconda3\\lib\\site-packages (from requests->vectorbt) (2022.12.7)\n",
      "Requirement already satisfied: charset-normalizer<3,>=2 in c:\\users\\minsoo\\anaconda3\\lib\\site-packages (from requests->vectorbt) (2.0.4)\n",
      "Requirement already satisfied: idna<4,>=2.5 in c:\\users\\minsoo\\anaconda3\\lib\\site-packages (from requests->vectorbt) (3.3)\n",
      "Requirement already satisfied: threadpoolctl>=2.0.0 in c:\\users\\minsoo\\anaconda3\\lib\\site-packages (from scikit-learn->vectorbt) (2.2.0)\n",
      "Requirement already satisfied: joblib>=0.11 in c:\\users\\minsoo\\anaconda3\\lib\\site-packages (from scikit-learn->vectorbt) (1.1.0)\n",
      "Requirement already satisfied: colorama in c:\\users\\minsoo\\anaconda3\\lib\\site-packages (from tqdm->vectorbt) (0.4.5)\n",
      "Requirement already satisfied: debugpy>=1.0 in c:\\users\\minsoo\\anaconda3\\lib\\site-packages (from ipykernel>=4.5.1->ipywidgets>=7.0.0->vectorbt) (1.5.1)\n",
      "Requirement already satisfied: jupyter-client>=6.1.12 in c:\\users\\minsoo\\anaconda3\\lib\\site-packages (from ipykernel>=4.5.1->ipywidgets>=7.0.0->vectorbt) (7.3.4)\n",
      "Requirement already satisfied: psutil in c:\\users\\minsoo\\anaconda3\\lib\\site-packages (from ipykernel>=4.5.1->ipywidgets>=7.0.0->vectorbt) (5.9.0)\n",
      "Requirement already satisfied: pyzmq>=17 in c:\\users\\minsoo\\anaconda3\\lib\\site-packages (from ipykernel>=4.5.1->ipywidgets>=7.0.0->vectorbt) (23.2.0)\n",
      "Requirement already satisfied: matplotlib-inline>=0.1 in c:\\users\\minsoo\\anaconda3\\lib\\site-packages (from ipykernel>=4.5.1->ipywidgets>=7.0.0->vectorbt) (0.1.6)\n",
      "Requirement already satisfied: nest-asyncio in c:\\users\\minsoo\\anaconda3\\lib\\site-packages (from ipykernel>=4.5.1->ipywidgets>=7.0.0->vectorbt) (1.5.5)\n",
      "Requirement already satisfied: tornado>=6.1 in c:\\users\\minsoo\\anaconda3\\lib\\site-packages (from ipykernel>=4.5.1->ipywidgets>=7.0.0->vectorbt) (6.1)\n",
      "Requirement already satisfied: prompt-toolkit!=3.0.0,!=3.0.1,<3.1.0,>=2.0.0 in c:\\users\\minsoo\\anaconda3\\lib\\site-packages (from ipython>=4.0.0->ipywidgets>=7.0.0->vectorbt) (3.0.20)\n",
      "Requirement already satisfied: jedi>=0.16 in c:\\users\\minsoo\\anaconda3\\lib\\site-packages (from ipython>=4.0.0->ipywidgets>=7.0.0->vectorbt) (0.18.1)\n",
      "Requirement already satisfied: decorator in c:\\users\\minsoo\\anaconda3\\lib\\site-packages (from ipython>=4.0.0->ipywidgets>=7.0.0->vectorbt) (5.1.1)\n",
      "Requirement already satisfied: pickleshare in c:\\users\\minsoo\\anaconda3\\lib\\site-packages (from ipython>=4.0.0->ipywidgets>=7.0.0->vectorbt) (0.7.5)\n",
      "Requirement already satisfied: backcall in c:\\users\\minsoo\\anaconda3\\lib\\site-packages (from ipython>=4.0.0->ipywidgets>=7.0.0->vectorbt) (0.2.0)\n",
      "Requirement already satisfied: pygments in c:\\users\\minsoo\\anaconda3\\lib\\site-packages (from ipython>=4.0.0->ipywidgets>=7.0.0->vectorbt) (2.11.2)\n",
      "Requirement already satisfied: fastjsonschema in c:\\users\\minsoo\\anaconda3\\lib\\site-packages (from nbformat>=4.2.0->ipywidgets>=7.0.0->vectorbt) (2.16.2)\n",
      "Requirement already satisfied: jupyter_core in c:\\users\\minsoo\\anaconda3\\lib\\site-packages (from nbformat>=4.2.0->ipywidgets>=7.0.0->vectorbt) (4.11.1)\n",
      "Requirement already satisfied: jsonschema>=2.6 in c:\\users\\minsoo\\anaconda3\\lib\\site-packages (from nbformat>=4.2.0->ipywidgets>=7.0.0->vectorbt) (4.16.0)\n",
      "Requirement already satisfied: six>=1.5 in c:\\users\\minsoo\\anaconda3\\lib\\site-packages (from python-dateutil->dateparser->vectorbt) (1.16.0)\n",
      "Requirement already satisfied: notebook>=4.4.1 in c:\\users\\minsoo\\anaconda3\\lib\\site-packages (from widgetsnbextension~=3.5.0->ipywidgets>=7.0.0->vectorbt) (6.4.12)\n",
      "Requirement already satisfied: pytz-deprecation-shim in c:\\users\\minsoo\\anaconda3\\lib\\site-packages (from tzlocal->dateparser->vectorbt) (0.1.0.post0)\n",
      "Requirement already satisfied: tzdata in c:\\users\\minsoo\\anaconda3\\lib\\site-packages (from tzlocal->dateparser->vectorbt) (2022.7)\n",
      "Requirement already satisfied: parso<0.9.0,>=0.8.0 in c:\\users\\minsoo\\anaconda3\\lib\\site-packages (from jedi>=0.16->ipython>=4.0.0->ipywidgets>=7.0.0->vectorbt) (0.8.3)\n",
      "Requirement already satisfied: pyrsistent!=0.17.0,!=0.17.1,!=0.17.2,>=0.14.0 in c:\\users\\minsoo\\anaconda3\\lib\\site-packages (from jsonschema>=2.6->nbformat>=4.2.0->ipywidgets>=7.0.0->vectorbt) (0.18.0)\n",
      "Requirement already satisfied: attrs>=17.4.0 in c:\\users\\minsoo\\anaconda3\\lib\\site-packages (from jsonschema>=2.6->nbformat>=4.2.0->ipywidgets>=7.0.0->vectorbt) (21.4.0)\n",
      "Requirement already satisfied: entrypoints in c:\\users\\minsoo\\anaconda3\\lib\\site-packages (from jupyter-client>=6.1.12->ipykernel>=4.5.1->ipywidgets>=7.0.0->vectorbt) (0.4)\n",
      "Requirement already satisfied: pywin32>=1.0 in c:\\users\\minsoo\\anaconda3\\lib\\site-packages (from jupyter_core->nbformat>=4.2.0->ipywidgets>=7.0.0->vectorbt) (302)\n",
      "Requirement already satisfied: argon2-cffi in c:\\users\\minsoo\\anaconda3\\lib\\site-packages (from notebook>=4.4.1->widgetsnbextension~=3.5.0->ipywidgets>=7.0.0->vectorbt) (21.3.0)\n",
      "Requirement already satisfied: nbconvert>=5 in c:\\users\\minsoo\\anaconda3\\lib\\site-packages (from notebook>=4.4.1->widgetsnbextension~=3.5.0->ipywidgets>=7.0.0->vectorbt) (6.4.4)\n",
      "Requirement already satisfied: Send2Trash>=1.8.0 in c:\\users\\minsoo\\anaconda3\\lib\\site-packages (from notebook>=4.4.1->widgetsnbextension~=3.5.0->ipywidgets>=7.0.0->vectorbt) (1.8.0)\n",
      "Requirement already satisfied: prometheus-client in c:\\users\\minsoo\\anaconda3\\lib\\site-packages (from notebook>=4.4.1->widgetsnbextension~=3.5.0->ipywidgets>=7.0.0->vectorbt) (0.14.1)\n",
      "Requirement already satisfied: terminado>=0.8.3 in c:\\users\\minsoo\\anaconda3\\lib\\site-packages (from notebook>=4.4.1->widgetsnbextension~=3.5.0->ipywidgets>=7.0.0->vectorbt) (0.13.1)\n",
      "Requirement already satisfied: jinja2 in c:\\users\\minsoo\\anaconda3\\lib\\site-packages (from notebook>=4.4.1->widgetsnbextension~=3.5.0->ipywidgets>=7.0.0->vectorbt) (2.11.3)\n",
      "Requirement already satisfied: wcwidth in c:\\users\\minsoo\\anaconda3\\lib\\site-packages (from prompt-toolkit!=3.0.0,!=3.0.1,<3.1.0,>=2.0.0->ipython>=4.0.0->ipywidgets>=7.0.0->vectorbt) (0.2.5)\n",
      "Requirement already satisfied: nbclient<0.6.0,>=0.5.0 in c:\\users\\minsoo\\anaconda3\\lib\\site-packages (from nbconvert>=5->notebook>=4.4.1->widgetsnbextension~=3.5.0->ipywidgets>=7.0.0->vectorbt) (0.5.13)\n",
      "Requirement already satisfied: mistune<2,>=0.8.1 in c:\\users\\minsoo\\anaconda3\\lib\\site-packages (from nbconvert>=5->notebook>=4.4.1->widgetsnbextension~=3.5.0->ipywidgets>=7.0.0->vectorbt) (0.8.4)\n",
      "Requirement already satisfied: testpath in c:\\users\\minsoo\\anaconda3\\lib\\site-packages (from nbconvert>=5->notebook>=4.4.1->widgetsnbextension~=3.5.0->ipywidgets>=7.0.0->vectorbt) (0.6.0)\n",
      "Requirement already satisfied: bleach in c:\\users\\minsoo\\anaconda3\\lib\\site-packages (from nbconvert>=5->notebook>=4.4.1->widgetsnbextension~=3.5.0->ipywidgets>=7.0.0->vectorbt) (4.1.0)\n",
      "Requirement already satisfied: defusedxml in c:\\users\\minsoo\\anaconda3\\lib\\site-packages (from nbconvert>=5->notebook>=4.4.1->widgetsnbextension~=3.5.0->ipywidgets>=7.0.0->vectorbt) (0.7.1)\n",
      "Requirement already satisfied: pandocfilters>=1.4.1 in c:\\users\\minsoo\\anaconda3\\lib\\site-packages (from nbconvert>=5->notebook>=4.4.1->widgetsnbextension~=3.5.0->ipywidgets>=7.0.0->vectorbt) (1.5.0)\n",
      "Requirement already satisfied: beautifulsoup4 in c:\\users\\minsoo\\anaconda3\\lib\\site-packages (from nbconvert>=5->notebook>=4.4.1->widgetsnbextension~=3.5.0->ipywidgets>=7.0.0->vectorbt) (4.11.1)\n",
      "Requirement already satisfied: jupyterlab-pygments in c:\\users\\minsoo\\anaconda3\\lib\\site-packages (from nbconvert>=5->notebook>=4.4.1->widgetsnbextension~=3.5.0->ipywidgets>=7.0.0->vectorbt) (0.1.2)\n",
      "Requirement already satisfied: MarkupSafe>=0.23 in c:\\users\\minsoo\\anaconda3\\lib\\site-packages (from jinja2->notebook>=4.4.1->widgetsnbextension~=3.5.0->ipywidgets>=7.0.0->vectorbt) (2.0.1)\n",
      "Requirement already satisfied: pywinpty>=1.1.0 in c:\\users\\minsoo\\anaconda3\\lib\\site-packages (from terminado>=0.8.3->notebook>=4.4.1->widgetsnbextension~=3.5.0->ipywidgets>=7.0.0->vectorbt) (2.0.2)\n",
      "Requirement already satisfied: argon2-cffi-bindings in c:\\users\\minsoo\\anaconda3\\lib\\site-packages (from argon2-cffi->notebook>=4.4.1->widgetsnbextension~=3.5.0->ipywidgets>=7.0.0->vectorbt) (21.2.0)\n",
      "Requirement already satisfied: cffi>=1.0.1 in c:\\users\\minsoo\\anaconda3\\lib\\site-packages (from argon2-cffi-bindings->argon2-cffi->notebook>=4.4.1->widgetsnbextension~=3.5.0->ipywidgets>=7.0.0->vectorbt) (1.15.1)\n",
      "Requirement already satisfied: soupsieve>1.2 in c:\\users\\minsoo\\anaconda3\\lib\\site-packages (from beautifulsoup4->nbconvert>=5->notebook>=4.4.1->widgetsnbextension~=3.5.0->ipywidgets>=7.0.0->vectorbt) (2.3.1)\n",
      "Requirement already satisfied: webencodings in c:\\users\\minsoo\\anaconda3\\lib\\site-packages (from bleach->nbconvert>=5->notebook>=4.4.1->widgetsnbextension~=3.5.0->ipywidgets>=7.0.0->vectorbt) (0.5.1)\n",
      "Requirement already satisfied: pycparser in c:\\users\\minsoo\\anaconda3\\lib\\site-packages (from cffi>=1.0.1->argon2-cffi-bindings->argon2-cffi->notebook>=4.4.1->widgetsnbextension~=3.5.0->ipywidgets>=7.0.0->vectorbt) (2.21)\n"
     ]
    }
   ],
   "source": [
    "!pip install vectorbt"
   ]
  },
  {
   "cell_type": "code",
   "execution_count": 2,
   "id": "3b4aaf43",
   "metadata": {},
   "outputs": [],
   "source": [
    "!pip install yfinance --quiet"
   ]
  },
  {
   "cell_type": "code",
   "execution_count": 3,
   "id": "9349c379",
   "metadata": {},
   "outputs": [
    {
     "data": {
      "text/plain": [
       "('ta-lib-0.4.0-src.tar.gz', <http.client.HTTPMessage at 0x17e8cdd5880>)"
      ]
     },
     "execution_count": 3,
     "metadata": {},
     "output_type": "execute_result"
    }
   ],
   "source": [
    "import urllib.request\n",
    "url = 'http://prdownloads.sourceforge.net/ta-lib/ta-lib-0.4.0-src.tar.gz'\n",
    "urllib.request.urlretrieve(url, 'ta-lib-0.4.0-src.tar.gz')\n"
   ]
  },
  {
   "cell_type": "code",
   "execution_count": 4,
   "id": "b5df0677",
   "metadata": {},
   "outputs": [
    {
     "name": "stderr",
     "output_type": "stream",
     "text": [
      "x ta-lib/\n",
      "x ta-lib/config.sub\n",
      "x ta-lib/aclocal.m4\n",
      "x ta-lib/CHANGELOG.TXT\n",
      "x ta-lib/include/\n",
      "x ta-lib/include/ta_abstract.h\n",
      "x ta-lib/include/ta_func.h\n",
      "x ta-lib/include/ta_common.h\n",
      "x ta-lib/include/ta_config.h.in\n",
      "x ta-lib/include/Makefile.am\n",
      "x ta-lib/include/ta_libc.h\n",
      "x ta-lib/include/ta_defs.h\n",
      "x ta-lib/missing\n",
      "x ta-lib/ta-lib.spec.in\n",
      "x ta-lib/config.guess\n",
      "x ta-lib/Makefile.in\n",
      "x ta-lib/ta-lib.dpkg.in\n",
      "x ta-lib/Makefile.am\n",
      "x ta-lib/autogen.sh\n",
      "x ta-lib/install-sh\n",
      "x ta-lib/configure\n",
      "x ta-lib/depcomp\n",
      "x ta-lib/HISTORY.TXT\n",
      "x ta-lib/configure.in\n",
      "x ta-lib/autom4te.cache/\n",
      "x ta-lib/autom4te.cache/output.0\n",
      "x ta-lib/autom4te.cache/requests\n",
      "x ta-lib/autom4te.cache/output.1\n",
      "x ta-lib/autom4te.cache/traces.0\n",
      "x ta-lib/autom4te.cache/traces.1\n",
      "x ta-lib/ltmain.sh\n",
      "x ta-lib/ta-lib-config.in\n",
      "x ta-lib/src/\n",
      "x ta-lib/src/ta_func/\n",
      "x ta-lib/src/ta_func/ta_MACDFIX.c\n",
      "x ta-lib/src/ta_func/ta_CDLPIERCING.c\n",
      "x ta-lib/src/ta_func/ta_DIV.c\n",
      "x ta-lib/src/ta_func/ta_ROCR100.c\n",
      "x ta-lib/src/ta_func/ta_ADXR.c\n",
      "x ta-lib/src/ta_func/ta_MAVP.c\n",
      "x ta-lib/src/ta_func/ta_CDLCLOSINGMARUBOZU.c\n",
      "x ta-lib/src/ta_func/ta_COSH.c\n",
      "x ta-lib/src/ta_func/ta_EXP.c\n",
      "x ta-lib/src/ta_func/ta_MINMAXINDEX.c\n",
      "x ta-lib/src/ta_func/ta_SQRT.c\n",
      "x ta-lib/src/ta_func/ta_FLOOR.c\n",
      "x ta-lib/src/ta_func/ta_CDLCONCEALBABYSWALL.c\n",
      "x ta-lib/src/ta_func/ta_NATR.c\n",
      "x ta-lib/src/ta_func/ta_CDLHARAMICROSS.c\n",
      "x ta-lib/src/ta_func/ta_MINUS_DM.c\n",
      "x ta-lib/src/ta_func/ta_LOG10.c\n",
      "x ta-lib/src/ta_func/ta_LINEARREG_ANGLE.c\n",
      "x ta-lib/src/ta_func/ta_RSI.c\n",
      "x ta-lib/src/ta_func/ta_CDLABANDONEDBABY.c\n",
      "x ta-lib/src/ta_func/ta_SAR.c\n",
      "x ta-lib/src/ta_func/ta_CDLBREAKAWAY.c\n",
      "x ta-lib/src/ta_func/ta_CDLDRAGONFLYDOJI.c\n",
      "x ta-lib/src/ta_func/ta_CDLHIGHWAVE.c\n",
      "x ta-lib/src/ta_func/ta_CDLKICKING.c\n",
      "x ta-lib/src/ta_func/ta_CDLDOJISTAR.c\n",
      "x ta-lib/src/ta_func/ta_VAR.c\n",
      "x ta-lib/src/ta_func/ta_CDLMATCHINGLOW.c\n",
      "x ta-lib/src/ta_func/ta_CDLGAPSIDESIDEWHITE.c\n",
      "x ta-lib/src/ta_func/ta_CDLMARUBOZU.c\n",
      "x ta-lib/src/ta_func/ta_AROONOSC.c\n",
      "x ta-lib/src/ta_func/ta_WCLPRICE.c\n",
      "x ta-lib/src/ta_func/ta_CDLEVENINGDOJISTAR.c\n",
      "x ta-lib/src/ta_func/ta_CDL3INSIDE.c\n",
      "x ta-lib/src/ta_func/ta_OBV.c\n",
      "x ta-lib/src/ta_func/ta_AROON.c\n",
      "x ta-lib/src/ta_func/ta_CDLBELTHOLD.c\n",
      "x ta-lib/src/ta_func/ta_CDLSPINNINGTOP.c\n",
      "x ta-lib/src/ta_func/ta_AD.c\n",
      "x ta-lib/src/ta_func/ta_MAX.c\n",
      "x ta-lib/src/ta_func/ta_CDLENGULFING.c\n",
      "x ta-lib/src/ta_func/ta_MINMAX.c\n",
      "x ta-lib/src/ta_func/ta_CDLINNECK.c\n",
      "x ta-lib/src/ta_func/ta_STDDEV.c\n",
      "x ta-lib/src/ta_func/ta_NVI.c\n",
      "x ta-lib/src/ta_func/ta_CDLHAMMER.c\n",
      "x ta-lib/src/ta_func/ta_ASIN.c\n",
      "x ta-lib/src/ta_func/ta_SUM.c\n",
      "x ta-lib/src/ta_func/ta_STOCH.c\n",
      "x ta-lib/src/ta_func/ta_CDLLONGLEGGEDDOJI.c\n",
      "x ta-lib/src/ta_func/ta_MEDPRICE.c\n",
      "x ta-lib/src/ta_func/ta_CDL3STARSINSOUTH.c\n",
      "x ta-lib/src/ta_func/ta_HT_TRENDMODE.c\n",
      "x ta-lib/src/ta_func/ta_BBANDS.c\n",
      "x ta-lib/src/ta_func/ta_CDLMORNINGSTAR.c\n",
      "x ta-lib/src/ta_func/ta_HT_DCPHASE.c\n",
      "x ta-lib/src/ta_func/ta_CDLLONGLINE.c\n",
      "x ta-lib/src/ta_func/ta_TAN.c\n",
      "x ta-lib/src/ta_func/ta_SMA.c\n",
      "x ta-lib/src/ta_func/ta_DX.c\n",
      "x ta-lib/src/ta_func/ta_MIDPOINT.c\n",
      "x ta-lib/src/ta_func/ta_CDL2CROWS.c\n",
      "x ta-lib/src/ta_func/ta_CORREL.c\n",
      "x ta-lib/src/ta_func/ta_CDL3BLACKCROWS.c\n",
      "x ta-lib/src/ta_func/ta_ADD.c\n",
      "x ta-lib/src/ta_func/Makefile.in\n",
      "x ta-lib/src/ta_func/ta_CDLTHRUSTING.c\n",
      "x ta-lib/src/ta_func/ta_SUB.c\n",
      "x ta-lib/src/ta_func/ta_CDLSTALLEDPATTERN.c\n",
      "x ta-lib/src/ta_func/ta_CDLTRISTAR.c\n",
      "x ta-lib/src/ta_func/ta_MA.c\n",
      "x ta-lib/src/ta_func/ta_HT_SINE.c\n",
      "x ta-lib/src/ta_func/ta_ACOS.c\n",
      "x ta-lib/src/ta_func/ta_CDLSTICKSANDWICH.c\n",
      "x ta-lib/src/ta_func/ta_SINH.c\n",
      "x ta-lib/src/ta_func/ta_utility.h\n",
      "x ta-lib/src/ta_func/ta_CDLSHORTLINE.c\n",
      "x ta-lib/src/ta_func/ta_ATAN.c\n",
      "x ta-lib/src/ta_func/ta_CDLADVANCEBLOCK.c\n",
      "x ta-lib/src/ta_func/ta_CDLKICKINGBYLENGTH.c\n",
      "x ta-lib/src/ta_func/ta_CDLSHOOTINGSTAR.c\n",
      "x ta-lib/src/ta_func/ta_ROCR.c\n",
      "x ta-lib/src/ta_func/ta_WMA.c\n",
      "x ta-lib/src/ta_func/ta_CDLDARKCLOUDCOVER.c\n",
      "x ta-lib/src/ta_func/ta_CDLXSIDEGAP3METHODS.c\n",
      "x ta-lib/src/ta_func/ta_TYPPRICE.c\n",
      "x ta-lib/src/ta_func/ta_CDL3WHITESOLDIERS.c\n",
      "x ta-lib/src/ta_func/Makefile.am\n",
      "x ta-lib/src/ta_func/ta_MACDEXT.c\n",
      "x ta-lib/src/ta_func/ta_ADX.c\n",
      "x ta-lib/src/ta_func/ta_PLUS_DM.c\n",
      "x ta-lib/src/ta_func/ta_CDLUPSIDEGAP2CROWS.c\n",
      "x ta-lib/src/ta_func/ta_LN.c\n",
      "x ta-lib/src/ta_func/ta_DEMA.c\n",
      "x ta-lib/src/ta_func/ta_CDL3OUTSIDE.c\n",
      "x ta-lib/src/ta_func/ta_CDLTASUKIGAP.c\n",
      "x ta-lib/src/ta_func/ta_MAMA.c\n",
      "x ta-lib/src/ta_func/ta_CDLMORNINGDOJISTAR.c\n",
      "x ta-lib/src/ta_func/ta_PLUS_DI.c\n",
      "x ta-lib/src/ta_func/ta_MININDEX.c\n",
      "x ta-lib/src/ta_func/ta_COS.c\n",
      "x ta-lib/src/ta_func/ta_HT_TRENDLINE.c\n",
      "x ta-lib/src/ta_func/ta_MIDPRICE.c\n",
      "x ta-lib/src/ta_func/ta_CEIL.c\n",
      "x ta-lib/src/ta_func/ta_TRIMA.c\n",
      "x ta-lib/src/ta_func/ta_CDLSEPARATINGLINES.c\n",
      "x ta-lib/src/ta_func/ta_ROCP.c\n",
      "x ta-lib/src/ta_func/ta_CDLHOMINGPIGEON.c\n",
      "x ta-lib/src/ta_func/ta_CDLHANGINGMAN.c\n",
      "x ta-lib/src/ta_func/ta_AVGPRICE.c\n",
      "x ta-lib/src/ta_func/ta_APO.c\n",
      "x ta-lib/src/ta_func/ta_CDLRISEFALL3METHODS.c\n",
      "x ta-lib/src/ta_func/ta_TRANGE.c\n",
      "x ta-lib/src/ta_func/ta_TSF.c\n",
      "x ta-lib/src/ta_func/ta_LINEARREG.c\n",
      "x ta-lib/src/ta_func/ta_PVI.c\n",
      "x ta-lib/src/ta_func/ta_CDLHIKKAKEMOD.c\n",
      "x ta-lib/src/ta_func/ta_MFI.c\n",
      "x ta-lib/src/ta_func/ta_CDLHARAMI.c\n",
      "x ta-lib/src/ta_func/ta_MACD.c\n",
      "x ta-lib/src/ta_func/ta_BETA.c\n",
      "x ta-lib/src/ta_func/ta_CDLINVERTEDHAMMER.c\n",
      "x ta-lib/src/ta_func/ta_LINEARREG_SLOPE.c\n",
      "x ta-lib/src/ta_func/ta_STOCHF.c\n",
      "x ta-lib/src/ta_func/ta_MIN.c\n",
      "x ta-lib/src/ta_func/ta_CDLIDENTICAL3CROWS.c\n",
      "x ta-lib/src/ta_func/ta_CDLRICKSHAWMAN.c\n",
      "x ta-lib/src/ta_func/ta_T3.c\n",
      "x ta-lib/src/ta_func/ta_CDLMATHOLD.c\n",
      "x ta-lib/src/ta_func/ta_CDLUNIQUE3RIVER.c\n",
      "x ta-lib/src/ta_func/ta_ADOSC.c\n",
      "x ta-lib/src/ta_func/ta_MAXINDEX.c\n",
      "x ta-lib/src/ta_func/ta_ULTOSC.c\n",
      "x ta-lib/src/ta_func/ta_TRIX.c\n",
      "x ta-lib/src/ta_func/ta_MOM.c\n",
      "x ta-lib/src/ta_func/ta_CDLDOJI.c\n",
      "x ta-lib/src/ta_func/ta_EMA.c\n",
      "x ta-lib/src/ta_func/ta_STOCHRSI.c\n",
      "x ta-lib/src/ta_func/ta_ROC.c\n",
      "x ta-lib/src/ta_func/ta_CDLEVENINGSTAR.c\n",
      "x ta-lib/src/ta_func/ta_CDLCOUNTERATTACK.c\n",
      "x ta-lib/src/ta_func/ta_LINEARREG_INTERCEPT.c\n",
      "x ta-lib/src/ta_func/ta_SAREXT.c\n",
      "x ta-lib/src/ta_func/ta_WILLR.c\n",
      "x ta-lib/src/ta_func/ta_MULT.c\n",
      "x ta-lib/src/ta_func/ta_ATR.c\n",
      "x ta-lib/src/ta_func/ta_BOP.c\n",
      "x ta-lib/src/ta_func/ta_CMO.c\n",
      "x ta-lib/src/ta_func/ta_CDLONNECK.c\n",
      "x ta-lib/src/ta_func/ta_CCI.c\n",
      "x ta-lib/src/ta_func/ta_CDLLADDERBOTTOM.c\n",
      "x ta-lib/src/ta_func/ta_HT_PHASOR.c\n",
      "x ta-lib/src/ta_func/ta_utility.c\n",
      "x ta-lib/src/ta_func/ta_PPO.c\n",
      "x ta-lib/src/ta_func/ta_CDLHIKKAKE.c\n",
      "x ta-lib/src/ta_func/ta_HT_DCPERIOD.c\n",
      "x ta-lib/src/ta_func/ta_CDL3LINESTRIKE.c\n",
      "x ta-lib/src/ta_func/ta_TEMA.c\n",
      "x ta-lib/src/ta_func/ta_SIN.c\n",
      "x ta-lib/src/ta_func/ta_MINUS_DI.c\n",
      "x ta-lib/src/ta_func/ta_KAMA.c\n",
      "x ta-lib/src/ta_func/ta_TANH.c\n",
      "x ta-lib/src/ta_func/ta_CDLTAKURI.c\n",
      "x ta-lib/src/ta_func/ta_CDLGRAVESTONEDOJI.c\n",
      "x ta-lib/src/ta_common/\n",
      "x ta-lib/src/ta_common/ta_pragma.h\n",
      "x ta-lib/src/ta_common/ta_magic_nb.h\n",
      "x ta-lib/src/ta_common/ta_retcode.csv\n",
      "x ta-lib/src/ta_common/Makefile.in\n",
      "x ta-lib/src/ta_common/Makefile.am\n",
      "x ta-lib/src/ta_common/ta_memory.h\n",
      "x ta-lib/src/ta_common/ta_version.c\n",
      "x ta-lib/src/ta_common/ta_global.h\n",
      "x ta-lib/src/ta_common/ta_global.c\n",
      "x ta-lib/src/ta_common/ta_retcode.c\n",
      "x ta-lib/src/Makefile.in\n",
      "x ta-lib/src/ta_abstract/\n",
      "x ta-lib/src/ta_abstract/frames/\n",
      "x ta-lib/src/ta_abstract/frames/ta_frame.c\n",
      "x ta-lib/src/ta_abstract/frames/ta_frame.h\n",
      "x ta-lib/src/ta_abstract/excel_glue.c\n",
      "x ta-lib/src/ta_abstract/ta_frame_priv.h\n",
      "x ta-lib/src/ta_abstract/ta_func_api.c\n",
      "x ta-lib/src/ta_abstract/Makefile.in\n",
      "x ta-lib/src/ta_abstract/ta_def_ui.h\n",
      "x ta-lib/src/ta_abstract/Makefile.am\n",
      "x ta-lib/src/ta_abstract/ta_abstract.c\n",
      "x ta-lib/src/ta_abstract/ta_group_idx.c\n",
      "x ta-lib/src/ta_abstract/tables/\n",
      "x ta-lib/src/ta_abstract/tables/table_u.c\n",
      "x ta-lib/src/ta_abstract/tables/table_x.c\n",
      "x ta-lib/src/ta_abstract/tables/table_r.c\n",
      "x ta-lib/src/ta_abstract/tables/table_f.c\n",
      "x ta-lib/src/ta_abstract/tables/table_j.c\n",
      "x ta-lib/src/ta_abstract/tables/table_e.c\n",
      "x ta-lib/src/ta_abstract/tables/table_t.c\n",
      "x ta-lib/src/ta_abstract/tables/table_n.c\n",
      "x ta-lib/src/ta_abstract/tables/table_i.c\n",
      "x ta-lib/src/ta_abstract/tables/table_c.c\n",
      "x ta-lib/src/ta_abstract/tables/table_l.c\n",
      "x ta-lib/src/ta_abstract/tables/table_k.c\n",
      "x ta-lib/src/ta_abstract/tables/table_g.c\n",
      "x ta-lib/src/ta_abstract/tables/table_d.c\n",
      "x ta-lib/src/ta_abstract/tables/table_h.c\n",
      "x ta-lib/src/ta_abstract/tables/table_o.c\n",
      "x ta-lib/src/ta_abstract/tables/table_b.c\n",
      "x ta-lib/src/ta_abstract/tables/table_q.c\n",
      "x ta-lib/src/ta_abstract/tables/table_v.c\n",
      "x ta-lib/src/ta_abstract/tables/table_m.c\n",
      "x ta-lib/src/ta_abstract/tables/table_s.c\n",
      "x ta-lib/src/ta_abstract/tables/table_y.c\n",
      "x ta-lib/src/ta_abstract/tables/table_p.c\n",
      "x ta-lib/src/ta_abstract/tables/table_z.c\n",
      "x ta-lib/src/ta_abstract/tables/table_a.c\n",
      "x ta-lib/src/ta_abstract/tables/table_w.c\n",
      "x ta-lib/src/ta_abstract/ta_def_ui.c\n",
      "x ta-lib/src/ta_abstract/templates/\n",
      "x ta-lib/src/ta_abstract/templates/ta_x.c.template\n",
      "x ta-lib/src/ta_abstract/templates/ta_java_defs.h.template\n",
      "x ta-lib/src/ta_abstract/templates/excel_glue.c.template\n",
      "x ta-lib/src/ta_abstract/templates/ta_group_idx.c.template\n",
      "x ta-lib/src/ta_abstract/templates/ta_frame.c.template\n",
      "x ta-lib/src/ta_abstract/templates/CoreAnnotated.java.template\n",
      "x ta-lib/src/ta_abstract/templates/ta_func.h.template\n",
      "x ta-lib/src/ta_abstract/templates/ta_frame.h.template\n",
      "x ta-lib/src/ta_abstract/templates/Makefile.am.template\n",
      "x ta-lib/src/ta_abstract/templates/ta_func_api.c.template\n",
      "x ta-lib/src/ta_abstract/templates/ta_func.swg.template\n",
      "x ta-lib/src/ta_abstract/templates/ta_retcode.c.template\n",
      "x ta-lib/src/ta_abstract/ta_java_defs.h\n",
      "x ta-lib/src/Makefile.am\n",
      "x ta-lib/src/tools/\n",
      "x ta-lib/src/tools/ta_regtest/\n",
      "x ta-lib/src/tools/ta_regtest/test_util.c\n",
      "x ta-lib/src/tools/ta_regtest/ta_test_func.h\n",
      "x ta-lib/src/tools/ta_regtest/test_data.c\n",
      "x ta-lib/src/tools/ta_regtest/ta_gDataHigh.c\n",
      "x ta-lib/src/tools/ta_regtest/Makefile.in\n",
      "x ta-lib/src/tools/ta_regtest/test_internals.c\n",
      "x ta-lib/src/tools/ta_regtest/Makefile.am\n",
      "x ta-lib/src/tools/ta_regtest/ta_regtest.c\n",
      "x ta-lib/src/tools/ta_regtest/ta_gDataOpen.c\n",
      "x ta-lib/src/tools/ta_regtest/ta_gDataClose.c\n",
      "x ta-lib/src/tools/ta_regtest/test_abstract.c\n",
      "x ta-lib/src/tools/ta_regtest/ta_test_func/\n",
      "x ta-lib/src/tools/ta_regtest/ta_test_func/test_bbands.c\n",
      "x ta-lib/src/tools/ta_regtest/ta_test_func/test_stddev.c\n",
      "x ta-lib/src/tools/ta_regtest/ta_test_func/test_1in_2out.c\n",
      "x ta-lib/src/tools/ta_regtest/ta_test_func/test_sar.c\n",
      "x ta-lib/src/tools/ta_regtest/ta_test_func/test_1in_1out.c\n",
      "x ta-lib/src/tools/ta_regtest/ta_test_func/test_trange.c\n",
      "x ta-lib/src/tools/ta_regtest/ta_test_func/test_macd.c\n",
      "x ta-lib/src/tools/ta_regtest/ta_test_func/test_po.c\n",
      "x ta-lib/src/tools/ta_regtest/ta_test_func/test_per_hlc.c\n",
      "x ta-lib/src/tools/ta_regtest/ta_test_func/test_mom.c\n",
      "x ta-lib/src/tools/ta_regtest/ta_test_func/test_per_ohlc.c\n",
      "x ta-lib/src/tools/ta_regtest/ta_test_func/test_adx.c\n",
      "x ta-lib/src/tools/ta_regtest/ta_test_func/test_candlestick.c\n",
      "x ta-lib/src/tools/ta_regtest/ta_test_func/test_rsi.c\n",
      "x ta-lib/src/tools/ta_regtest/ta_test_func/test_per_ema.c\n",
      "x ta-lib/src/tools/ta_regtest/ta_test_func/test_minmax.c\n",
      "x ta-lib/src/tools/ta_regtest/ta_test_func/test_per_hlcv.c\n",
      "x ta-lib/src/tools/ta_regtest/ta_test_func/test_per_hl.c\n",
      "x ta-lib/src/tools/ta_regtest/ta_test_func/test_stoch.c\n",
      "x ta-lib/src/tools/ta_regtest/ta_test_func/test_ma.c\n",
      "x ta-lib/src/tools/ta_regtest/ta_error_number.h\n",
      "x ta-lib/src/tools/ta_regtest/ta_test_priv.h\n",
      "x ta-lib/src/tools/ta_regtest/ReadMe.txt\n",
      "x ta-lib/src/tools/ta_regtest/ta_gDataLow.c\n",
      "x ta-lib/src/tools/Makefile.in\n",
      "x ta-lib/src/tools/Makefile.am\n",
      "x ta-lib/src/tools/gen_code/\n",
      "x ta-lib/src/tools/gen_code/java/\n",
      "x ta-lib/src/tools/gen_code/java/PrettyCode.java\n",
      "x ta-lib/src/tools/gen_code/java/Main.java\n",
      "x ta-lib/src/tools/gen_code/gen_code.c\n",
      "x ta-lib/src/tools/gen_code/Makefile.in\n",
      "x ta-lib/src/tools/gen_code/Makefile.am\n",
      "x ta-lib/src/tools/gen_code/mcpp.exe\n"
     ]
    }
   ],
   "source": [
    "!tar xvzf ta-lib-0.4.0-src.tar.gz"
   ]
  },
  {
   "cell_type": "code",
   "execution_count": 5,
   "id": "dacae686",
   "metadata": {},
   "outputs": [],
   "source": [
    "import os\n",
    "os.chdir('ta-lib') # Can't use !cd in co-lab"
   ]
  },
  {
   "cell_type": "code",
   "execution_count": 6,
   "id": "0c519096",
   "metadata": {},
   "outputs": [
    {
     "name": "stdout",
     "output_type": "stream",
     "text": [
      "Requirement already satisfied: TA-Lib in c:\\users\\minsoo\\anaconda3\\lib\\site-packages (0.4.19)\n",
      "Requirement already satisfied: numpy in c:\\users\\minsoo\\anaconda3\\lib\\site-packages (from TA-Lib) (1.21.5)\n"
     ]
    }
   ],
   "source": [
    "!pip install TA-Lib"
   ]
  },
  {
   "cell_type": "code",
   "execution_count": 7,
   "id": "0ddef05c",
   "metadata": {},
   "outputs": [
    {
     "name": "stdout",
     "output_type": "stream",
     "text": [
      "Package                       Version\n",
      "----------------------------- --------------------\n",
      "alabaster                     0.7.12\n",
      "anaconda-client               1.11.0\n",
      "anaconda-navigator            2.3.2\n",
      "anaconda-project              0.11.1\n",
      "anyio                         3.5.0\n",
      "appdirs                       1.4.4\n",
      "argon2-cffi                   21.3.0\n",
      "argon2-cffi-bindings          21.2.0\n",
      "arrow                         1.2.2\n",
      "astroid                       2.11.7\n",
      "astropy                       5.1\n",
      "atomicwrites                  1.4.0\n",
      "attrs                         21.4.0\n",
      "Automat                       20.2.0\n",
      "autopep8                      1.6.0\n",
      "Babel                         2.9.1\n",
      "backcall                      0.2.0\n",
      "backports.functools-lru-cache 1.6.4\n",
      "backports.tempfile            1.0\n",
      "backports.weakref             1.0.post1\n",
      "bcrypt                        3.2.0\n",
      "beautifulsoup4                4.11.1\n",
      "binaryornot                   0.4.4\n",
      "bitarray                      2.5.1\n",
      "bkcharts                      0.2\n",
      "black                         22.6.0\n",
      "bleach                        4.1.0\n",
      "bokeh                         2.4.3\n",
      "boto3                         1.24.28\n",
      "botocore                      1.27.28\n",
      "Bottleneck                    1.3.5\n",
      "brotlipy                      0.7.0\n",
      "certifi                       2022.12.7\n",
      "cffi                          1.15.1\n",
      "chardet                       4.0.0\n",
      "charset-normalizer            2.0.4\n",
      "click                         8.0.4\n",
      "cloudpickle                   2.0.0\n",
      "clyent                        1.2.2\n",
      "colorama                      0.4.5\n",
      "colorcet                      3.0.0\n",
      "comtypes                      1.1.10\n",
      "conda                         22.11.1\n",
      "conda-build                   3.22.0\n",
      "conda-content-trust           0.1.3\n",
      "conda-pack                    0.6.0\n",
      "conda-package-handling        1.9.0\n",
      "conda-repo-cli                1.0.20\n",
      "conda-token                   0.4.0\n",
      "conda-verify                  3.4.2\n",
      "constantly                    15.1.0\n",
      "cookiecutter                  1.7.3\n",
      "cryptography                  37.0.1\n",
      "cssselect                     1.1.0\n",
      "cycler                        0.11.0\n",
      "Cython                        0.29.32\n",
      "cytoolz                       0.11.0\n",
      "daal4py                       2021.6.0\n",
      "dask                          2022.7.0\n",
      "datashader                    0.14.1\n",
      "datashape                     0.5.4\n",
      "dateparser                    1.1.7\n",
      "DateTime                      5.0\n",
      "debugpy                       1.5.1\n",
      "decorator                     5.1.1\n",
      "defusedxml                    0.7.1\n",
      "Deprecated                    1.2.13\n",
      "diff-match-patch              20200713\n",
      "dill                          0.3.4\n",
      "distributed                   2022.7.0\n",
      "docutils                      0.18.1\n",
      "entrypoints                   0.4\n",
      "et-xmlfile                    1.1.0\n",
      "fastjsonschema                2.16.2\n",
      "filelock                      3.6.0\n",
      "finance-datareader            0.9.50\n",
      "flake8                        4.0.1\n",
      "Flask                         1.1.2\n",
      "fonttools                     4.25.0\n",
      "frozendict                    2.3.4\n",
      "fsspec                        2022.7.1\n",
      "future                        0.18.2\n",
      "gensim                        4.1.2\n",
      "glob2                         0.7\n",
      "greenlet                      1.1.1\n",
      "h5py                          3.7.0\n",
      "HeapDict                      1.0.1\n",
      "holoviews                     1.15.0\n",
      "html5lib                      1.1\n",
      "hvplot                        0.8.0\n",
      "hyperlink                     21.0.0\n",
      "idna                          3.3\n",
      "imagecodecs                   2021.8.26\n",
      "imageio                       2.19.3\n",
      "imagesize                     1.4.1\n",
      "importlib-metadata            4.11.3\n",
      "incremental                   21.3.0\n",
      "inflection                    0.5.1\n",
      "iniconfig                     1.1.1\n",
      "intake                        0.6.5\n",
      "intervaltree                  3.1.0\n",
      "ipykernel                     6.15.2\n",
      "ipynb-py-convert              0.4.6\n",
      "ipython                       7.31.1\n",
      "ipython-genutils              0.2.0\n",
      "ipywidgets                    7.6.5\n",
      "isort                         5.9.3\n",
      "itemadapter                   0.3.0\n",
      "itemloaders                   1.0.4\n",
      "itsdangerous                  2.0.1\n",
      "jdcal                         1.4.1\n",
      "jedi                          0.18.1\n",
      "jellyfish                     0.9.0\n",
      "Jinja2                        2.11.3\n",
      "jinja2-time                   0.2.0\n",
      "jmespath                      0.10.0\n",
      "joblib                        1.1.0\n",
      "json5                         0.9.6\n",
      "jsonschema                    4.16.0\n",
      "jupyter                       1.0.0\n",
      "jupyter_client                7.3.4\n",
      "jupyter-console               6.4.3\n",
      "jupyter_core                  4.11.1\n",
      "jupyter-server                1.18.1\n",
      "jupyterlab                    3.4.4\n",
      "jupyterlab-pygments           0.1.2\n",
      "jupyterlab-server             2.10.3\n",
      "jupyterlab-widgets            1.0.0\n",
      "jupyterthemes                 0.20.0\n",
      "keyring                       23.4.0\n",
      "kiwisolver                    1.4.2\n",
      "lazy-object-proxy             1.6.0\n",
      "lesscpy                       0.15.1\n",
      "libarchive-c                  2.9\n",
      "llvmlite                      0.38.0\n",
      "locket                        1.0.0\n",
      "lxml                          4.9.1\n",
      "lz4                           3.1.3\n",
      "Markdown                      3.3.4\n",
      "MarkupSafe                    2.0.1\n",
      "matplotlib                    3.5.2\n",
      "matplotlib-inline             0.1.6\n",
      "mccabe                        0.6.1\n",
      "menuinst                      1.4.19\n",
      "mistune                       0.8.4\n",
      "mkl-fft                       1.3.1\n",
      "mkl-random                    1.2.2\n",
      "mkl-service                   2.4.0\n",
      "mock                          4.0.3\n",
      "mpl-finance                   0.10.1\n",
      "mplcursors                    0.5.2\n",
      "mplfinance                    0.12.9b7\n",
      "mpmath                        1.2.1\n",
      "msgpack                       1.0.3\n",
      "multipledispatch              0.6.0\n",
      "multitasking                  0.0.11\n",
      "munkres                       1.1.4\n",
      "mypy-extensions               0.4.3\n",
      "navigator-updater             0.3.0\n",
      "nbclassic                     0.3.5\n",
      "nbclient                      0.5.13\n",
      "nbconvert                     6.4.4\n",
      "nbformat                      5.5.0\n",
      "nest-asyncio                  1.5.5\n",
      "networkx                      2.8.4\n",
      "nltk                          3.7\n",
      "nose                          1.3.7\n",
      "notebook                      6.4.12\n",
      "numba                         0.55.1\n",
      "numexpr                       2.8.3\n",
      "numpy                         1.21.5\n",
      "numpydoc                      1.4.0\n",
      "olefile                       0.46\n",
      "openpyxl                      3.0.10\n",
      "packaging                     21.3\n",
      "pandas                        1.4.4\n",
      "pandas-ta                     0.3.14b0\n",
      "pandocfilters                 1.5.0\n",
      "panel                         0.13.1\n",
      "param                         1.12.0\n",
      "paramiko                      2.8.1\n",
      "parsel                        1.6.0\n",
      "parso                         0.8.3\n",
      "partd                         1.2.0\n",
      "pathlib                       1.0.1\n",
      "pathspec                      0.9.0\n",
      "patsy                         0.5.2\n",
      "pep8                          1.7.1\n",
      "pexpect                       4.8.0\n",
      "pickleshare                   0.7.5\n",
      "Pillow                        9.2.0\n",
      "pip                           22.2.2\n",
      "pkginfo                       1.8.2\n",
      "platformdirs                  2.5.2\n",
      "plotly                        5.9.0\n",
      "pluggy                        1.0.0\n",
      "ply                           3.11\n",
      "poyo                          0.5.0\n",
      "prometheus-client             0.14.1\n",
      "prompt-toolkit                3.0.20\n",
      "Protego                       0.1.16\n",
      "psutil                        5.9.0\n",
      "ptyprocess                    0.7.0\n",
      "py                            1.11.0\n",
      "pyasn1                        0.4.8\n",
      "pyasn1-modules                0.2.8\n",
      "pycodestyle                   2.8.0\n",
      "pycosat                       0.6.3\n",
      "pycparser                     2.21\n",
      "pyct                          0.4.8\n",
      "pycurl                        7.45.1\n",
      "PyDispatcher                  2.0.5\n",
      "pydocstyle                    6.1.1\n",
      "pyerfa                        2.0.0\n",
      "pyflakes                      2.4.0\n",
      "Pygments                      2.11.2\n",
      "PyHamcrest                    2.0.2\n",
      "PyJWT                         2.4.0\n",
      "pykrx                         1.0.40\n",
      "pylint                        2.14.5\n",
      "pyls-spyder                   0.4.0\n",
      "PyNaCl                        1.5.0\n",
      "pyodbc                        4.0.34\n",
      "pyOpenSSL                     22.0.0\n",
      "pyparsing                     3.0.9\n",
      "pyrsistent                    0.18.0\n",
      "PySocks                       1.7.1\n",
      "pytest                        7.1.2\n",
      "python-dateutil               2.8.2\n",
      "python-lsp-black              1.0.0\n",
      "python-lsp-jsonrpc            1.0.0\n",
      "python-lsp-server             1.3.3\n",
      "python-slugify                5.0.2\n",
      "python-snappy                 0.6.0\n",
      "pytz                          2022.7.1\n",
      "pytz-deprecation-shim         0.1.0.post0\n",
      "pyviz-comms                   2.0.2\n",
      "PyWavelets                    1.3.0\n",
      "pywin32                       302\n",
      "pywin32-ctypes                0.2.0\n",
      "pywinpty                      2.0.2\n",
      "PyYAML                        6.0\n",
      "pyzmq                         23.2.0\n",
      "QDarkStyle                    3.0.2\n",
      "qstylizer                     0.1.10\n",
      "QtAwesome                     1.0.3\n",
      "qtconsole                     5.2.2\n",
      "QtPy                          2.2.0\n",
      "queuelib                      1.5.0\n",
      "regex                         2022.7.9\n",
      "requests                      2.28.1\n",
      "requests-file                 1.5.1\n",
      "rope                          0.22.0\n",
      "Rtree                         0.9.7\n",
      "ruamel.yaml                   0.17.21\n",
      "ruamel.yaml.clib              0.2.6\n",
      "ruamel-yaml-conda             0.15.100\n",
      "s3transfer                    0.6.0\n",
      "schedule                      1.1.0\n",
      "scikit-image                  0.19.2\n",
      "scikit-learn                  1.0.2\n",
      "scikit-learn-intelex          2021.20221004.171935\n",
      "scipy                         1.9.1\n",
      "Scrapy                        2.6.2\n",
      "seaborn                       0.11.2\n",
      "Send2Trash                    1.8.0\n",
      "service-identity              18.1.0\n",
      "setuptools                    63.4.1\n",
      "sip                           4.19.13\n",
      "six                           1.16.0\n",
      "smart-open                    5.2.1\n",
      "sniffio                       1.2.0\n",
      "snowballstemmer               2.2.0\n",
      "sortedcollections             2.1.0\n",
      "sortedcontainers              2.4.0\n",
      "soupsieve                     2.3.1\n",
      "Sphinx                        5.0.2\n",
      "sphinxcontrib-applehelp       1.0.2\n",
      "sphinxcontrib-devhelp         1.0.2\n",
      "sphinxcontrib-htmlhelp        2.0.0\n",
      "sphinxcontrib-jsmath          1.0.1\n",
      "sphinxcontrib-qthelp          1.0.3\n",
      "sphinxcontrib-serializinghtml 1.1.5\n",
      "spyder                        5.2.2\n",
      "spyder-kernels                2.2.1\n",
      "SQLAlchemy                    1.4.39\n",
      "statsmodels                   0.13.2\n",
      "sympy                         1.10.1\n",
      "ta                            0.10.2\n",
      "TA-Lib                        0.4.19\n",
      "tables                        3.6.1\n",
      "tabulate                      0.8.10\n",
      "TBB                           0.2\n",
      "tblib                         1.7.0\n",
      "tenacity                      8.0.1\n",
      "terminado                     0.13.1\n",
      "testpath                      0.6.0\n",
      "text-unidecode                1.3\n",
      "textdistance                  4.2.1\n",
      "threadpoolctl                 2.2.0\n",
      "three-merge                   0.1.1\n",
      "tifffile                      2021.7.2\n",
      "tinycss                       0.4\n",
      "tldextract                    3.2.0\n",
      "toml                          0.10.2\n",
      "tomli                         2.0.1\n",
      "tomlkit                       0.11.1\n",
      "toolz                         0.11.2\n",
      "tornado                       6.1\n",
      "tqdm                          4.64.1\n",
      "traitlets                     5.1.1\n",
      "Twisted                       22.2.0\n",
      "twisted-iocpsupport           1.0.2\n",
      "typing_extensions             4.3.0\n",
      "tzdata                        2022.7\n",
      "tzlocal                       4.2\n",
      "ujson                         5.4.0\n",
      "Unidecode                     1.2.0\n",
      "urllib3                       1.26.11\n",
      "vectorbt                      0.24.5\n",
      "w3lib                         1.21.0\n",
      "watchdog                      2.1.6\n",
      "wcwidth                       0.2.5\n",
      "webencodings                  0.5.1\n",
      "websocket-client              0.58.0\n",
      "Werkzeug                      2.0.3\n",
      "wheel                         0.37.1\n",
      "widgetsnbextension            3.5.2\n",
      "win-inet-pton                 1.1.0\n",
      "win-unicode-console           0.5\n",
      "wincertstore                  0.2\n",
      "wrapt                         1.14.1\n",
      "xarray                        0.20.1\n",
      "xlrd                          2.0.1\n",
      "XlsxWriter                    3.0.3\n",
      "xlwings                       0.27.15\n",
      "yapf                          0.31.0\n",
      "yfinance                      0.2.4\n",
      "zict                          2.1.0\n",
      "zipp                          3.8.0\n",
      "zope.interface                5.4.0\n"
     ]
    }
   ],
   "source": [
    "!pip list"
   ]
  },
  {
   "cell_type": "code",
   "execution_count": 8,
   "id": "278e841e",
   "metadata": {
    "scrolled": true
   },
   "outputs": [
    {
     "name": "stdout",
     "output_type": "stream",
     "text": [
      "Requirement already satisfied: TA-Lib in c:\\users\\minsoo\\anaconda3\\lib\\site-packages (0.4.19)\n",
      "Requirement already satisfied: numpy in c:\\users\\minsoo\\anaconda3\\lib\\site-packages (from TA-Lib) (1.21.5)\n"
     ]
    }
   ],
   "source": [
    "!pip install TA-Lib"
   ]
  },
  {
   "cell_type": "code",
   "execution_count": 9,
   "id": "621768eb",
   "metadata": {},
   "outputs": [
    {
     "name": "stdout",
     "output_type": "stream",
     "text": [
      "Requirement already satisfied: ta in c:\\users\\minsoo\\anaconda3\\lib\\site-packages (0.10.2)\n",
      "Requirement already satisfied: pandas in c:\\users\\minsoo\\anaconda3\\lib\\site-packages (from ta) (1.4.4)\n",
      "Requirement already satisfied: numpy in c:\\users\\minsoo\\anaconda3\\lib\\site-packages (from ta) (1.21.5)\n",
      "Requirement already satisfied: pytz>=2020.1 in c:\\users\\minsoo\\anaconda3\\lib\\site-packages (from pandas->ta) (2022.7.1)\n",
      "Requirement already satisfied: python-dateutil>=2.8.1 in c:\\users\\minsoo\\anaconda3\\lib\\site-packages (from pandas->ta) (2.8.2)\n",
      "Requirement already satisfied: six>=1.5 in c:\\users\\minsoo\\anaconda3\\lib\\site-packages (from python-dateutil>=2.8.1->pandas->ta) (1.16.0)\n"
     ]
    }
   ],
   "source": [
    "!pip install --upgrade ta"
   ]
  },
  {
   "cell_type": "code",
   "execution_count": 10,
   "id": "b2620ae4",
   "metadata": {},
   "outputs": [
    {
     "name": "stdout",
     "output_type": "stream",
     "text": [
      "[*********************100%***********************]  1 of 1 completed\n"
     ]
    },
    {
     "data": {
      "text/html": [
       "<div>\n",
       "<style scoped>\n",
       "    .dataframe tbody tr th:only-of-type {\n",
       "        vertical-align: middle;\n",
       "    }\n",
       "\n",
       "    .dataframe tbody tr th {\n",
       "        vertical-align: top;\n",
       "    }\n",
       "\n",
       "    .dataframe thead th {\n",
       "        text-align: right;\n",
       "    }\n",
       "</style>\n",
       "<table border=\"1\" class=\"dataframe\">\n",
       "  <thead>\n",
       "    <tr style=\"text-align: right;\">\n",
       "      <th></th>\n",
       "      <th>Open</th>\n",
       "      <th>High</th>\n",
       "      <th>Low</th>\n",
       "      <th>Close</th>\n",
       "      <th>Adj Close</th>\n",
       "      <th>Volume</th>\n",
       "    </tr>\n",
       "    <tr>\n",
       "      <th>Date</th>\n",
       "      <th></th>\n",
       "      <th></th>\n",
       "      <th></th>\n",
       "      <th></th>\n",
       "      <th></th>\n",
       "      <th></th>\n",
       "    </tr>\n",
       "  </thead>\n",
       "  <tbody>\n",
       "    <tr>\n",
       "      <th>2020-04-01 00:00:00-04:00</th>\n",
       "      <td>247.979996</td>\n",
       "      <td>257.660004</td>\n",
       "      <td>243.899994</td>\n",
       "      <td>246.149994</td>\n",
       "      <td>236.031830</td>\n",
       "      <td>189554600</td>\n",
       "    </tr>\n",
       "    <tr>\n",
       "      <th>2020-04-02 00:00:00-04:00</th>\n",
       "      <td>245.190002</td>\n",
       "      <td>252.679993</td>\n",
       "      <td>244.589996</td>\n",
       "      <td>251.830002</td>\n",
       "      <td>241.478348</td>\n",
       "      <td>177660400</td>\n",
       "    </tr>\n",
       "    <tr>\n",
       "      <th>2020-04-03 00:00:00-04:00</th>\n",
       "      <td>250.759995</td>\n",
       "      <td>253.320007</td>\n",
       "      <td>245.220001</td>\n",
       "      <td>248.190002</td>\n",
       "      <td>237.987991</td>\n",
       "      <td>135561200</td>\n",
       "    </tr>\n",
       "    <tr>\n",
       "      <th>2020-04-06 00:00:00-04:00</th>\n",
       "      <td>257.839996</td>\n",
       "      <td>267.000000</td>\n",
       "      <td>248.169998</td>\n",
       "      <td>264.859985</td>\n",
       "      <td>253.972687</td>\n",
       "      <td>188061200</td>\n",
       "    </tr>\n",
       "    <tr>\n",
       "      <th>2020-04-07 00:00:00-04:00</th>\n",
       "      <td>274.209991</td>\n",
       "      <td>275.029999</td>\n",
       "      <td>264.890015</td>\n",
       "      <td>265.130005</td>\n",
       "      <td>254.231659</td>\n",
       "      <td>201427200</td>\n",
       "    </tr>\n",
       "    <tr>\n",
       "      <th>2020-04-08 00:00:00-04:00</th>\n",
       "      <td>267.959991</td>\n",
       "      <td>276.000000</td>\n",
       "      <td>265.250000</td>\n",
       "      <td>274.029999</td>\n",
       "      <td>262.765839</td>\n",
       "      <td>153774500</td>\n",
       "    </tr>\n",
       "    <tr>\n",
       "      <th>2020-04-09 00:00:00-04:00</th>\n",
       "      <td>277.579987</td>\n",
       "      <td>281.200012</td>\n",
       "      <td>275.470001</td>\n",
       "      <td>278.200012</td>\n",
       "      <td>266.764404</td>\n",
       "      <td>189999200</td>\n",
       "    </tr>\n",
       "    <tr>\n",
       "      <th>2020-04-13 00:00:00-04:00</th>\n",
       "      <td>277.140015</td>\n",
       "      <td>277.510010</td>\n",
       "      <td>271.410004</td>\n",
       "      <td>275.660004</td>\n",
       "      <td>264.328857</td>\n",
       "      <td>114839100</td>\n",
       "    </tr>\n",
       "    <tr>\n",
       "      <th>2020-04-14 00:00:00-04:00</th>\n",
       "      <td>280.980011</td>\n",
       "      <td>284.899994</td>\n",
       "      <td>275.510010</td>\n",
       "      <td>283.790009</td>\n",
       "      <td>272.124634</td>\n",
       "      <td>134143400</td>\n",
       "    </tr>\n",
       "    <tr>\n",
       "      <th>2020-04-15 00:00:00-04:00</th>\n",
       "      <td>277.570007</td>\n",
       "      <td>283.940002</td>\n",
       "      <td>275.459991</td>\n",
       "      <td>277.760010</td>\n",
       "      <td>266.342499</td>\n",
       "      <td>121775000</td>\n",
       "    </tr>\n",
       "    <tr>\n",
       "      <th>2020-04-16 00:00:00-04:00</th>\n",
       "      <td>279.149994</td>\n",
       "      <td>280.029999</td>\n",
       "      <td>275.760010</td>\n",
       "      <td>279.100006</td>\n",
       "      <td>267.627411</td>\n",
       "      <td>131798300</td>\n",
       "    </tr>\n",
       "    <tr>\n",
       "      <th>2020-04-17 00:00:00-04:00</th>\n",
       "      <td>285.380005</td>\n",
       "      <td>287.299988</td>\n",
       "      <td>282.399994</td>\n",
       "      <td>286.640015</td>\n",
       "      <td>274.857483</td>\n",
       "      <td>146684800</td>\n",
       "    </tr>\n",
       "    <tr>\n",
       "      <th>2020-04-20 00:00:00-04:00</th>\n",
       "      <td>282.609985</td>\n",
       "      <td>286.790009</td>\n",
       "      <td>281.350006</td>\n",
       "      <td>281.589996</td>\n",
       "      <td>270.015015</td>\n",
       "      <td>100109300</td>\n",
       "    </tr>\n",
       "    <tr>\n",
       "      <th>2020-04-21 00:00:00-04:00</th>\n",
       "      <td>276.730011</td>\n",
       "      <td>278.040009</td>\n",
       "      <td>272.019989</td>\n",
       "      <td>273.040009</td>\n",
       "      <td>261.816528</td>\n",
       "      <td>126385700</td>\n",
       "    </tr>\n",
       "    <tr>\n",
       "      <th>2020-04-22 00:00:00-04:00</th>\n",
       "      <td>278.350006</td>\n",
       "      <td>281.000000</td>\n",
       "      <td>276.910004</td>\n",
       "      <td>279.100006</td>\n",
       "      <td>267.627411</td>\n",
       "      <td>92951600</td>\n",
       "    </tr>\n",
       "    <tr>\n",
       "      <th>2020-04-23 00:00:00-04:00</th>\n",
       "      <td>280.489990</td>\n",
       "      <td>283.940002</td>\n",
       "      <td>278.750000</td>\n",
       "      <td>279.079987</td>\n",
       "      <td>267.608215</td>\n",
       "      <td>104709700</td>\n",
       "    </tr>\n",
       "    <tr>\n",
       "      <th>2020-04-24 00:00:00-04:00</th>\n",
       "      <td>280.730011</td>\n",
       "      <td>283.700012</td>\n",
       "      <td>278.500000</td>\n",
       "      <td>282.970001</td>\n",
       "      <td>271.338287</td>\n",
       "      <td>85063200</td>\n",
       "    </tr>\n",
       "    <tr>\n",
       "      <th>2020-04-27 00:00:00-04:00</th>\n",
       "      <td>285.119995</td>\n",
       "      <td>288.269989</td>\n",
       "      <td>284.619995</td>\n",
       "      <td>287.049988</td>\n",
       "      <td>275.250610</td>\n",
       "      <td>77896600</td>\n",
       "    </tr>\n",
       "    <tr>\n",
       "      <th>2020-04-28 00:00:00-04:00</th>\n",
       "      <td>291.019989</td>\n",
       "      <td>291.399994</td>\n",
       "      <td>285.399994</td>\n",
       "      <td>285.730011</td>\n",
       "      <td>273.984894</td>\n",
       "      <td>105270000</td>\n",
       "    </tr>\n",
       "    <tr>\n",
       "      <th>2020-04-29 00:00:00-04:00</th>\n",
       "      <td>291.529999</td>\n",
       "      <td>294.880005</td>\n",
       "      <td>290.410004</td>\n",
       "      <td>293.209991</td>\n",
       "      <td>281.157379</td>\n",
       "      <td>118745600</td>\n",
       "    </tr>\n",
       "  </tbody>\n",
       "</table>\n",
       "</div>"
      ],
      "text/plain": [
       "                                 Open        High         Low       Close  \\\n",
       "Date                                                                        \n",
       "2020-04-01 00:00:00-04:00  247.979996  257.660004  243.899994  246.149994   \n",
       "2020-04-02 00:00:00-04:00  245.190002  252.679993  244.589996  251.830002   \n",
       "2020-04-03 00:00:00-04:00  250.759995  253.320007  245.220001  248.190002   \n",
       "2020-04-06 00:00:00-04:00  257.839996  267.000000  248.169998  264.859985   \n",
       "2020-04-07 00:00:00-04:00  274.209991  275.029999  264.890015  265.130005   \n",
       "2020-04-08 00:00:00-04:00  267.959991  276.000000  265.250000  274.029999   \n",
       "2020-04-09 00:00:00-04:00  277.579987  281.200012  275.470001  278.200012   \n",
       "2020-04-13 00:00:00-04:00  277.140015  277.510010  271.410004  275.660004   \n",
       "2020-04-14 00:00:00-04:00  280.980011  284.899994  275.510010  283.790009   \n",
       "2020-04-15 00:00:00-04:00  277.570007  283.940002  275.459991  277.760010   \n",
       "2020-04-16 00:00:00-04:00  279.149994  280.029999  275.760010  279.100006   \n",
       "2020-04-17 00:00:00-04:00  285.380005  287.299988  282.399994  286.640015   \n",
       "2020-04-20 00:00:00-04:00  282.609985  286.790009  281.350006  281.589996   \n",
       "2020-04-21 00:00:00-04:00  276.730011  278.040009  272.019989  273.040009   \n",
       "2020-04-22 00:00:00-04:00  278.350006  281.000000  276.910004  279.100006   \n",
       "2020-04-23 00:00:00-04:00  280.489990  283.940002  278.750000  279.079987   \n",
       "2020-04-24 00:00:00-04:00  280.730011  283.700012  278.500000  282.970001   \n",
       "2020-04-27 00:00:00-04:00  285.119995  288.269989  284.619995  287.049988   \n",
       "2020-04-28 00:00:00-04:00  291.019989  291.399994  285.399994  285.730011   \n",
       "2020-04-29 00:00:00-04:00  291.529999  294.880005  290.410004  293.209991   \n",
       "\n",
       "                            Adj Close     Volume  \n",
       "Date                                              \n",
       "2020-04-01 00:00:00-04:00  236.031830  189554600  \n",
       "2020-04-02 00:00:00-04:00  241.478348  177660400  \n",
       "2020-04-03 00:00:00-04:00  237.987991  135561200  \n",
       "2020-04-06 00:00:00-04:00  253.972687  188061200  \n",
       "2020-04-07 00:00:00-04:00  254.231659  201427200  \n",
       "2020-04-08 00:00:00-04:00  262.765839  153774500  \n",
       "2020-04-09 00:00:00-04:00  266.764404  189999200  \n",
       "2020-04-13 00:00:00-04:00  264.328857  114839100  \n",
       "2020-04-14 00:00:00-04:00  272.124634  134143400  \n",
       "2020-04-15 00:00:00-04:00  266.342499  121775000  \n",
       "2020-04-16 00:00:00-04:00  267.627411  131798300  \n",
       "2020-04-17 00:00:00-04:00  274.857483  146684800  \n",
       "2020-04-20 00:00:00-04:00  270.015015  100109300  \n",
       "2020-04-21 00:00:00-04:00  261.816528  126385700  \n",
       "2020-04-22 00:00:00-04:00  267.627411   92951600  \n",
       "2020-04-23 00:00:00-04:00  267.608215  104709700  \n",
       "2020-04-24 00:00:00-04:00  271.338287   85063200  \n",
       "2020-04-27 00:00:00-04:00  275.250610   77896600  \n",
       "2020-04-28 00:00:00-04:00  273.984894  105270000  \n",
       "2020-04-29 00:00:00-04:00  281.157379  118745600  "
      ]
     },
     "execution_count": 10,
     "metadata": {},
     "output_type": "execute_result"
    }
   ],
   "source": [
    "import vectorbt as vbt\n",
    "import yfinance as yf\n",
    "import talib\n",
    "\n",
    "data = yf.download(\"SPY\", start='2020-04-01',end='2020-04-30')\n",
    "data"
   ]
  },
  {
   "cell_type": "code",
   "execution_count": 11,
   "id": "355c6e83",
   "metadata": {},
   "outputs": [
    {
     "data": {
      "text/plain": [
       "Date\n",
       "2020-04-01 00:00:00-04:00    0\n",
       "2020-04-02 00:00:00-04:00    0\n",
       "2020-04-03 00:00:00-04:00    0\n",
       "2020-04-06 00:00:00-04:00    0\n",
       "2020-04-07 00:00:00-04:00    0\n",
       "2020-04-08 00:00:00-04:00    0\n",
       "2020-04-09 00:00:00-04:00    0\n",
       "2020-04-13 00:00:00-04:00    0\n",
       "2020-04-14 00:00:00-04:00    0\n",
       "2020-04-15 00:00:00-04:00    0\n",
       "2020-04-16 00:00:00-04:00    0\n",
       "2020-04-17 00:00:00-04:00    0\n",
       "2020-04-20 00:00:00-04:00    0\n",
       "2020-04-21 00:00:00-04:00    0\n",
       "2020-04-22 00:00:00-04:00    0\n",
       "2020-04-23 00:00:00-04:00    0\n",
       "2020-04-24 00:00:00-04:00    0\n",
       "2020-04-27 00:00:00-04:00    0\n",
       "2020-04-28 00:00:00-04:00    0\n",
       "2020-04-29 00:00:00-04:00    0\n",
       "dtype: int32"
      ]
     },
     "execution_count": 11,
     "metadata": {},
     "output_type": "execute_result"
    }
   ],
   "source": [
    "hammer = talib.CDLHAMMER(data.Open, data.High, data.Low, data.Close)\n",
    "hammer    # 망치형이 아니면 0, 망치형이면 100을 저장"
   ]
  },
  {
   "cell_type": "code",
   "execution_count": 12,
   "id": "fab3cd51",
   "metadata": {},
   "outputs": [
    {
     "name": "stdout",
     "output_type": "stream",
     "text": [
      "Series([], dtype: int32)\n"
     ]
    }
   ],
   "source": [
    "print(hammer[hammer==100]) #매수 타이밍 "
   ]
  },
  {
   "cell_type": "code",
   "execution_count": 21,
   "id": "f0137bf0",
   "metadata": {},
   "outputs": [],
   "source": [
    "# 캔들 차트 그리는 함수로 실제 해당 일에 망치형이 되는지 확인해보기\n",
    "import pandas as pd\n",
    "import plotly.graph_objs as go\n",
    "import pandas as pd\n",
    "\n",
    "def plot_candlestick(dataframe):\n",
    "    fig = go.Figure(data=[go.Candlestick(x=dataframe.index,\n",
    "                                         open=dataframe['Open'],\n",
    "                                         high=dataframe['High'],\n",
    "                                         low=dataframe['Low'],\n",
    "                                         close=dataframe['Close'])])\n",
    "\n",
    "    fig.show()\n"
   ]
  },
  {
   "cell_type": "code",
   "execution_count": 23,
   "id": "201ab2ea",
   "metadata": {},
   "outputs": [
    {
     "data": {
      "application/vnd.plotly.v1+json": {
       "config": {
        "plotlyServerURL": "https://plot.ly"
       },
       "data": [
        {
         "close": [
          246.14999389648438,
          251.8300018310547,
          248.19000244140625,
          264.8599853515625,
          265.1300048828125,
          274.0299987792969,
          278.20001220703125,
          275.6600036621094,
          283.7900085449219,
          277.760009765625,
          279.1000061035156,
          286.6400146484375,
          281.5899963378906,
          273.0400085449219,
          279.1000061035156,
          279.0799865722656,
          282.9700012207031,
          287.04998779296875,
          285.7300109863281,
          293.2099914550781
         ],
         "high": [
          257.6600036621094,
          252.67999267578125,
          253.32000732421875,
          267,
          275.0299987792969,
          276,
          281.20001220703125,
          277.510009765625,
          284.8999938964844,
          283.94000244140625,
          280.0299987792969,
          287.29998779296875,
          286.7900085449219,
          278.0400085449219,
          281,
          283.94000244140625,
          283.70001220703125,
          288.2699890136719,
          291.3999938964844,
          294.8800048828125
         ],
         "low": [
          243.89999389648438,
          244.58999633789062,
          245.22000122070312,
          248.1699981689453,
          264.8900146484375,
          265.25,
          275.4700012207031,
          271.4100036621094,
          275.510009765625,
          275.4599914550781,
          275.760009765625,
          282.3999938964844,
          281.3500061035156,
          272.0199890136719,
          276.9100036621094,
          278.75,
          278.5,
          284.6199951171875,
          285.3999938964844,
          290.4100036621094
         ],
         "open": [
          247.97999572753906,
          245.19000244140625,
          250.75999450683594,
          257.8399963378906,
          274.2099914550781,
          267.9599914550781,
          277.5799865722656,
          277.1400146484375,
          280.9800109863281,
          277.57000732421875,
          279.1499938964844,
          285.3800048828125,
          282.6099853515625,
          276.7300109863281,
          278.3500061035156,
          280.489990234375,
          280.7300109863281,
          285.1199951171875,
          291.0199890136719,
          291.5299987792969
         ],
         "type": "candlestick",
         "x": [
          "2020-04-01T00:00:00-04:00",
          "2020-04-02T00:00:00-04:00",
          "2020-04-03T00:00:00-04:00",
          "2020-04-06T00:00:00-04:00",
          "2020-04-07T00:00:00-04:00",
          "2020-04-08T00:00:00-04:00",
          "2020-04-09T00:00:00-04:00",
          "2020-04-13T00:00:00-04:00",
          "2020-04-14T00:00:00-04:00",
          "2020-04-15T00:00:00-04:00",
          "2020-04-16T00:00:00-04:00",
          "2020-04-17T00:00:00-04:00",
          "2020-04-20T00:00:00-04:00",
          "2020-04-21T00:00:00-04:00",
          "2020-04-22T00:00:00-04:00",
          "2020-04-23T00:00:00-04:00",
          "2020-04-24T00:00:00-04:00",
          "2020-04-27T00:00:00-04:00",
          "2020-04-28T00:00:00-04:00",
          "2020-04-29T00:00:00-04:00"
         ]
        }
       ],
       "layout": {
        "template": {
         "data": {
          "bar": [
           {
            "error_x": {
             "color": "#2a3f5f"
            },
            "error_y": {
             "color": "#2a3f5f"
            },
            "marker": {
             "line": {
              "color": "#E5ECF6",
              "width": 0.5
             },
             "pattern": {
              "fillmode": "overlay",
              "size": 10,
              "solidity": 0.2
             }
            },
            "type": "bar"
           }
          ],
          "barpolar": [
           {
            "marker": {
             "line": {
              "color": "#E5ECF6",
              "width": 0.5
             },
             "pattern": {
              "fillmode": "overlay",
              "size": 10,
              "solidity": 0.2
             }
            },
            "type": "barpolar"
           }
          ],
          "carpet": [
           {
            "aaxis": {
             "endlinecolor": "#2a3f5f",
             "gridcolor": "white",
             "linecolor": "white",
             "minorgridcolor": "white",
             "startlinecolor": "#2a3f5f"
            },
            "baxis": {
             "endlinecolor": "#2a3f5f",
             "gridcolor": "white",
             "linecolor": "white",
             "minorgridcolor": "white",
             "startlinecolor": "#2a3f5f"
            },
            "type": "carpet"
           }
          ],
          "choropleth": [
           {
            "colorbar": {
             "outlinewidth": 0,
             "ticks": ""
            },
            "type": "choropleth"
           }
          ],
          "contour": [
           {
            "colorbar": {
             "outlinewidth": 0,
             "ticks": ""
            },
            "colorscale": [
             [
              0,
              "#0d0887"
             ],
             [
              0.1111111111111111,
              "#46039f"
             ],
             [
              0.2222222222222222,
              "#7201a8"
             ],
             [
              0.3333333333333333,
              "#9c179e"
             ],
             [
              0.4444444444444444,
              "#bd3786"
             ],
             [
              0.5555555555555556,
              "#d8576b"
             ],
             [
              0.6666666666666666,
              "#ed7953"
             ],
             [
              0.7777777777777778,
              "#fb9f3a"
             ],
             [
              0.8888888888888888,
              "#fdca26"
             ],
             [
              1,
              "#f0f921"
             ]
            ],
            "type": "contour"
           }
          ],
          "contourcarpet": [
           {
            "colorbar": {
             "outlinewidth": 0,
             "ticks": ""
            },
            "type": "contourcarpet"
           }
          ],
          "heatmap": [
           {
            "colorbar": {
             "outlinewidth": 0,
             "ticks": ""
            },
            "colorscale": [
             [
              0,
              "#0d0887"
             ],
             [
              0.1111111111111111,
              "#46039f"
             ],
             [
              0.2222222222222222,
              "#7201a8"
             ],
             [
              0.3333333333333333,
              "#9c179e"
             ],
             [
              0.4444444444444444,
              "#bd3786"
             ],
             [
              0.5555555555555556,
              "#d8576b"
             ],
             [
              0.6666666666666666,
              "#ed7953"
             ],
             [
              0.7777777777777778,
              "#fb9f3a"
             ],
             [
              0.8888888888888888,
              "#fdca26"
             ],
             [
              1,
              "#f0f921"
             ]
            ],
            "type": "heatmap"
           }
          ],
          "heatmapgl": [
           {
            "colorbar": {
             "outlinewidth": 0,
             "ticks": ""
            },
            "colorscale": [
             [
              0,
              "#0d0887"
             ],
             [
              0.1111111111111111,
              "#46039f"
             ],
             [
              0.2222222222222222,
              "#7201a8"
             ],
             [
              0.3333333333333333,
              "#9c179e"
             ],
             [
              0.4444444444444444,
              "#bd3786"
             ],
             [
              0.5555555555555556,
              "#d8576b"
             ],
             [
              0.6666666666666666,
              "#ed7953"
             ],
             [
              0.7777777777777778,
              "#fb9f3a"
             ],
             [
              0.8888888888888888,
              "#fdca26"
             ],
             [
              1,
              "#f0f921"
             ]
            ],
            "type": "heatmapgl"
           }
          ],
          "histogram": [
           {
            "marker": {
             "pattern": {
              "fillmode": "overlay",
              "size": 10,
              "solidity": 0.2
             }
            },
            "type": "histogram"
           }
          ],
          "histogram2d": [
           {
            "colorbar": {
             "outlinewidth": 0,
             "ticks": ""
            },
            "colorscale": [
             [
              0,
              "#0d0887"
             ],
             [
              0.1111111111111111,
              "#46039f"
             ],
             [
              0.2222222222222222,
              "#7201a8"
             ],
             [
              0.3333333333333333,
              "#9c179e"
             ],
             [
              0.4444444444444444,
              "#bd3786"
             ],
             [
              0.5555555555555556,
              "#d8576b"
             ],
             [
              0.6666666666666666,
              "#ed7953"
             ],
             [
              0.7777777777777778,
              "#fb9f3a"
             ],
             [
              0.8888888888888888,
              "#fdca26"
             ],
             [
              1,
              "#f0f921"
             ]
            ],
            "type": "histogram2d"
           }
          ],
          "histogram2dcontour": [
           {
            "colorbar": {
             "outlinewidth": 0,
             "ticks": ""
            },
            "colorscale": [
             [
              0,
              "#0d0887"
             ],
             [
              0.1111111111111111,
              "#46039f"
             ],
             [
              0.2222222222222222,
              "#7201a8"
             ],
             [
              0.3333333333333333,
              "#9c179e"
             ],
             [
              0.4444444444444444,
              "#bd3786"
             ],
             [
              0.5555555555555556,
              "#d8576b"
             ],
             [
              0.6666666666666666,
              "#ed7953"
             ],
             [
              0.7777777777777778,
              "#fb9f3a"
             ],
             [
              0.8888888888888888,
              "#fdca26"
             ],
             [
              1,
              "#f0f921"
             ]
            ],
            "type": "histogram2dcontour"
           }
          ],
          "mesh3d": [
           {
            "colorbar": {
             "outlinewidth": 0,
             "ticks": ""
            },
            "type": "mesh3d"
           }
          ],
          "parcoords": [
           {
            "line": {
             "colorbar": {
              "outlinewidth": 0,
              "ticks": ""
             }
            },
            "type": "parcoords"
           }
          ],
          "pie": [
           {
            "automargin": true,
            "type": "pie"
           }
          ],
          "scatter": [
           {
            "fillpattern": {
             "fillmode": "overlay",
             "size": 10,
             "solidity": 0.2
            },
            "type": "scatter"
           }
          ],
          "scatter3d": [
           {
            "line": {
             "colorbar": {
              "outlinewidth": 0,
              "ticks": ""
             }
            },
            "marker": {
             "colorbar": {
              "outlinewidth": 0,
              "ticks": ""
             }
            },
            "type": "scatter3d"
           }
          ],
          "scattercarpet": [
           {
            "marker": {
             "colorbar": {
              "outlinewidth": 0,
              "ticks": ""
             }
            },
            "type": "scattercarpet"
           }
          ],
          "scattergeo": [
           {
            "marker": {
             "colorbar": {
              "outlinewidth": 0,
              "ticks": ""
             }
            },
            "type": "scattergeo"
           }
          ],
          "scattergl": [
           {
            "marker": {
             "colorbar": {
              "outlinewidth": 0,
              "ticks": ""
             }
            },
            "type": "scattergl"
           }
          ],
          "scattermapbox": [
           {
            "marker": {
             "colorbar": {
              "outlinewidth": 0,
              "ticks": ""
             }
            },
            "type": "scattermapbox"
           }
          ],
          "scatterpolar": [
           {
            "marker": {
             "colorbar": {
              "outlinewidth": 0,
              "ticks": ""
             }
            },
            "type": "scatterpolar"
           }
          ],
          "scatterpolargl": [
           {
            "marker": {
             "colorbar": {
              "outlinewidth": 0,
              "ticks": ""
             }
            },
            "type": "scatterpolargl"
           }
          ],
          "scatterternary": [
           {
            "marker": {
             "colorbar": {
              "outlinewidth": 0,
              "ticks": ""
             }
            },
            "type": "scatterternary"
           }
          ],
          "surface": [
           {
            "colorbar": {
             "outlinewidth": 0,
             "ticks": ""
            },
            "colorscale": [
             [
              0,
              "#0d0887"
             ],
             [
              0.1111111111111111,
              "#46039f"
             ],
             [
              0.2222222222222222,
              "#7201a8"
             ],
             [
              0.3333333333333333,
              "#9c179e"
             ],
             [
              0.4444444444444444,
              "#bd3786"
             ],
             [
              0.5555555555555556,
              "#d8576b"
             ],
             [
              0.6666666666666666,
              "#ed7953"
             ],
             [
              0.7777777777777778,
              "#fb9f3a"
             ],
             [
              0.8888888888888888,
              "#fdca26"
             ],
             [
              1,
              "#f0f921"
             ]
            ],
            "type": "surface"
           }
          ],
          "table": [
           {
            "cells": {
             "fill": {
              "color": "#EBF0F8"
             },
             "line": {
              "color": "white"
             }
            },
            "header": {
             "fill": {
              "color": "#C8D4E3"
             },
             "line": {
              "color": "white"
             }
            },
            "type": "table"
           }
          ]
         },
         "layout": {
          "annotationdefaults": {
           "arrowcolor": "#2a3f5f",
           "arrowhead": 0,
           "arrowwidth": 1
          },
          "autotypenumbers": "strict",
          "coloraxis": {
           "colorbar": {
            "outlinewidth": 0,
            "ticks": ""
           }
          },
          "colorscale": {
           "diverging": [
            [
             0,
             "#8e0152"
            ],
            [
             0.1,
             "#c51b7d"
            ],
            [
             0.2,
             "#de77ae"
            ],
            [
             0.3,
             "#f1b6da"
            ],
            [
             0.4,
             "#fde0ef"
            ],
            [
             0.5,
             "#f7f7f7"
            ],
            [
             0.6,
             "#e6f5d0"
            ],
            [
             0.7,
             "#b8e186"
            ],
            [
             0.8,
             "#7fbc41"
            ],
            [
             0.9,
             "#4d9221"
            ],
            [
             1,
             "#276419"
            ]
           ],
           "sequential": [
            [
             0,
             "#0d0887"
            ],
            [
             0.1111111111111111,
             "#46039f"
            ],
            [
             0.2222222222222222,
             "#7201a8"
            ],
            [
             0.3333333333333333,
             "#9c179e"
            ],
            [
             0.4444444444444444,
             "#bd3786"
            ],
            [
             0.5555555555555556,
             "#d8576b"
            ],
            [
             0.6666666666666666,
             "#ed7953"
            ],
            [
             0.7777777777777778,
             "#fb9f3a"
            ],
            [
             0.8888888888888888,
             "#fdca26"
            ],
            [
             1,
             "#f0f921"
            ]
           ],
           "sequentialminus": [
            [
             0,
             "#0d0887"
            ],
            [
             0.1111111111111111,
             "#46039f"
            ],
            [
             0.2222222222222222,
             "#7201a8"
            ],
            [
             0.3333333333333333,
             "#9c179e"
            ],
            [
             0.4444444444444444,
             "#bd3786"
            ],
            [
             0.5555555555555556,
             "#d8576b"
            ],
            [
             0.6666666666666666,
             "#ed7953"
            ],
            [
             0.7777777777777778,
             "#fb9f3a"
            ],
            [
             0.8888888888888888,
             "#fdca26"
            ],
            [
             1,
             "#f0f921"
            ]
           ]
          },
          "colorway": [
           "#636efa",
           "#EF553B",
           "#00cc96",
           "#ab63fa",
           "#FFA15A",
           "#19d3f3",
           "#FF6692",
           "#B6E880",
           "#FF97FF",
           "#FECB52"
          ],
          "font": {
           "color": "#2a3f5f"
          },
          "geo": {
           "bgcolor": "white",
           "lakecolor": "white",
           "landcolor": "#E5ECF6",
           "showlakes": true,
           "showland": true,
           "subunitcolor": "white"
          },
          "hoverlabel": {
           "align": "left"
          },
          "hovermode": "closest",
          "mapbox": {
           "style": "light"
          },
          "paper_bgcolor": "white",
          "plot_bgcolor": "#E5ECF6",
          "polar": {
           "angularaxis": {
            "gridcolor": "white",
            "linecolor": "white",
            "ticks": ""
           },
           "bgcolor": "#E5ECF6",
           "radialaxis": {
            "gridcolor": "white",
            "linecolor": "white",
            "ticks": ""
           }
          },
          "scene": {
           "xaxis": {
            "backgroundcolor": "#E5ECF6",
            "gridcolor": "white",
            "gridwidth": 2,
            "linecolor": "white",
            "showbackground": true,
            "ticks": "",
            "zerolinecolor": "white"
           },
           "yaxis": {
            "backgroundcolor": "#E5ECF6",
            "gridcolor": "white",
            "gridwidth": 2,
            "linecolor": "white",
            "showbackground": true,
            "ticks": "",
            "zerolinecolor": "white"
           },
           "zaxis": {
            "backgroundcolor": "#E5ECF6",
            "gridcolor": "white",
            "gridwidth": 2,
            "linecolor": "white",
            "showbackground": true,
            "ticks": "",
            "zerolinecolor": "white"
           }
          },
          "shapedefaults": {
           "line": {
            "color": "#2a3f5f"
           }
          },
          "ternary": {
           "aaxis": {
            "gridcolor": "white",
            "linecolor": "white",
            "ticks": ""
           },
           "baxis": {
            "gridcolor": "white",
            "linecolor": "white",
            "ticks": ""
           },
           "bgcolor": "#E5ECF6",
           "caxis": {
            "gridcolor": "white",
            "linecolor": "white",
            "ticks": ""
           }
          },
          "title": {
           "x": 0.05
          },
          "xaxis": {
           "automargin": true,
           "gridcolor": "white",
           "linecolor": "white",
           "ticks": "",
           "title": {
            "standoff": 15
           },
           "zerolinecolor": "white",
           "zerolinewidth": 2
          },
          "yaxis": {
           "automargin": true,
           "gridcolor": "white",
           "linecolor": "white",
           "ticks": "",
           "title": {
            "standoff": 15
           },
           "zerolinecolor": "white",
           "zerolinewidth": 2
          }
         }
        }
       }
      },
      "text/html": [
       "<div>                            <div id=\"59f66947-f339-4c60-a25f-fb49c5b5225e\" class=\"plotly-graph-div\" style=\"height:525px; width:100%;\"></div>            <script type=\"text/javascript\">                require([\"plotly\"], function(Plotly) {                    window.PLOTLYENV=window.PLOTLYENV || {};                                    if (document.getElementById(\"59f66947-f339-4c60-a25f-fb49c5b5225e\")) {                    Plotly.newPlot(                        \"59f66947-f339-4c60-a25f-fb49c5b5225e\",                        [{\"close\":[246.14999389648438,251.8300018310547,248.19000244140625,264.8599853515625,265.1300048828125,274.0299987792969,278.20001220703125,275.6600036621094,283.7900085449219,277.760009765625,279.1000061035156,286.6400146484375,281.5899963378906,273.0400085449219,279.1000061035156,279.0799865722656,282.9700012207031,287.04998779296875,285.7300109863281,293.2099914550781],\"high\":[257.6600036621094,252.67999267578125,253.32000732421875,267.0,275.0299987792969,276.0,281.20001220703125,277.510009765625,284.8999938964844,283.94000244140625,280.0299987792969,287.29998779296875,286.7900085449219,278.0400085449219,281.0,283.94000244140625,283.70001220703125,288.2699890136719,291.3999938964844,294.8800048828125],\"low\":[243.89999389648438,244.58999633789062,245.22000122070312,248.1699981689453,264.8900146484375,265.25,275.4700012207031,271.4100036621094,275.510009765625,275.4599914550781,275.760009765625,282.3999938964844,281.3500061035156,272.0199890136719,276.9100036621094,278.75,278.5,284.6199951171875,285.3999938964844,290.4100036621094],\"open\":[247.97999572753906,245.19000244140625,250.75999450683594,257.8399963378906,274.2099914550781,267.9599914550781,277.5799865722656,277.1400146484375,280.9800109863281,277.57000732421875,279.1499938964844,285.3800048828125,282.6099853515625,276.7300109863281,278.3500061035156,280.489990234375,280.7300109863281,285.1199951171875,291.0199890136719,291.5299987792969],\"x\":[\"2020-04-01T00:00:00-04:00\",\"2020-04-02T00:00:00-04:00\",\"2020-04-03T00:00:00-04:00\",\"2020-04-06T00:00:00-04:00\",\"2020-04-07T00:00:00-04:00\",\"2020-04-08T00:00:00-04:00\",\"2020-04-09T00:00:00-04:00\",\"2020-04-13T00:00:00-04:00\",\"2020-04-14T00:00:00-04:00\",\"2020-04-15T00:00:00-04:00\",\"2020-04-16T00:00:00-04:00\",\"2020-04-17T00:00:00-04:00\",\"2020-04-20T00:00:00-04:00\",\"2020-04-21T00:00:00-04:00\",\"2020-04-22T00:00:00-04:00\",\"2020-04-23T00:00:00-04:00\",\"2020-04-24T00:00:00-04:00\",\"2020-04-27T00:00:00-04:00\",\"2020-04-28T00:00:00-04:00\",\"2020-04-29T00:00:00-04:00\"],\"type\":\"candlestick\"}],                        {\"template\":{\"data\":{\"histogram2dcontour\":[{\"type\":\"histogram2dcontour\",\"colorbar\":{\"outlinewidth\":0,\"ticks\":\"\"},\"colorscale\":[[0.0,\"#0d0887\"],[0.1111111111111111,\"#46039f\"],[0.2222222222222222,\"#7201a8\"],[0.3333333333333333,\"#9c179e\"],[0.4444444444444444,\"#bd3786\"],[0.5555555555555556,\"#d8576b\"],[0.6666666666666666,\"#ed7953\"],[0.7777777777777778,\"#fb9f3a\"],[0.8888888888888888,\"#fdca26\"],[1.0,\"#f0f921\"]]}],\"choropleth\":[{\"type\":\"choropleth\",\"colorbar\":{\"outlinewidth\":0,\"ticks\":\"\"}}],\"histogram2d\":[{\"type\":\"histogram2d\",\"colorbar\":{\"outlinewidth\":0,\"ticks\":\"\"},\"colorscale\":[[0.0,\"#0d0887\"],[0.1111111111111111,\"#46039f\"],[0.2222222222222222,\"#7201a8\"],[0.3333333333333333,\"#9c179e\"],[0.4444444444444444,\"#bd3786\"],[0.5555555555555556,\"#d8576b\"],[0.6666666666666666,\"#ed7953\"],[0.7777777777777778,\"#fb9f3a\"],[0.8888888888888888,\"#fdca26\"],[1.0,\"#f0f921\"]]}],\"heatmap\":[{\"type\":\"heatmap\",\"colorbar\":{\"outlinewidth\":0,\"ticks\":\"\"},\"colorscale\":[[0.0,\"#0d0887\"],[0.1111111111111111,\"#46039f\"],[0.2222222222222222,\"#7201a8\"],[0.3333333333333333,\"#9c179e\"],[0.4444444444444444,\"#bd3786\"],[0.5555555555555556,\"#d8576b\"],[0.6666666666666666,\"#ed7953\"],[0.7777777777777778,\"#fb9f3a\"],[0.8888888888888888,\"#fdca26\"],[1.0,\"#f0f921\"]]}],\"heatmapgl\":[{\"type\":\"heatmapgl\",\"colorbar\":{\"outlinewidth\":0,\"ticks\":\"\"},\"colorscale\":[[0.0,\"#0d0887\"],[0.1111111111111111,\"#46039f\"],[0.2222222222222222,\"#7201a8\"],[0.3333333333333333,\"#9c179e\"],[0.4444444444444444,\"#bd3786\"],[0.5555555555555556,\"#d8576b\"],[0.6666666666666666,\"#ed7953\"],[0.7777777777777778,\"#fb9f3a\"],[0.8888888888888888,\"#fdca26\"],[1.0,\"#f0f921\"]]}],\"contourcarpet\":[{\"type\":\"contourcarpet\",\"colorbar\":{\"outlinewidth\":0,\"ticks\":\"\"}}],\"contour\":[{\"type\":\"contour\",\"colorbar\":{\"outlinewidth\":0,\"ticks\":\"\"},\"colorscale\":[[0.0,\"#0d0887\"],[0.1111111111111111,\"#46039f\"],[0.2222222222222222,\"#7201a8\"],[0.3333333333333333,\"#9c179e\"],[0.4444444444444444,\"#bd3786\"],[0.5555555555555556,\"#d8576b\"],[0.6666666666666666,\"#ed7953\"],[0.7777777777777778,\"#fb9f3a\"],[0.8888888888888888,\"#fdca26\"],[1.0,\"#f0f921\"]]}],\"surface\":[{\"type\":\"surface\",\"colorbar\":{\"outlinewidth\":0,\"ticks\":\"\"},\"colorscale\":[[0.0,\"#0d0887\"],[0.1111111111111111,\"#46039f\"],[0.2222222222222222,\"#7201a8\"],[0.3333333333333333,\"#9c179e\"],[0.4444444444444444,\"#bd3786\"],[0.5555555555555556,\"#d8576b\"],[0.6666666666666666,\"#ed7953\"],[0.7777777777777778,\"#fb9f3a\"],[0.8888888888888888,\"#fdca26\"],[1.0,\"#f0f921\"]]}],\"mesh3d\":[{\"type\":\"mesh3d\",\"colorbar\":{\"outlinewidth\":0,\"ticks\":\"\"}}],\"scatter\":[{\"fillpattern\":{\"fillmode\":\"overlay\",\"size\":10,\"solidity\":0.2},\"type\":\"scatter\"}],\"parcoords\":[{\"type\":\"parcoords\",\"line\":{\"colorbar\":{\"outlinewidth\":0,\"ticks\":\"\"}}}],\"scatterpolargl\":[{\"type\":\"scatterpolargl\",\"marker\":{\"colorbar\":{\"outlinewidth\":0,\"ticks\":\"\"}}}],\"bar\":[{\"error_x\":{\"color\":\"#2a3f5f\"},\"error_y\":{\"color\":\"#2a3f5f\"},\"marker\":{\"line\":{\"color\":\"#E5ECF6\",\"width\":0.5},\"pattern\":{\"fillmode\":\"overlay\",\"size\":10,\"solidity\":0.2}},\"type\":\"bar\"}],\"scattergeo\":[{\"type\":\"scattergeo\",\"marker\":{\"colorbar\":{\"outlinewidth\":0,\"ticks\":\"\"}}}],\"scatterpolar\":[{\"type\":\"scatterpolar\",\"marker\":{\"colorbar\":{\"outlinewidth\":0,\"ticks\":\"\"}}}],\"histogram\":[{\"marker\":{\"pattern\":{\"fillmode\":\"overlay\",\"size\":10,\"solidity\":0.2}},\"type\":\"histogram\"}],\"scattergl\":[{\"type\":\"scattergl\",\"marker\":{\"colorbar\":{\"outlinewidth\":0,\"ticks\":\"\"}}}],\"scatter3d\":[{\"type\":\"scatter3d\",\"line\":{\"colorbar\":{\"outlinewidth\":0,\"ticks\":\"\"}},\"marker\":{\"colorbar\":{\"outlinewidth\":0,\"ticks\":\"\"}}}],\"scattermapbox\":[{\"type\":\"scattermapbox\",\"marker\":{\"colorbar\":{\"outlinewidth\":0,\"ticks\":\"\"}}}],\"scatterternary\":[{\"type\":\"scatterternary\",\"marker\":{\"colorbar\":{\"outlinewidth\":0,\"ticks\":\"\"}}}],\"scattercarpet\":[{\"type\":\"scattercarpet\",\"marker\":{\"colorbar\":{\"outlinewidth\":0,\"ticks\":\"\"}}}],\"carpet\":[{\"aaxis\":{\"endlinecolor\":\"#2a3f5f\",\"gridcolor\":\"white\",\"linecolor\":\"white\",\"minorgridcolor\":\"white\",\"startlinecolor\":\"#2a3f5f\"},\"baxis\":{\"endlinecolor\":\"#2a3f5f\",\"gridcolor\":\"white\",\"linecolor\":\"white\",\"minorgridcolor\":\"white\",\"startlinecolor\":\"#2a3f5f\"},\"type\":\"carpet\"}],\"table\":[{\"cells\":{\"fill\":{\"color\":\"#EBF0F8\"},\"line\":{\"color\":\"white\"}},\"header\":{\"fill\":{\"color\":\"#C8D4E3\"},\"line\":{\"color\":\"white\"}},\"type\":\"table\"}],\"barpolar\":[{\"marker\":{\"line\":{\"color\":\"#E5ECF6\",\"width\":0.5},\"pattern\":{\"fillmode\":\"overlay\",\"size\":10,\"solidity\":0.2}},\"type\":\"barpolar\"}],\"pie\":[{\"automargin\":true,\"type\":\"pie\"}]},\"layout\":{\"autotypenumbers\":\"strict\",\"colorway\":[\"#636efa\",\"#EF553B\",\"#00cc96\",\"#ab63fa\",\"#FFA15A\",\"#19d3f3\",\"#FF6692\",\"#B6E880\",\"#FF97FF\",\"#FECB52\"],\"font\":{\"color\":\"#2a3f5f\"},\"hovermode\":\"closest\",\"hoverlabel\":{\"align\":\"left\"},\"paper_bgcolor\":\"white\",\"plot_bgcolor\":\"#E5ECF6\",\"polar\":{\"bgcolor\":\"#E5ECF6\",\"angularaxis\":{\"gridcolor\":\"white\",\"linecolor\":\"white\",\"ticks\":\"\"},\"radialaxis\":{\"gridcolor\":\"white\",\"linecolor\":\"white\",\"ticks\":\"\"}},\"ternary\":{\"bgcolor\":\"#E5ECF6\",\"aaxis\":{\"gridcolor\":\"white\",\"linecolor\":\"white\",\"ticks\":\"\"},\"baxis\":{\"gridcolor\":\"white\",\"linecolor\":\"white\",\"ticks\":\"\"},\"caxis\":{\"gridcolor\":\"white\",\"linecolor\":\"white\",\"ticks\":\"\"}},\"coloraxis\":{\"colorbar\":{\"outlinewidth\":0,\"ticks\":\"\"}},\"colorscale\":{\"sequential\":[[0.0,\"#0d0887\"],[0.1111111111111111,\"#46039f\"],[0.2222222222222222,\"#7201a8\"],[0.3333333333333333,\"#9c179e\"],[0.4444444444444444,\"#bd3786\"],[0.5555555555555556,\"#d8576b\"],[0.6666666666666666,\"#ed7953\"],[0.7777777777777778,\"#fb9f3a\"],[0.8888888888888888,\"#fdca26\"],[1.0,\"#f0f921\"]],\"sequentialminus\":[[0.0,\"#0d0887\"],[0.1111111111111111,\"#46039f\"],[0.2222222222222222,\"#7201a8\"],[0.3333333333333333,\"#9c179e\"],[0.4444444444444444,\"#bd3786\"],[0.5555555555555556,\"#d8576b\"],[0.6666666666666666,\"#ed7953\"],[0.7777777777777778,\"#fb9f3a\"],[0.8888888888888888,\"#fdca26\"],[1.0,\"#f0f921\"]],\"diverging\":[[0,\"#8e0152\"],[0.1,\"#c51b7d\"],[0.2,\"#de77ae\"],[0.3,\"#f1b6da\"],[0.4,\"#fde0ef\"],[0.5,\"#f7f7f7\"],[0.6,\"#e6f5d0\"],[0.7,\"#b8e186\"],[0.8,\"#7fbc41\"],[0.9,\"#4d9221\"],[1,\"#276419\"]]},\"xaxis\":{\"gridcolor\":\"white\",\"linecolor\":\"white\",\"ticks\":\"\",\"title\":{\"standoff\":15},\"zerolinecolor\":\"white\",\"automargin\":true,\"zerolinewidth\":2},\"yaxis\":{\"gridcolor\":\"white\",\"linecolor\":\"white\",\"ticks\":\"\",\"title\":{\"standoff\":15},\"zerolinecolor\":\"white\",\"automargin\":true,\"zerolinewidth\":2},\"scene\":{\"xaxis\":{\"backgroundcolor\":\"#E5ECF6\",\"gridcolor\":\"white\",\"linecolor\":\"white\",\"showbackground\":true,\"ticks\":\"\",\"zerolinecolor\":\"white\",\"gridwidth\":2},\"yaxis\":{\"backgroundcolor\":\"#E5ECF6\",\"gridcolor\":\"white\",\"linecolor\":\"white\",\"showbackground\":true,\"ticks\":\"\",\"zerolinecolor\":\"white\",\"gridwidth\":2},\"zaxis\":{\"backgroundcolor\":\"#E5ECF6\",\"gridcolor\":\"white\",\"linecolor\":\"white\",\"showbackground\":true,\"ticks\":\"\",\"zerolinecolor\":\"white\",\"gridwidth\":2}},\"shapedefaults\":{\"line\":{\"color\":\"#2a3f5f\"}},\"annotationdefaults\":{\"arrowcolor\":\"#2a3f5f\",\"arrowhead\":0,\"arrowwidth\":1},\"geo\":{\"bgcolor\":\"white\",\"landcolor\":\"#E5ECF6\",\"subunitcolor\":\"white\",\"showland\":true,\"showlakes\":true,\"lakecolor\":\"white\"},\"title\":{\"x\":0.05},\"mapbox\":{\"style\":\"light\"}}}},                        {\"responsive\": true}                    ).then(function(){\n",
       "                            \n",
       "var gd = document.getElementById('59f66947-f339-4c60-a25f-fb49c5b5225e');\n",
       "var x = new MutationObserver(function (mutations, observer) {{\n",
       "        var display = window.getComputedStyle(gd).display;\n",
       "        if (!display || display === 'none') {{\n",
       "            console.log([gd, 'removed!']);\n",
       "            Plotly.purge(gd);\n",
       "            observer.disconnect();\n",
       "        }}\n",
       "}});\n",
       "\n",
       "// Listen for the removal of the full notebook cells\n",
       "var notebookContainer = gd.closest('#notebook-container');\n",
       "if (notebookContainer) {{\n",
       "    x.observe(notebookContainer, {childList: true});\n",
       "}}\n",
       "\n",
       "// Listen for the clearing of the current output cell\n",
       "var outputEl = gd.closest('.output');\n",
       "if (outputEl) {{\n",
       "    x.observe(outputEl, {childList: true});\n",
       "}}\n",
       "\n",
       "                        })                };                });            </script>        </div>"
      ]
     },
     "metadata": {},
     "output_type": "display_data"
    }
   ],
   "source": [
    "plot_candlestick(data)"
   ]
  }
 ],
 "metadata": {
  "kernelspec": {
   "display_name": "Python 3 (ipykernel)",
   "language": "python",
   "name": "python3"
  },
  "language_info": {
   "codemirror_mode": {
    "name": "ipython",
    "version": 3
   },
   "file_extension": ".py",
   "mimetype": "text/x-python",
   "name": "python",
   "nbconvert_exporter": "python",
   "pygments_lexer": "ipython3",
   "version": "3.9.13"
  }
 },
 "nbformat": 4,
 "nbformat_minor": 5
}
