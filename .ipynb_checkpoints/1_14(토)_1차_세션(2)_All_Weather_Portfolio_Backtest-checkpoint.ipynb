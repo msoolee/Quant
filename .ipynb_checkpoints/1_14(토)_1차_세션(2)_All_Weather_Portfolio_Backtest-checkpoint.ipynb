{
 "cells": [
  {
   "cell_type": "code",
   "execution_count": 1,
   "metadata": {
    "colab": {
     "base_uri": "https://localhost:8080/"
    },
    "id": "tObHPVuVJ1JQ",
    "outputId": "90cb5afd-ddd9-4cbe-a88f-3b5bd1359896"
   },
   "outputs": [
    {
     "name": "stdout",
     "output_type": "stream",
     "text": [
      "\u001b[2K     \u001b[90m━━━━━━━━━━━━━━━━━━━━━━━━━━━━━━━━━━━━━━━━\u001b[0m \u001b[32m51.4/51.4 KB\u001b[0m \u001b[31m1.0 MB/s\u001b[0m eta \u001b[36m0:00:00\u001b[0m\n",
      "\u001b[2K     \u001b[90m━━━━━━━━━━━━━━━━━━━━━━━━━━━━━━━━━━━━━━━\u001b[0m \u001b[32m128.2/128.2 KB\u001b[0m \u001b[31m4.5 MB/s\u001b[0m eta \u001b[36m0:00:00\u001b[0m\n",
      "\u001b[2K     \u001b[90m━━━━━━━━━━━━━━━━━━━━━━━━━━━━━━━━━━━━━━━━\u001b[0m \u001b[32m4.1/4.1 MB\u001b[0m \u001b[31m30.9 MB/s\u001b[0m eta \u001b[36m0:00:00\u001b[0m\n",
      "\u001b[2K     \u001b[90m━━━━━━━━━━━━━━━━━━━━━━━━━━━━━━━━━━━━━━━━\u001b[0m \u001b[32m62.8/62.8 KB\u001b[0m \u001b[31m2.4 MB/s\u001b[0m eta \u001b[36m0:00:00\u001b[0m\n",
      "\u001b[2K     \u001b[90m━━━━━━━━━━━━━━━━━━━━━━━━━━━━━━━━━━━━━━━\u001b[0m \u001b[32m112.2/112.2 KB\u001b[0m \u001b[31m2.6 MB/s\u001b[0m eta \u001b[36m0:00:00\u001b[0m\n",
      "\u001b[2K     \u001b[90m━━━━━━━━━━━━━━━━━━━━━━━━━━━━━━━━━━━━━━━\u001b[0m \u001b[32m111.0/111.0 KB\u001b[0m \u001b[31m5.7 MB/s\u001b[0m eta \u001b[36m0:00:00\u001b[0m\n",
      "\u001b[?25h"
     ]
    }
   ],
   "source": [
    "!pip install yfinance --quiet"
   ]
  },
  {
   "cell_type": "code",
   "execution_count": 13,
   "metadata": {
    "id": "KnKl8_LoJ5ak"
   },
   "outputs": [],
   "source": [
    "#패키지 임포트\n",
    "import numpy as np\n",
    "import pandas as pd\n",
    "import matplotlib.pyplot as plt\n",
    "import seaborn as sns\n",
    "import yfinance as yf\n",
    "from scipy.optimize import minimize\n",
    "sns.set()"
   ]
  },
  {
   "cell_type": "markdown",
   "metadata": {
    "id": "DO7tYUUMM6O6"
   },
   "source": [
    "##올웨더 포트폴리오 구성\n",
    "\n",
    "Link: https://yaneodoo2.tistory.com/entry/%EC%98%AC%EC%9B%A8%EB%8D%94-%ED%8F%AC%ED%8A%B8%ED%8F%B4%EB%A6%AC%EC%98%A4%EC%9D%98-%EB%AA%A8%EB%93%A0-%EA%B2%83-%EB%B0%B1%ED%85%8C%EC%8A%A4%ED%8A%B8-%ED%8F%89%EA%B7%A0%EC%88%98%EC%9D%B5%EB%A5%A0-%EB%A0%88%EC%9D%B4%EB%8B%AC%EB%A6%AC%EC%98%A4\n",
    "\n",
    "1. 40% 장기 채권: TLT\n",
    "2. 15% 중기 채권: IEF\n",
    "3. 30% 주식 시장: VTI\n",
    "4. 7.5% 원자재: DBC\n",
    "5. 7.5% 금,구리: GLD"
   ]
  },
  {
   "cell_type": "code",
   "execution_count": 5,
   "metadata": {
    "id": "stI_x4VvNWnF"
   },
   "outputs": [],
   "source": [
    "import yfinance as yf"
   ]
  },
  {
   "cell_type": "code",
   "execution_count": 45,
   "metadata": {
    "colab": {
     "base_uri": "https://localhost:8080/"
    },
    "id": "PPoIaWknJ9eb",
    "outputId": "e43b6ddc-0970-4596-f562-cf49d58f5152"
   },
   "outputs": [
    {
     "name": "stdout",
     "output_type": "stream",
     "text": [
      "[*********************100%***********************]  5 of 5 completed\n"
     ]
    }
   ],
   "source": [
    "tickers = ['TLT','IEF','VTI','DBC','GLD',]\n",
    "\n",
    "etf = yf.Tickers(tickers)\n",
    "data = etf.history(start='2010-01-01', actions=False)\n",
    "data.drop(['Open', 'High', 'Low', 'Volume'], inplace=True, axis=1)\n",
    "data = data.droplevel(0, axis=1).resample('M').last()"
   ]
  },
  {
   "cell_type": "code",
   "execution_count": 23,
   "metadata": {
    "colab": {
     "base_uri": "https://localhost:8080/",
     "height": 927
    },
    "id": "Hauk7k_vOg5Q",
    "outputId": "550f277c-8863-44fe-a2cf-8952cf0283b2"
   },
   "outputs": [
    {
     "data": {
      "text/html": [
       "\n",
       "  <div id=\"df-cf4097c2-8344-4330-83ca-d6b216293d74\">\n",
       "    <div class=\"colab-df-container\">\n",
       "      <div>\n",
       "<style scoped>\n",
       "    .dataframe tbody tr th:only-of-type {\n",
       "        vertical-align: middle;\n",
       "    }\n",
       "\n",
       "    .dataframe tbody tr th {\n",
       "        vertical-align: top;\n",
       "    }\n",
       "\n",
       "    .dataframe thead th {\n",
       "        text-align: right;\n",
       "    }\n",
       "</style>\n",
       "<table border=\"1\" class=\"dataframe\">\n",
       "  <thead>\n",
       "    <tr style=\"text-align: right;\">\n",
       "      <th></th>\n",
       "      <th>DBC</th>\n",
       "      <th>GLD</th>\n",
       "      <th>IEF</th>\n",
       "      <th>TLT</th>\n",
       "      <th>VTI</th>\n",
       "    </tr>\n",
       "    <tr>\n",
       "      <th>Date</th>\n",
       "      <th></th>\n",
       "      <th></th>\n",
       "      <th></th>\n",
       "      <th></th>\n",
       "      <th></th>\n",
       "    </tr>\n",
       "  </thead>\n",
       "  <tbody>\n",
       "    <tr>\n",
       "      <th>2010-01-31 00:00:00-05:00</th>\n",
       "      <td>0.000000</td>\n",
       "      <td>0.000000</td>\n",
       "      <td>0.000000</td>\n",
       "      <td>0.000000</td>\n",
       "      <td>0.000000</td>\n",
       "    </tr>\n",
       "    <tr>\n",
       "      <th>2010-07-31 00:00:00-04:00</th>\n",
       "      <td>0.008814</td>\n",
       "      <td>0.089940</td>\n",
       "      <td>0.080121</td>\n",
       "      <td>0.110858</td>\n",
       "      <td>0.043894</td>\n",
       "    </tr>\n",
       "    <tr>\n",
       "      <th>2011-01-31 00:00:00-05:00</th>\n",
       "      <td>0.246396</td>\n",
       "      <td>0.124513</td>\n",
       "      <td>-0.011176</td>\n",
       "      <td>-0.073833</td>\n",
       "      <td>0.190394</td>\n",
       "    </tr>\n",
       "    <tr>\n",
       "      <th>2011-07-31 00:00:00-04:00</th>\n",
       "      <td>0.061339</td>\n",
       "      <td>0.218834</td>\n",
       "      <td>0.067699</td>\n",
       "      <td>0.097605</td>\n",
       "      <td>0.017440</td>\n",
       "    </tr>\n",
       "    <tr>\n",
       "      <th>2012-01-31 00:00:00-05:00</th>\n",
       "      <td>-0.080911</td>\n",
       "      <td>0.069619</td>\n",
       "      <td>0.092738</td>\n",
       "      <td>0.255506</td>\n",
       "      <td>0.021763</td>\n",
       "    </tr>\n",
       "    <tr>\n",
       "      <th>2012-07-31 00:00:00-04:00</th>\n",
       "      <td>-0.020841</td>\n",
       "      <td>-0.075719</td>\n",
       "      <td>0.036382</td>\n",
       "      <td>0.088240</td>\n",
       "      <td>0.050471</td>\n",
       "    </tr>\n",
       "    <tr>\n",
       "      <th>2013-01-31 00:00:00-05:00</th>\n",
       "      <td>0.044771</td>\n",
       "      <td>0.030098</td>\n",
       "      <td>-0.021125</td>\n",
       "      <td>-0.085905</td>\n",
       "      <td>0.112231</td>\n",
       "    </tr>\n",
       "    <tr>\n",
       "      <th>2013-07-31 00:00:00-04:00</th>\n",
       "      <td>-0.089217</td>\n",
       "      <td>-0.206203</td>\n",
       "      <td>-0.031109</td>\n",
       "      <td>-0.069664</td>\n",
       "      <td>0.142166</td>\n",
       "    </tr>\n",
       "    <tr>\n",
       "      <th>2014-01-31 00:00:00-05:00</th>\n",
       "      <td>-0.040494</td>\n",
       "      <td>-0.061504</td>\n",
       "      <td>0.012029</td>\n",
       "      <td>0.022293</td>\n",
       "      <td>0.073220</td>\n",
       "    </tr>\n",
       "    <tr>\n",
       "      <th>2014-07-31 00:00:00-04:00</th>\n",
       "      <td>0.017685</td>\n",
       "      <td>0.027479</td>\n",
       "      <td>0.019394</td>\n",
       "      <td>0.068686</td>\n",
       "      <td>0.083007</td>\n",
       "    </tr>\n",
       "    <tr>\n",
       "      <th>2015-01-31 00:00:00-05:00</th>\n",
       "      <td>-0.312796</td>\n",
       "      <td>0.000486</td>\n",
       "      <td>0.082794</td>\n",
       "      <td>0.230566</td>\n",
       "      <td>0.043883</td>\n",
       "    </tr>\n",
       "    <tr>\n",
       "      <th>2015-07-31 00:00:00-04:00</th>\n",
       "      <td>-0.095977</td>\n",
       "      <td>-0.150020</td>\n",
       "      <td>-0.028000</td>\n",
       "      <td>-0.102788</td>\n",
       "      <td>0.065168</td>\n",
       "    </tr>\n",
       "    <tr>\n",
       "      <th>2016-01-31 00:00:00-05:00</th>\n",
       "      <td>-0.187540</td>\n",
       "      <td>0.019251</td>\n",
       "      <td>0.034621</td>\n",
       "      <td>0.052328</td>\n",
       "      <td>-0.086792</td>\n",
       "    </tr>\n",
       "    <tr>\n",
       "      <th>2016-07-31 00:00:00-04:00</th>\n",
       "      <td>0.117371</td>\n",
       "      <td>0.205984</td>\n",
       "      <td>0.045405</td>\n",
       "      <td>0.125176</td>\n",
       "      <td>0.143455</td>\n",
       "    </tr>\n",
       "    <tr>\n",
       "      <th>2017-01-31 00:00:00-05:00</th>\n",
       "      <td>0.102941</td>\n",
       "      <td>-0.104125</td>\n",
       "      <td>-0.062969</td>\n",
       "      <td>-0.141368</td>\n",
       "      <td>0.065963</td>\n",
       "    </tr>\n",
       "    <tr>\n",
       "      <th>2017-07-31 00:00:00-04:00</th>\n",
       "      <td>-0.045079</td>\n",
       "      <td>0.045002</td>\n",
       "      <td>0.026247</td>\n",
       "      <td>0.045760</td>\n",
       "      <td>0.089295</td>\n",
       "    </tr>\n",
       "    <tr>\n",
       "      <th>2018-01-31 00:00:00-05:00</th>\n",
       "      <td>0.136968</td>\n",
       "      <td>0.057143</td>\n",
       "      <td>-0.024328</td>\n",
       "      <td>0.001902</td>\n",
       "      <td>0.149648</td>\n",
       "    </tr>\n",
       "    <tr>\n",
       "      <th>2018-07-31 00:00:00-04:00</th>\n",
       "      <td>0.008772</td>\n",
       "      <td>-0.091344</td>\n",
       "      <td>-0.004225</td>\n",
       "      <td>-0.011912</td>\n",
       "      <td>0.012925</td>\n",
       "    </tr>\n",
       "    <tr>\n",
       "      <th>2019-01-31 00:00:00-05:00</th>\n",
       "      <td>-0.088604</td>\n",
       "      <td>0.075524</td>\n",
       "      <td>0.043212</td>\n",
       "      <td>0.033147</td>\n",
       "      <td>-0.035022</td>\n",
       "    </tr>\n",
       "    <tr>\n",
       "      <th>2019-07-31 00:00:00-04:00</th>\n",
       "      <td>0.001933</td>\n",
       "      <td>0.067816</td>\n",
       "      <td>0.059978</td>\n",
       "      <td>0.103428</td>\n",
       "      <td>0.108800</td>\n",
       "    </tr>\n",
       "    <tr>\n",
       "      <th>2020-01-31 00:00:00-05:00</th>\n",
       "      <td>-0.047360</td>\n",
       "      <td>0.121012</td>\n",
       "      <td>0.047653</td>\n",
       "      <td>0.109560</td>\n",
       "      <td>0.085080</td>\n",
       "    </tr>\n",
       "    <tr>\n",
       "      <th>2020-07-31 00:00:00-04:00</th>\n",
       "      <td>-0.112483</td>\n",
       "      <td>0.241746</td>\n",
       "      <td>0.084032</td>\n",
       "      <td>0.181842</td>\n",
       "      <td>0.021889</td>\n",
       "    </tr>\n",
       "    <tr>\n",
       "      <th>2021-01-31 00:00:00-05:00</th>\n",
       "      <td>0.173879</td>\n",
       "      <td>-0.069137</td>\n",
       "      <td>-0.029912</td>\n",
       "      <td>-0.105394</td>\n",
       "      <td>0.181591</td>\n",
       "    </tr>\n",
       "    <tr>\n",
       "      <th>2021-07-31 00:00:00-04:00</th>\n",
       "      <td>0.283739</td>\n",
       "      <td>-0.016164</td>\n",
       "      <td>-0.003972</td>\n",
       "      <td>-0.008479</td>\n",
       "      <td>0.176053</td>\n",
       "    </tr>\n",
       "    <tr>\n",
       "      <th>2022-01-31 00:00:00-05:00</th>\n",
       "      <td>0.149744</td>\n",
       "      <td>-0.010187</td>\n",
       "      <td>-0.039441</td>\n",
       "      <td>-0.040639</td>\n",
       "      <td>0.007283</td>\n",
       "    </tr>\n",
       "    <tr>\n",
       "      <th>2022-07-31 00:00:00-04:00</th>\n",
       "      <td>0.164585</td>\n",
       "      <td>-0.023737</td>\n",
       "      <td>-0.059203</td>\n",
       "      <td>-0.167253</td>\n",
       "      <td>-0.084166</td>\n",
       "    </tr>\n",
       "    <tr>\n",
       "      <th>2023-01-31 00:00:00-05:00</th>\n",
       "      <td>-0.044823</td>\n",
       "      <td>0.089336</td>\n",
       "      <td>-0.047816</td>\n",
       "      <td>-0.078533</td>\n",
       "      <td>-0.021296</td>\n",
       "    </tr>\n",
       "  </tbody>\n",
       "</table>\n",
       "</div>\n",
       "      <button class=\"colab-df-convert\" onclick=\"convertToInteractive('df-cf4097c2-8344-4330-83ca-d6b216293d74')\"\n",
       "              title=\"Convert this dataframe to an interactive table.\"\n",
       "              style=\"display:none;\">\n",
       "        \n",
       "  <svg xmlns=\"http://www.w3.org/2000/svg\" height=\"24px\"viewBox=\"0 0 24 24\"\n",
       "       width=\"24px\">\n",
       "    <path d=\"M0 0h24v24H0V0z\" fill=\"none\"/>\n",
       "    <path d=\"M18.56 5.44l.94 2.06.94-2.06 2.06-.94-2.06-.94-.94-2.06-.94 2.06-2.06.94zm-11 1L8.5 8.5l.94-2.06 2.06-.94-2.06-.94L8.5 2.5l-.94 2.06-2.06.94zm10 10l.94 2.06.94-2.06 2.06-.94-2.06-.94-.94-2.06-.94 2.06-2.06.94z\"/><path d=\"M17.41 7.96l-1.37-1.37c-.4-.4-.92-.59-1.43-.59-.52 0-1.04.2-1.43.59L10.3 9.45l-7.72 7.72c-.78.78-.78 2.05 0 2.83L4 21.41c.39.39.9.59 1.41.59.51 0 1.02-.2 1.41-.59l7.78-7.78 2.81-2.81c.8-.78.8-2.07 0-2.86zM5.41 20L4 18.59l7.72-7.72 1.47 1.35L5.41 20z\"/>\n",
       "  </svg>\n",
       "      </button>\n",
       "      \n",
       "  <style>\n",
       "    .colab-df-container {\n",
       "      display:flex;\n",
       "      flex-wrap:wrap;\n",
       "      gap: 12px;\n",
       "    }\n",
       "\n",
       "    .colab-df-convert {\n",
       "      background-color: #E8F0FE;\n",
       "      border: none;\n",
       "      border-radius: 50%;\n",
       "      cursor: pointer;\n",
       "      display: none;\n",
       "      fill: #1967D2;\n",
       "      height: 32px;\n",
       "      padding: 0 0 0 0;\n",
       "      width: 32px;\n",
       "    }\n",
       "\n",
       "    .colab-df-convert:hover {\n",
       "      background-color: #E2EBFA;\n",
       "      box-shadow: 0px 1px 2px rgba(60, 64, 67, 0.3), 0px 1px 3px 1px rgba(60, 64, 67, 0.15);\n",
       "      fill: #174EA6;\n",
       "    }\n",
       "\n",
       "    [theme=dark] .colab-df-convert {\n",
       "      background-color: #3B4455;\n",
       "      fill: #D2E3FC;\n",
       "    }\n",
       "\n",
       "    [theme=dark] .colab-df-convert:hover {\n",
       "      background-color: #434B5C;\n",
       "      box-shadow: 0px 1px 3px 1px rgba(0, 0, 0, 0.15);\n",
       "      filter: drop-shadow(0px 1px 2px rgba(0, 0, 0, 0.3));\n",
       "      fill: #FFFFFF;\n",
       "    }\n",
       "  </style>\n",
       "\n",
       "      <script>\n",
       "        const buttonEl =\n",
       "          document.querySelector('#df-cf4097c2-8344-4330-83ca-d6b216293d74 button.colab-df-convert');\n",
       "        buttonEl.style.display =\n",
       "          google.colab.kernel.accessAllowed ? 'block' : 'none';\n",
       "\n",
       "        async function convertToInteractive(key) {\n",
       "          const element = document.querySelector('#df-cf4097c2-8344-4330-83ca-d6b216293d74');\n",
       "          const dataTable =\n",
       "            await google.colab.kernel.invokeFunction('convertToInteractive',\n",
       "                                                     [key], {});\n",
       "          if (!dataTable) return;\n",
       "\n",
       "          const docLinkHtml = 'Like what you see? Visit the ' +\n",
       "            '<a target=\"_blank\" href=https://colab.research.google.com/notebooks/data_table.ipynb>data table notebook</a>'\n",
       "            + ' to learn more about interactive tables.';\n",
       "          element.innerHTML = '';\n",
       "          dataTable['output_type'] = 'display_data';\n",
       "          await google.colab.output.renderOutput(dataTable, element);\n",
       "          const docLink = document.createElement('div');\n",
       "          docLink.innerHTML = docLinkHtml;\n",
       "          element.appendChild(docLink);\n",
       "        }\n",
       "      </script>\n",
       "    </div>\n",
       "  </div>\n",
       "  "
      ],
      "text/plain": [
       "                                DBC       GLD       IEF       TLT       VTI\n",
       "Date                                                                       \n",
       "2010-01-31 00:00:00-05:00  0.000000  0.000000  0.000000  0.000000  0.000000\n",
       "2010-07-31 00:00:00-04:00  0.008814  0.089940  0.080121  0.110858  0.043894\n",
       "2011-01-31 00:00:00-05:00  0.246396  0.124513 -0.011176 -0.073833  0.190394\n",
       "2011-07-31 00:00:00-04:00  0.061339  0.218834  0.067699  0.097605  0.017440\n",
       "2012-01-31 00:00:00-05:00 -0.080911  0.069619  0.092738  0.255506  0.021763\n",
       "2012-07-31 00:00:00-04:00 -0.020841 -0.075719  0.036382  0.088240  0.050471\n",
       "2013-01-31 00:00:00-05:00  0.044771  0.030098 -0.021125 -0.085905  0.112231\n",
       "2013-07-31 00:00:00-04:00 -0.089217 -0.206203 -0.031109 -0.069664  0.142166\n",
       "2014-01-31 00:00:00-05:00 -0.040494 -0.061504  0.012029  0.022293  0.073220\n",
       "2014-07-31 00:00:00-04:00  0.017685  0.027479  0.019394  0.068686  0.083007\n",
       "2015-01-31 00:00:00-05:00 -0.312796  0.000486  0.082794  0.230566  0.043883\n",
       "2015-07-31 00:00:00-04:00 -0.095977 -0.150020 -0.028000 -0.102788  0.065168\n",
       "2016-01-31 00:00:00-05:00 -0.187540  0.019251  0.034621  0.052328 -0.086792\n",
       "2016-07-31 00:00:00-04:00  0.117371  0.205984  0.045405  0.125176  0.143455\n",
       "2017-01-31 00:00:00-05:00  0.102941 -0.104125 -0.062969 -0.141368  0.065963\n",
       "2017-07-31 00:00:00-04:00 -0.045079  0.045002  0.026247  0.045760  0.089295\n",
       "2018-01-31 00:00:00-05:00  0.136968  0.057143 -0.024328  0.001902  0.149648\n",
       "2018-07-31 00:00:00-04:00  0.008772 -0.091344 -0.004225 -0.011912  0.012925\n",
       "2019-01-31 00:00:00-05:00 -0.088604  0.075524  0.043212  0.033147 -0.035022\n",
       "2019-07-31 00:00:00-04:00  0.001933  0.067816  0.059978  0.103428  0.108800\n",
       "2020-01-31 00:00:00-05:00 -0.047360  0.121012  0.047653  0.109560  0.085080\n",
       "2020-07-31 00:00:00-04:00 -0.112483  0.241746  0.084032  0.181842  0.021889\n",
       "2021-01-31 00:00:00-05:00  0.173879 -0.069137 -0.029912 -0.105394  0.181591\n",
       "2021-07-31 00:00:00-04:00  0.283739 -0.016164 -0.003972 -0.008479  0.176053\n",
       "2022-01-31 00:00:00-05:00  0.149744 -0.010187 -0.039441 -0.040639  0.007283\n",
       "2022-07-31 00:00:00-04:00  0.164585 -0.023737 -0.059203 -0.167253 -0.084166\n",
       "2023-01-31 00:00:00-05:00 -0.044823  0.089336 -0.047816 -0.078533 -0.021296"
      ]
     },
     "execution_count": 23,
     "metadata": {},
     "output_type": "execute_result"
    }
   ],
   "source": [
    "#수익률 계산\n",
    "rets = data.pct_change().fillna(0)\n",
    "rets"
   ]
  },
  {
   "cell_type": "markdown",
   "metadata": {
    "id": "D7eLZHaBPsiU"
   },
   "source": [
    "##가중치 계산\n",
    "\n",
    "'자산'별로 정해진 가중치가 있기 때문에 그거에 맞게 가중치를 부여해준다.\n",
    "\n",
    "\n",
    "1. 40% 장기 채권: TLT\n",
    "2. 15% 중기 채권: IEF\n",
    "3. 30% 주식 시장: VTI\n",
    "4. 7.5% 원자재: DBC\n",
    "5. 7.5% 금,구리: GLD"
   ]
  },
  {
   "cell_type": "code",
   "execution_count": 28,
   "metadata": {
    "id": "7I6F-vY0Pe5f"
   },
   "outputs": [],
   "source": [
    "#자산별 가중치 함수\n",
    "def get_awp_weights(rets):\n",
    "  #올웨더 포트폴리오 가중치 그대로 가져온것!\n",
    "  weights = np.array([0.4,0.15,0.3,0.075,0.075])\n",
    "  time_series_weights = np.ones_like(rets) * weights\n",
    "  return time_series_weights"
   ]
  },
  {
   "cell_type": "markdown",
   "metadata": {
    "id": "5mZkeEpQaTp8"
   },
   "source": [
    "## MDD 계산"
   ]
  },
  {
   "cell_type": "code",
   "execution_count": null,
   "metadata": {
    "id": "fPGWUiauaVyX"
   },
   "outputs": [],
   "source": [
    "#MDD 계산 함수\n",
    "def get_mdd(x):\n",
    "    \"\"\"\n",
    "    MDD(Maximum Draw-Down)\n",
    "    :return: (peak_upper, peak_lower, mdd rate)\n",
    "    \"\"\"\n",
    "    arr_v = np.array(x)\n",
    "    peak_lower = np.argmax(np.maximum.accumulate(arr_v) - arr_v)\n",
    "    peak_upper = np.argmax(arr_v[:peak_lower])\n",
    "    return peak_upper, peak_lower, (arr_v[peak_lower] - arr_v[peak_upper]) / arr_v[peak_upper]\n",
    "\n",
    "get_mdd"
   ]
  },
  {
   "cell_type": "markdown",
   "metadata": {
    "id": "Q2xMwUBkUzdQ"
   },
   "source": [
    "### 동일 비중 파이차트 시각화"
   ]
  },
  {
   "cell_type": "code",
   "execution_count": 29,
   "metadata": {
    "id": "VCPLdaNET4NI"
   },
   "outputs": [],
   "source": [
    "weights = get_awp_weights(rets)[-1]"
   ]
  },
  {
   "cell_type": "code",
   "execution_count": 30,
   "metadata": {
    "colab": {
     "base_uri": "https://localhost:8080/",
     "height": 575
    },
    "id": "Lned3dZySQ-y",
    "outputId": "1148bf0d-4a8b-43e9-e25c-855d37d2ef9b"
   },
   "outputs": [
    {
     "data": {
      "image/png": "[encoded data removed]",
      "text/plain": [
       "<Figure size 720x720 with 1 Axes>"
      ]
     },
     "metadata": {},
     "output_type": "display_data"
    }
   ],
   "source": [
    "#색깔 팔레트\n",
    "pal = sns.color_palette('Spectral',len(tickers))\n",
    "\n",
    "# 파이차트 시각화\n",
    "plt.figure(figsize=(10, 10))\n",
    "wedgeprops = {'width': 0.32, 'edgecolor': 'w', 'linewidth': 3}\n",
    "plt.pie(weights, labels=tickers, autopct='%.3f%%', wedgeprops=wedgeprops, colors=pal)\n",
    "plt.show()"
   ]
  },
  {
   "cell_type": "markdown",
   "metadata": {
    "id": "rpKOGzTmUv1K"
   },
   "source": [
    "### 동일 비중 시계열 플랏 생성"
   ]
  },
  {
   "cell_type": "code",
   "execution_count": 34,
   "metadata": {
    "colab": {
     "base_uri": "https://localhost:8080/",
     "height": 373
    },
    "id": "dMiIvVvPSf89",
    "outputId": "3b36e659-9d72-4cae-897d-917cb2d6e07b"
   },
   "outputs": [
    {
     "data": {
      "text/plain": [
       "Text(0, 0.5, 'Weights')"
      ]
     },
     "execution_count": 34,
     "metadata": {},
     "output_type": "execute_result"
    },
    {
     "data": {
      "image/png": "[encoded data removed]",
      "text/plain": [
       "<Figure size 1440x360 with 1 Axes>"
      ]
     },
     "metadata": {},
     "output_type": "display_data"
    }
   ],
   "source": [
    "# 시계열 가중치 데이터프레임\n",
    "awp_w_df = pd.DataFrame(get_awp_weights(rets), index=rets.index, columns=rets.columns)\n",
    "\n",
    "# 그래프 결과\n",
    "plt.figure(figsize=(20, 5))\n",
    "plt.stackplot(awp_w_df.index, awp_w_df.T, labels=awp_w_df.columns, colors=pal)\n",
    "plt.legend(loc='upper left')\n",
    "plt.title('EW Weights')\n",
    "plt.xlabel('Date')\n",
    "plt.ylabel('Weights')"
   ]
  },
  {
   "cell_type": "markdown",
   "metadata": {
    "id": "mRwSBJmyU23b"
   },
   "source": [
    "### 올웨더 포트폴리오 백테스팅 결과"
   ]
  },
  {
   "cell_type": "code",
   "execution_count": 78,
   "metadata": {
    "colab": {
     "base_uri": "https://localhost:8080/"
    },
    "id": "TSWLUlgVaoIa",
    "outputId": "98c8761d-b0d7-4fd5-82e1-adb2dd595cf0"
   },
   "outputs": [
    {
     "data": {
      "text/plain": [
       "5"
      ]
     },
     "execution_count": 78,
     "metadata": {},
     "output_type": "execute_result"
    }
   ],
   "source": [
    "# 포트폴리오 수익률\n",
    "port_rets = awp_w_df.shift() * rets\n",
    "port_rets.dropna(axis=0,how='any',inplace=True)\n",
    "\n",
    "# 포트폴리오 누적 수익률\n",
    "port_cum_rets = (1 + port_rets.sum(axis=1)).cumprod() - 1\n",
    "\n",
    "'''\n",
    "MDD 계산! => 최대 수익률 점과 최소 수익률 점을 찾아서 return값으로 반환시킨다\n",
    "이때 주의할 점은 최대 수익률 점이 최소 수익률 점보다 왼쪽 편에 있어야된다!\n",
    "'''\n",
    "def get_mdd(x):\n",
    "    \"\"\"\n",
    "    MDD(Maximum Draw-Down)\n",
    "    :return: (peak_upper, peak_lower)\n",
    "    \"\"\"\n",
    "    arr_v = np.array(x)\n",
    "    peak_lower = np.argmax(np.maximum.accumulate(arr_v) - arr_v)\n",
    "    peak_upper = np.argmax(arr_v[:peak_lower])\n",
    "    return peak_upper, peak_lower"
   ]
  },
  {
   "cell_type": "code",
   "execution_count": 95,
   "metadata": {
    "colab": {
     "base_uri": "https://localhost:8080/",
     "height": 337
    },
    "id": "_HJOge3YTQMR",
    "outputId": "a1dab7fa-1e5a-4816-ec02-2e46bae5ff65"
   },
   "outputs": [
    {
     "name": "stdout",
     "output_type": "stream",
     "text": [
      "총 수익률: 61.9153%\n",
      "최대 수익률 낙폭: \u001b[95m34.3975% -> \u001b[96m1.1502%\n"
     ]
    },
    {
     "data": {
      "image/png": "[encoded data removed]",
      "text/plain": [
       "<Figure size 432x288 with 1 Axes>"
      ]
     },
     "metadata": {},
     "output_type": "display_data"
    }
   ],
   "source": [
    "# 그래프 결과\n",
    "plt.plot(port_cum_rets)\n",
    "plt.title('All Weather Portfolio Backtest')\n",
    "plt.xlabel('Date')\n",
    "plt.ylabel('Returns')\n",
    "#MDD 표시시\n",
    "plt.scatter(port_cum_rets.index[get_mdd(port_cum_rets)[0]],port_cum_rets[5], s = 100, c = 'r')\n",
    "plt.scatter(port_cum_rets.index[get_mdd(port_cum_rets)[1]],port_cum_rets[11], s = 100, c = 'b')\n",
    "\n",
    "\n",
    "print('총 수익률: ' + str(round(port_cum_rets[-1] * 100,4)) + '%')\n",
    "print( '최대 수익률 낙폭: ' + '\\033[95m'+ str(round(port_cum_rets[5]* 100,4)) +'%'+ ' -> '+ '\\033[96m'+ str(round(port_cum_rets[11]* 100,4)) + '%')"
   ]
  },
  {
   "cell_type": "code",
   "execution_count": null,
   "metadata": {
    "id": "7zY-wlW_bPbR"
   },
   "outputs": [],
   "source": []
  }
 ],
 "metadata": {
  "colab": {
   "provenance": []
  },
  "kernelspec": {
   "display_name": "Python 3",
   "language": "python",
   "name": "python3"
  },
  "language_info": {
   "codemirror_mode": {
    "name": "ipython",
    "version": 3
   },
   "file_extension": ".py",
   "mimetype": "text/x-python",
   "name": "python",
   "nbconvert_exporter": "python",
   "pygments_lexer": "ipython3",
   "version": "3.8.5"
  }
 },
 "nbformat": 4,
 "nbformat_minor": 1
}
