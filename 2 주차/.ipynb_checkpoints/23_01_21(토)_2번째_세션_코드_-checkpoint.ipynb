{
 "cells": [
  {
   "cell_type": "markdown",
   "metadata": {
    "id": "azUIH4hC6mg6"
   },
   "source": [
    "2번째 과제는 직접 기초 문법들을 코딩해보는 것입니다.\n",
    "해당 페이지에서 코딩하지 마시고 아예 빈 페이지에서부터 시작해주세요~"
   ]
  },
  {
   "cell_type": "markdown",
   "metadata": {
    "id": "bca70269"
   },
   "source": [
    "##학습할 내용은 이렇습니다:\n",
    "\n",
    "1. python 기초 문법\n",
    "2. pandas\n",
    "3. requests data crawling\n",
    "4. matplotlib 으로 데이터 시각화"
   ]
  },
  {
   "cell_type": "markdown",
   "metadata": {
    "id": "osUemvBv7RK2"
   },
   "source": [
    "##1. python 기초 문법\n",
    "\n",
    "해당 링크 들어가서 쓱 훑어보고, 만약 모르는 내용이 있으면 직접 코딩해보기:\n",
    "\n",
    "https://software-creator.tistory.com/18"
   ]
  },
  {
   "cell_type": "code",
   "execution_count": 3,
   "metadata": {
    "id": "e2785a99"
   },
   "outputs": [
    {
     "name": "stderr",
     "output_type": "stream",
     "text": [
      "C:\\Anaconda3\\lib\\site-packages\\pandas\\core\\computation\\expressions.py:20: UserWarning: Pandas requires version '2.7.3' or newer of 'numexpr' (version '2.7.1' currently installed).\n",
      "  from pandas.core.computation.check import NUMEXPR_INSTALLED\n"
     ]
    }
   ],
   "source": [
    "import pandas as pd\n",
    "import numpy as np\n",
    "import matplotlib.pyplot as plt\n",
    "import requests"
   ]
  },
  {
   "cell_type": "markdown",
   "metadata": {
    "id": "6At5y39R7dDD"
   },
   "source": [
    "## 2. pandas\n",
    "\n",
    "DataFrame이라는 2차원 형태의 데이터를 다루기 위한 라이브러리"
   ]
  },
  {
   "cell_type": "markdown",
   "metadata": {},
   "source": [
    "#### 1) DataFrame의 생성"
   ]
  },
  {
   "cell_type": "code",
   "execution_count": 4,
   "metadata": {
    "id": "n0_lnL6aB2nb"
   },
   "outputs": [],
   "source": [
    "#값들은 다 NaN 값 상태\n",
    "df = pd.DataFrame(index=range(0,77), columns=[\"A\",\"B\",\"C\",\"D\"])\n",
    "\n",
    "#파이썬 딕셔너리로부터 생성\n",
    "items = {'code' : [1,2,3,4],\n",
    "         '계정과목': ['매출채권', '매출원가', '현금',  '자본'],\n",
    "         '금액':[1500, 15000,1000,500],\n",
    "         '재무제표': ['재무상태표','손익계산서','현금흐름표', '자본변동표']}\n",
    "df1 = pd.DataFrame(items)\n",
    "\n"
   ]
  },
  {
   "cell_type": "code",
   "execution_count": 5,
   "metadata": {},
   "outputs": [
    {
     "data": {
      "text/html": [
       "<div>\n",
       "<style scoped>\n",
       "    .dataframe tbody tr th:only-of-type {\n",
       "        vertical-align: middle;\n",
       "    }\n",
       "\n",
       "    .dataframe tbody tr th {\n",
       "        vertical-align: top;\n",
       "    }\n",
       "\n",
       "    .dataframe thead th {\n",
       "        text-align: right;\n",
       "    }\n",
       "</style>\n",
       "<table border=\"1\" class=\"dataframe\">\n",
       "  <thead>\n",
       "    <tr style=\"text-align: right;\">\n",
       "      <th></th>\n",
       "      <th>A</th>\n",
       "      <th>B</th>\n",
       "      <th>C</th>\n",
       "      <th>D</th>\n",
       "    </tr>\n",
       "  </thead>\n",
       "  <tbody>\n",
       "    <tr>\n",
       "      <th>0</th>\n",
       "      <td>NaN</td>\n",
       "      <td>NaN</td>\n",
       "      <td>NaN</td>\n",
       "      <td>NaN</td>\n",
       "    </tr>\n",
       "    <tr>\n",
       "      <th>1</th>\n",
       "      <td>NaN</td>\n",
       "      <td>NaN</td>\n",
       "      <td>NaN</td>\n",
       "      <td>NaN</td>\n",
       "    </tr>\n",
       "    <tr>\n",
       "      <th>2</th>\n",
       "      <td>NaN</td>\n",
       "      <td>NaN</td>\n",
       "      <td>NaN</td>\n",
       "      <td>NaN</td>\n",
       "    </tr>\n",
       "    <tr>\n",
       "      <th>3</th>\n",
       "      <td>NaN</td>\n",
       "      <td>NaN</td>\n",
       "      <td>NaN</td>\n",
       "      <td>NaN</td>\n",
       "    </tr>\n",
       "    <tr>\n",
       "      <th>4</th>\n",
       "      <td>NaN</td>\n",
       "      <td>NaN</td>\n",
       "      <td>NaN</td>\n",
       "      <td>NaN</td>\n",
       "    </tr>\n",
       "    <tr>\n",
       "      <th>...</th>\n",
       "      <td>...</td>\n",
       "      <td>...</td>\n",
       "      <td>...</td>\n",
       "      <td>...</td>\n",
       "    </tr>\n",
       "    <tr>\n",
       "      <th>72</th>\n",
       "      <td>NaN</td>\n",
       "      <td>NaN</td>\n",
       "      <td>NaN</td>\n",
       "      <td>NaN</td>\n",
       "    </tr>\n",
       "    <tr>\n",
       "      <th>73</th>\n",
       "      <td>NaN</td>\n",
       "      <td>NaN</td>\n",
       "      <td>NaN</td>\n",
       "      <td>NaN</td>\n",
       "    </tr>\n",
       "    <tr>\n",
       "      <th>74</th>\n",
       "      <td>NaN</td>\n",
       "      <td>NaN</td>\n",
       "      <td>NaN</td>\n",
       "      <td>NaN</td>\n",
       "    </tr>\n",
       "    <tr>\n",
       "      <th>75</th>\n",
       "      <td>NaN</td>\n",
       "      <td>NaN</td>\n",
       "      <td>NaN</td>\n",
       "      <td>NaN</td>\n",
       "    </tr>\n",
       "    <tr>\n",
       "      <th>76</th>\n",
       "      <td>NaN</td>\n",
       "      <td>NaN</td>\n",
       "      <td>NaN</td>\n",
       "      <td>NaN</td>\n",
       "    </tr>\n",
       "  </tbody>\n",
       "</table>\n",
       "<p>77 rows × 4 columns</p>\n",
       "</div>"
      ],
      "text/plain": [
       "      A    B    C    D\n",
       "0   NaN  NaN  NaN  NaN\n",
       "1   NaN  NaN  NaN  NaN\n",
       "2   NaN  NaN  NaN  NaN\n",
       "3   NaN  NaN  NaN  NaN\n",
       "4   NaN  NaN  NaN  NaN\n",
       "..  ...  ...  ...  ...\n",
       "72  NaN  NaN  NaN  NaN\n",
       "73  NaN  NaN  NaN  NaN\n",
       "74  NaN  NaN  NaN  NaN\n",
       "75  NaN  NaN  NaN  NaN\n",
       "76  NaN  NaN  NaN  NaN\n",
       "\n",
       "[77 rows x 4 columns]"
      ]
     },
     "execution_count": 5,
     "metadata": {},
     "output_type": "execute_result"
    }
   ],
   "source": [
    "df # 모든 값이 NAN"
   ]
  },
  {
   "cell_type": "code",
   "execution_count": 6,
   "metadata": {},
   "outputs": [
    {
     "data": {
      "text/html": [
       "<div>\n",
       "<style scoped>\n",
       "    .dataframe tbody tr th:only-of-type {\n",
       "        vertical-align: middle;\n",
       "    }\n",
       "\n",
       "    .dataframe tbody tr th {\n",
       "        vertical-align: top;\n",
       "    }\n",
       "\n",
       "    .dataframe thead th {\n",
       "        text-align: right;\n",
       "    }\n",
       "</style>\n",
       "<table border=\"1\" class=\"dataframe\">\n",
       "  <thead>\n",
       "    <tr style=\"text-align: right;\">\n",
       "      <th></th>\n",
       "      <th>code</th>\n",
       "      <th>계정과목</th>\n",
       "      <th>금액</th>\n",
       "      <th>재무제표</th>\n",
       "    </tr>\n",
       "  </thead>\n",
       "  <tbody>\n",
       "    <tr>\n",
       "      <th>0</th>\n",
       "      <td>1</td>\n",
       "      <td>매출채권</td>\n",
       "      <td>1500</td>\n",
       "      <td>재무상태표</td>\n",
       "    </tr>\n",
       "    <tr>\n",
       "      <th>1</th>\n",
       "      <td>2</td>\n",
       "      <td>매출원가</td>\n",
       "      <td>15000</td>\n",
       "      <td>손익계산서</td>\n",
       "    </tr>\n",
       "    <tr>\n",
       "      <th>2</th>\n",
       "      <td>3</td>\n",
       "      <td>현금</td>\n",
       "      <td>1000</td>\n",
       "      <td>현금흐름표</td>\n",
       "    </tr>\n",
       "    <tr>\n",
       "      <th>3</th>\n",
       "      <td>4</td>\n",
       "      <td>자본</td>\n",
       "      <td>500</td>\n",
       "      <td>자본변동표</td>\n",
       "    </tr>\n",
       "  </tbody>\n",
       "</table>\n",
       "</div>"
      ],
      "text/plain": [
       "   code  계정과목     금액   재무제표\n",
       "0     1  매출채권   1500  재무상태표\n",
       "1     2  매출원가  15000  손익계산서\n",
       "2     3    현금   1000  현금흐름표\n",
       "3     4    자본    500  자본변동표"
      ]
     },
     "execution_count": 6,
     "metadata": {},
     "output_type": "execute_result"
    }
   ],
   "source": [
    "df1"
   ]
  },
  {
   "cell_type": "markdown",
   "metadata": {},
   "source": [
    "#### 2) DataFrame에 값을 할당하는 방법"
   ]
  },
  {
   "cell_type": "markdown",
   "metadata": {},
   "source": [
    "apply(func,axis)를 이용하는 방법\n",
    "\n",
    "apply 함수는 DataFrame의 값들을 함수를 이용해서 조작한 값(평균 등등) 을 얻고 싶을 때 사용 <br>\n",
    "axis = 0 은 열에 따라 조작하는 것 <br>\n",
    "axis = 1 은 행에 따라 조작하는 것 "
   ]
  },
  {
   "cell_type": "code",
   "execution_count": 7,
   "metadata": {},
   "outputs": [
    {
     "data": {
      "text/html": [
       "<div>\n",
       "<style scoped>\n",
       "    .dataframe tbody tr th:only-of-type {\n",
       "        vertical-align: middle;\n",
       "    }\n",
       "\n",
       "    .dataframe tbody tr th {\n",
       "        vertical-align: top;\n",
       "    }\n",
       "\n",
       "    .dataframe thead th {\n",
       "        text-align: right;\n",
       "    }\n",
       "</style>\n",
       "<table border=\"1\" class=\"dataframe\">\n",
       "  <thead>\n",
       "    <tr style=\"text-align: right;\">\n",
       "      <th></th>\n",
       "      <th>국어</th>\n",
       "      <th>수학</th>\n",
       "    </tr>\n",
       "  </thead>\n",
       "  <tbody>\n",
       "    <tr>\n",
       "      <th>홍길동</th>\n",
       "      <td>70</td>\n",
       "      <td>70</td>\n",
       "    </tr>\n",
       "    <tr>\n",
       "      <th>전우치</th>\n",
       "      <td>80</td>\n",
       "      <td>80</td>\n",
       "    </tr>\n",
       "    <tr>\n",
       "      <th>임꺽정</th>\n",
       "      <td>90</td>\n",
       "      <td>90</td>\n",
       "    </tr>\n",
       "  </tbody>\n",
       "</table>\n",
       "</div>"
      ],
      "text/plain": [
       "     국어  수학\n",
       "홍길동  70  70\n",
       "전우치  80  80\n",
       "임꺽정  90  90"
      ]
     },
     "execution_count": 7,
     "metadata": {},
     "output_type": "execute_result"
    }
   ],
   "source": [
    "#axis에 따른 차이\n",
    "\n",
    "cols = {\"국어\":[70,80,90],\"수학\":[70,80,90]}\n",
    "indexes = [\"홍길동\",\"전우치\",\"임꺽정\"]\n",
    "df2 = pd.DataFrame(cols,indexes)\n",
    "df2"
   ]
  },
  {
   "cell_type": "code",
   "execution_count": 8,
   "metadata": {},
   "outputs": [
    {
     "data": {
      "text/plain": [
       "국어    80.0\n",
       "수학    80.0\n",
       "dtype: float64"
      ]
     },
     "execution_count": 8,
     "metadata": {},
     "output_type": "execute_result"
    }
   ],
   "source": [
    "#axis = 0 : 열 기준으로 집계 (행은 사라짐) -> 과목별 정보\n",
    "df2.apply(np.mean, axis = 0)"
   ]
  },
  {
   "cell_type": "code",
   "execution_count": 9,
   "metadata": {},
   "outputs": [
    {
     "data": {
      "text/plain": [
       "홍길동    70.0\n",
       "전우치    80.0\n",
       "임꺽정    90.0\n",
       "dtype: float64"
      ]
     },
     "execution_count": 9,
     "metadata": {},
     "output_type": "execute_result"
    }
   ],
   "source": [
    "#axis = 1 : 행 기준으로 집계 (열은 사라짐)  -> 학생들 정보\n",
    "df2.apply(np.mean, axis = 1)"
   ]
  },
  {
   "cell_type": "markdown",
   "metadata": {},
   "source": [
    "이제 이 apply 함수를 DataFrame의 값을 부여하는데 사용 <br>\n",
    "\n",
    "\n",
    "property Series.name[source] <br>\n",
    "Return the name of the Series. <br>\n",
    "\n",
    "The name of a Series becomes its index or column name if it is used to form a DataFrame. It is also used whenever displaying the <br> Series using the interpreter. <br>\n",
    "\n",
    "Returns <br>\n",
    "label (hashable object) <br>\n",
    "The name of the Series, also the column name if part of a DataFrame. <br>"
   ]
  },
  {
   "cell_type": "code",
   "execution_count": 10,
   "metadata": {},
   "outputs": [
    {
     "data": {
      "text/plain": [
       "0      0\n",
       "1      1\n",
       "2      2\n",
       "3      3\n",
       "4      4\n",
       "      ..\n",
       "72    72\n",
       "73    73\n",
       "74    74\n",
       "75    75\n",
       "76    76\n",
       "Length: 77, dtype: object"
      ]
     },
     "execution_count": 10,
     "metadata": {},
     "output_type": "execute_result"
    }
   ],
   "source": [
    "df.apply(lambda b: str(b.name),axis=1) # 행의 이름을 기준으로 이름을 따라하는 데이터 생성"
   ]
  },
  {
   "cell_type": "code",
   "execution_count": 29,
   "metadata": {},
   "outputs": [],
   "source": [
    "#일괄적으로 값을 부여하고 싶을때! \n",
    "df = df.apply(lambda x: df.apply(lambda b: str(b.name),axis=1),axis=0)  #위의 결과를 모든 열을 기준으로 생성후 원래 DataFrame에 할당\n",
    "\n",
    "# axis : 0일때 행, 1일때 열에 적용시킨다.\n",
    "#https://hogni.tistory.com/49\n",
    "# b.name : "
   ]
  },
  {
   "cell_type": "markdown",
   "metadata": {},
   "source": [
    "axis = 1을 통해서 열의 이름을 그 열의 모든 element에 넣어주었다 <br>\n",
    "그리고 그것을 모든 행에 적용시켜주었다. <br>\n",
    "다시 그 값을 DataFrame에 할당해준다."
   ]
  },
  {
   "cell_type": "code",
   "execution_count": 30,
   "metadata": {
    "colab": {
     "base_uri": "https://localhost:8080/",
     "height": 423
    },
    "id": "BBNUO3Q_JICD",
    "outputId": "f4026418-78e9-48d1-fa09-a84d00959440"
   },
   "outputs": [
    {
     "data": {
      "text/html": [
       "<div>\n",
       "<style scoped>\n",
       "    .dataframe tbody tr th:only-of-type {\n",
       "        vertical-align: middle;\n",
       "    }\n",
       "\n",
       "    .dataframe tbody tr th {\n",
       "        vertical-align: top;\n",
       "    }\n",
       "\n",
       "    .dataframe thead th {\n",
       "        text-align: right;\n",
       "    }\n",
       "</style>\n",
       "<table border=\"1\" class=\"dataframe\">\n",
       "  <thead>\n",
       "    <tr style=\"text-align: right;\">\n",
       "      <th></th>\n",
       "      <th>A</th>\n",
       "      <th>B</th>\n",
       "      <th>C</th>\n",
       "      <th>D</th>\n",
       "    </tr>\n",
       "  </thead>\n",
       "  <tbody>\n",
       "    <tr>\n",
       "      <th>0</th>\n",
       "      <td>0</td>\n",
       "      <td>0</td>\n",
       "      <td>0</td>\n",
       "      <td>0</td>\n",
       "    </tr>\n",
       "    <tr>\n",
       "      <th>1</th>\n",
       "      <td>1</td>\n",
       "      <td>1</td>\n",
       "      <td>1</td>\n",
       "      <td>1</td>\n",
       "    </tr>\n",
       "    <tr>\n",
       "      <th>2</th>\n",
       "      <td>2</td>\n",
       "      <td>2</td>\n",
       "      <td>2</td>\n",
       "      <td>2</td>\n",
       "    </tr>\n",
       "    <tr>\n",
       "      <th>3</th>\n",
       "      <td>3</td>\n",
       "      <td>3</td>\n",
       "      <td>3</td>\n",
       "      <td>3</td>\n",
       "    </tr>\n",
       "    <tr>\n",
       "      <th>4</th>\n",
       "      <td>4</td>\n",
       "      <td>4</td>\n",
       "      <td>4</td>\n",
       "      <td>4</td>\n",
       "    </tr>\n",
       "    <tr>\n",
       "      <th>...</th>\n",
       "      <td>...</td>\n",
       "      <td>...</td>\n",
       "      <td>...</td>\n",
       "      <td>...</td>\n",
       "    </tr>\n",
       "    <tr>\n",
       "      <th>72</th>\n",
       "      <td>72</td>\n",
       "      <td>72</td>\n",
       "      <td>72</td>\n",
       "      <td>72</td>\n",
       "    </tr>\n",
       "    <tr>\n",
       "      <th>73</th>\n",
       "      <td>73</td>\n",
       "      <td>73</td>\n",
       "      <td>73</td>\n",
       "      <td>73</td>\n",
       "    </tr>\n",
       "    <tr>\n",
       "      <th>74</th>\n",
       "      <td>74</td>\n",
       "      <td>74</td>\n",
       "      <td>74</td>\n",
       "      <td>74</td>\n",
       "    </tr>\n",
       "    <tr>\n",
       "      <th>75</th>\n",
       "      <td>75</td>\n",
       "      <td>75</td>\n",
       "      <td>75</td>\n",
       "      <td>75</td>\n",
       "    </tr>\n",
       "    <tr>\n",
       "      <th>76</th>\n",
       "      <td>76</td>\n",
       "      <td>76</td>\n",
       "      <td>76</td>\n",
       "      <td>76</td>\n",
       "    </tr>\n",
       "  </tbody>\n",
       "</table>\n",
       "<p>77 rows × 4 columns</p>\n",
       "</div>"
      ],
      "text/plain": [
       "     A   B   C   D\n",
       "0    0   0   0   0\n",
       "1    1   1   1   1\n",
       "2    2   2   2   2\n",
       "3    3   3   3   3\n",
       "4    4   4   4   4\n",
       "..  ..  ..  ..  ..\n",
       "72  72  72  72  72\n",
       "73  73  73  73  73\n",
       "74  74  74  74  74\n",
       "75  75  75  75  75\n",
       "76  76  76  76  76\n",
       "\n",
       "[77 rows x 4 columns]"
      ]
     },
     "execution_count": 30,
     "metadata": {},
     "output_type": "execute_result"
    }
   ],
   "source": [
    "df"
   ]
  },
  {
   "cell_type": "markdown",
   "metadata": {
    "id": "ZpgQl9-8-STE"
   },
   "source": [
    "참고로 람다함수가 뭔지 잘 모르는 분들을 위해 사진 첨부하겠습니다ㅎㅎ\n",
    "\n",
    "![image.png](data:image/png;base64,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)"
   ]
  },
  {
   "cell_type": "code",
   "execution_count": 31,
   "metadata": {
    "colab": {
     "base_uri": "https://localhost:8080/",
     "height": 423
    },
    "id": "f587fc80",
    "outputId": "9bea909c-a390-4ed7-9954-3913b8c1de03"
   },
   "outputs": [
    {
     "data": {
      "text/html": [
       "<div>\n",
       "<style scoped>\n",
       "    .dataframe tbody tr th:only-of-type {\n",
       "        vertical-align: middle;\n",
       "    }\n",
       "\n",
       "    .dataframe tbody tr th {\n",
       "        vertical-align: top;\n",
       "    }\n",
       "\n",
       "    .dataframe thead th {\n",
       "        text-align: right;\n",
       "    }\n",
       "</style>\n",
       "<table border=\"1\" class=\"dataframe\">\n",
       "  <thead>\n",
       "    <tr style=\"text-align: right;\">\n",
       "      <th></th>\n",
       "      <th>A</th>\n",
       "      <th>B</th>\n",
       "      <th>C</th>\n",
       "    </tr>\n",
       "  </thead>\n",
       "  <tbody>\n",
       "    <tr>\n",
       "      <th>0</th>\n",
       "      <td>0</td>\n",
       "      <td>0</td>\n",
       "      <td>0</td>\n",
       "    </tr>\n",
       "    <tr>\n",
       "      <th>1</th>\n",
       "      <td>1</td>\n",
       "      <td>1</td>\n",
       "      <td>1</td>\n",
       "    </tr>\n",
       "    <tr>\n",
       "      <th>2</th>\n",
       "      <td>2</td>\n",
       "      <td>2</td>\n",
       "      <td>2</td>\n",
       "    </tr>\n",
       "    <tr>\n",
       "      <th>3</th>\n",
       "      <td>3</td>\n",
       "      <td>3</td>\n",
       "      <td>3</td>\n",
       "    </tr>\n",
       "    <tr>\n",
       "      <th>4</th>\n",
       "      <td>4</td>\n",
       "      <td>4</td>\n",
       "      <td>4</td>\n",
       "    </tr>\n",
       "    <tr>\n",
       "      <th>...</th>\n",
       "      <td>...</td>\n",
       "      <td>...</td>\n",
       "      <td>...</td>\n",
       "    </tr>\n",
       "    <tr>\n",
       "      <th>72</th>\n",
       "      <td>72</td>\n",
       "      <td>72</td>\n",
       "      <td>72</td>\n",
       "    </tr>\n",
       "    <tr>\n",
       "      <th>73</th>\n",
       "      <td>73</td>\n",
       "      <td>73</td>\n",
       "      <td>73</td>\n",
       "    </tr>\n",
       "    <tr>\n",
       "      <th>74</th>\n",
       "      <td>74</td>\n",
       "      <td>74</td>\n",
       "      <td>74</td>\n",
       "    </tr>\n",
       "    <tr>\n",
       "      <th>75</th>\n",
       "      <td>75</td>\n",
       "      <td>75</td>\n",
       "      <td>75</td>\n",
       "    </tr>\n",
       "    <tr>\n",
       "      <th>76</th>\n",
       "      <td>76</td>\n",
       "      <td>76</td>\n",
       "      <td>76</td>\n",
       "    </tr>\n",
       "  </tbody>\n",
       "</table>\n",
       "<p>77 rows × 3 columns</p>\n",
       "</div>"
      ],
      "text/plain": [
       "     A   B   C\n",
       "0    0   0   0\n",
       "1    1   1   1\n",
       "2    2   2   2\n",
       "3    3   3   3\n",
       "4    4   4   4\n",
       "..  ..  ..  ..\n",
       "72  72  72  72\n",
       "73  73  73  73\n",
       "74  74  74  74\n",
       "75  75  75  75\n",
       "76  76  76  76\n",
       "\n",
       "[77 rows x 3 columns]"
      ]
     },
     "execution_count": 31,
     "metadata": {},
     "output_type": "execute_result"
    }
   ],
   "source": [
    "# loc & iloc 잘 구별하기!\n",
    "\n",
    "# 1. A컬럼의 0번 index에 위치한 값을 선택하시오\n",
    "df[\"A\"].loc[0]\n",
    "\n",
    "df[\"A\"].iloc[0]\n",
    "\n",
    "# 2. A컬럼의 0~10번 index에 속한 값들을 선택하시오\n",
    "df[\"A\"].loc[0:10]\n",
    "df[\"A\"].iloc[0:10]\n",
    "\n",
    "# 3. A컬럼부터 C컬럼까지만 선택하시오\n",
    "df.loc[:,\"A\":\"C\"]\n",
    "df.iloc[:,0:3] #숫자값으로 접근(칼럼도)"
   ]
  },
  {
   "cell_type": "code",
   "execution_count": 36,
   "metadata": {
    "colab": {
     "base_uri": "https://localhost:8080/",
     "height": 423
    },
    "id": "79c0d76c",
    "outputId": "1d8d60f1-df2c-418d-ee7b-d1ec6018ed4c",
    "scrolled": false
   },
   "outputs": [
    {
     "data": {
      "text/html": [
       "<div>\n",
       "<style scoped>\n",
       "    .dataframe tbody tr th:only-of-type {\n",
       "        vertical-align: middle;\n",
       "    }\n",
       "\n",
       "    .dataframe tbody tr th {\n",
       "        vertical-align: top;\n",
       "    }\n",
       "\n",
       "    .dataframe thead th {\n",
       "        text-align: right;\n",
       "    }\n",
       "</style>\n",
       "<table border=\"1\" class=\"dataframe\">\n",
       "  <thead>\n",
       "    <tr style=\"text-align: right;\">\n",
       "      <th></th>\n",
       "      <th>A</th>\n",
       "      <th>B</th>\n",
       "      <th>C</th>\n",
       "      <th>D</th>\n",
       "    </tr>\n",
       "  </thead>\n",
       "  <tbody>\n",
       "    <tr>\n",
       "      <th>0</th>\n",
       "      <td>18</td>\n",
       "      <td>67</td>\n",
       "      <td>20</td>\n",
       "      <td>98</td>\n",
       "    </tr>\n",
       "    <tr>\n",
       "      <th>1</th>\n",
       "      <td>58</td>\n",
       "      <td>87</td>\n",
       "      <td>6</td>\n",
       "      <td>23</td>\n",
       "    </tr>\n",
       "    <tr>\n",
       "      <th>2</th>\n",
       "      <td>58</td>\n",
       "      <td>43</td>\n",
       "      <td>60</td>\n",
       "      <td>10</td>\n",
       "    </tr>\n",
       "    <tr>\n",
       "      <th>3</th>\n",
       "      <td>98</td>\n",
       "      <td>69</td>\n",
       "      <td>96</td>\n",
       "      <td>2</td>\n",
       "    </tr>\n",
       "    <tr>\n",
       "      <th>4</th>\n",
       "      <td>22</td>\n",
       "      <td>46</td>\n",
       "      <td>6</td>\n",
       "      <td>88</td>\n",
       "    </tr>\n",
       "    <tr>\n",
       "      <th>...</th>\n",
       "      <td>...</td>\n",
       "      <td>...</td>\n",
       "      <td>...</td>\n",
       "      <td>...</td>\n",
       "    </tr>\n",
       "    <tr>\n",
       "      <th>72</th>\n",
       "      <td>91</td>\n",
       "      <td>61</td>\n",
       "      <td>41</td>\n",
       "      <td>72</td>\n",
       "    </tr>\n",
       "    <tr>\n",
       "      <th>73</th>\n",
       "      <td>37</td>\n",
       "      <td>69</td>\n",
       "      <td>86</td>\n",
       "      <td>18</td>\n",
       "    </tr>\n",
       "    <tr>\n",
       "      <th>74</th>\n",
       "      <td>88</td>\n",
       "      <td>4</td>\n",
       "      <td>56</td>\n",
       "      <td>17</td>\n",
       "    </tr>\n",
       "    <tr>\n",
       "      <th>75</th>\n",
       "      <td>75</td>\n",
       "      <td>89</td>\n",
       "      <td>4</td>\n",
       "      <td>97</td>\n",
       "    </tr>\n",
       "    <tr>\n",
       "      <th>76</th>\n",
       "      <td>43</td>\n",
       "      <td>56</td>\n",
       "      <td>93</td>\n",
       "      <td>70</td>\n",
       "    </tr>\n",
       "  </tbody>\n",
       "</table>\n",
       "<p>77 rows × 4 columns</p>\n",
       "</div>"
      ],
      "text/plain": [
       "     A   B   C   D\n",
       "0   18  67  20  98\n",
       "1   58  87   6  23\n",
       "2   58  43  60  10\n",
       "3   98  69  96   2\n",
       "4   22  46   6  88\n",
       "..  ..  ..  ..  ..\n",
       "72  91  61  41  72\n",
       "73  37  69  86  18\n",
       "74  88   4  56  17\n",
       "75  75  89   4  97\n",
       "76  43  56  93  70\n",
       "\n",
       "[77 rows x 4 columns]"
      ]
     },
     "execution_count": 36,
     "metadata": {},
     "output_type": "execute_result"
    }
   ],
   "source": [
    "import random\n",
    "random.seed(100)\n",
    "\n",
    "\n",
    "num_df = df.apply(lambda x: df.apply(lambda x: random.randint(0,101),axis=1)) #axis = 0이 default 값이기 때문에 바깥쪽에서는 생략해줌\n",
    "num_df"
   ]
  },
  {
   "cell_type": "markdown",
   "metadata": {},
   "source": [
    "#### 3) 칼럼간 연산"
   ]
  },
  {
   "cell_type": "code",
   "execution_count": 37,
   "metadata": {},
   "outputs": [
    {
     "data": {
      "text/html": [
       "<div>\n",
       "<style scoped>\n",
       "    .dataframe tbody tr th:only-of-type {\n",
       "        vertical-align: middle;\n",
       "    }\n",
       "\n",
       "    .dataframe tbody tr th {\n",
       "        vertical-align: top;\n",
       "    }\n",
       "\n",
       "    .dataframe thead th {\n",
       "        text-align: right;\n",
       "    }\n",
       "</style>\n",
       "<table border=\"1\" class=\"dataframe\">\n",
       "  <thead>\n",
       "    <tr style=\"text-align: right;\">\n",
       "      <th></th>\n",
       "      <th>A</th>\n",
       "      <th>B</th>\n",
       "      <th>C</th>\n",
       "      <th>D</th>\n",
       "    </tr>\n",
       "  </thead>\n",
       "  <tbody>\n",
       "    <tr>\n",
       "      <th>0</th>\n",
       "      <td>18</td>\n",
       "      <td>67</td>\n",
       "      <td>20</td>\n",
       "      <td>85</td>\n",
       "    </tr>\n",
       "    <tr>\n",
       "      <th>1</th>\n",
       "      <td>58</td>\n",
       "      <td>87</td>\n",
       "      <td>6</td>\n",
       "      <td>145</td>\n",
       "    </tr>\n",
       "    <tr>\n",
       "      <th>2</th>\n",
       "      <td>58</td>\n",
       "      <td>43</td>\n",
       "      <td>60</td>\n",
       "      <td>101</td>\n",
       "    </tr>\n",
       "    <tr>\n",
       "      <th>3</th>\n",
       "      <td>98</td>\n",
       "      <td>69</td>\n",
       "      <td>96</td>\n",
       "      <td>167</td>\n",
       "    </tr>\n",
       "    <tr>\n",
       "      <th>4</th>\n",
       "      <td>22</td>\n",
       "      <td>46</td>\n",
       "      <td>6</td>\n",
       "      <td>68</td>\n",
       "    </tr>\n",
       "    <tr>\n",
       "      <th>...</th>\n",
       "      <td>...</td>\n",
       "      <td>...</td>\n",
       "      <td>...</td>\n",
       "      <td>...</td>\n",
       "    </tr>\n",
       "    <tr>\n",
       "      <th>72</th>\n",
       "      <td>91</td>\n",
       "      <td>61</td>\n",
       "      <td>41</td>\n",
       "      <td>152</td>\n",
       "    </tr>\n",
       "    <tr>\n",
       "      <th>73</th>\n",
       "      <td>37</td>\n",
       "      <td>69</td>\n",
       "      <td>86</td>\n",
       "      <td>106</td>\n",
       "    </tr>\n",
       "    <tr>\n",
       "      <th>74</th>\n",
       "      <td>88</td>\n",
       "      <td>4</td>\n",
       "      <td>56</td>\n",
       "      <td>92</td>\n",
       "    </tr>\n",
       "    <tr>\n",
       "      <th>75</th>\n",
       "      <td>75</td>\n",
       "      <td>89</td>\n",
       "      <td>4</td>\n",
       "      <td>164</td>\n",
       "    </tr>\n",
       "    <tr>\n",
       "      <th>76</th>\n",
       "      <td>43</td>\n",
       "      <td>56</td>\n",
       "      <td>93</td>\n",
       "      <td>99</td>\n",
       "    </tr>\n",
       "  </tbody>\n",
       "</table>\n",
       "<p>77 rows × 4 columns</p>\n",
       "</div>"
      ],
      "text/plain": [
       "     A   B   C    D\n",
       "0   18  67  20   85\n",
       "1   58  87   6  145\n",
       "2   58  43  60  101\n",
       "3   98  69  96  167\n",
       "4   22  46   6   68\n",
       "..  ..  ..  ..  ...\n",
       "72  91  61  41  152\n",
       "73  37  69  86  106\n",
       "74  88   4  56   92\n",
       "75  75  89   4  164\n",
       "76  43  56  93   99\n",
       "\n",
       "[77 rows x 4 columns]"
      ]
     },
     "execution_count": 37,
     "metadata": {},
     "output_type": "execute_result"
    }
   ],
   "source": [
    "# num_df의 A 와 B값을 합친 D 컬럼을 만드시오.\n",
    "\n",
    "num_df[\"D\"] = num_df[\"A\"] + num_df[\"B\"]\n",
    "num_df"
   ]
  },
  {
   "cell_type": "code",
   "execution_count": 38,
   "metadata": {},
   "outputs": [
    {
     "data": {
      "text/html": [
       "<div>\n",
       "<style scoped>\n",
       "    .dataframe tbody tr th:only-of-type {\n",
       "        vertical-align: middle;\n",
       "    }\n",
       "\n",
       "    .dataframe tbody tr th {\n",
       "        vertical-align: top;\n",
       "    }\n",
       "\n",
       "    .dataframe thead th {\n",
       "        text-align: right;\n",
       "    }\n",
       "</style>\n",
       "<table border=\"1\" class=\"dataframe\">\n",
       "  <thead>\n",
       "    <tr style=\"text-align: right;\">\n",
       "      <th></th>\n",
       "      <th>A</th>\n",
       "      <th>B</th>\n",
       "      <th>C</th>\n",
       "      <th>D</th>\n",
       "      <th>E</th>\n",
       "    </tr>\n",
       "  </thead>\n",
       "  <tbody>\n",
       "    <tr>\n",
       "      <th>0</th>\n",
       "      <td>18</td>\n",
       "      <td>67</td>\n",
       "      <td>20</td>\n",
       "      <td>85</td>\n",
       "      <td>190</td>\n",
       "    </tr>\n",
       "    <tr>\n",
       "      <th>1</th>\n",
       "      <td>58</td>\n",
       "      <td>87</td>\n",
       "      <td>6</td>\n",
       "      <td>145</td>\n",
       "      <td>296</td>\n",
       "    </tr>\n",
       "    <tr>\n",
       "      <th>2</th>\n",
       "      <td>58</td>\n",
       "      <td>43</td>\n",
       "      <td>60</td>\n",
       "      <td>101</td>\n",
       "      <td>262</td>\n",
       "    </tr>\n",
       "    <tr>\n",
       "      <th>3</th>\n",
       "      <td>98</td>\n",
       "      <td>69</td>\n",
       "      <td>96</td>\n",
       "      <td>167</td>\n",
       "      <td>430</td>\n",
       "    </tr>\n",
       "    <tr>\n",
       "      <th>4</th>\n",
       "      <td>22</td>\n",
       "      <td>46</td>\n",
       "      <td>6</td>\n",
       "      <td>68</td>\n",
       "      <td>142</td>\n",
       "    </tr>\n",
       "    <tr>\n",
       "      <th>...</th>\n",
       "      <td>...</td>\n",
       "      <td>...</td>\n",
       "      <td>...</td>\n",
       "      <td>...</td>\n",
       "      <td>...</td>\n",
       "    </tr>\n",
       "    <tr>\n",
       "      <th>72</th>\n",
       "      <td>91</td>\n",
       "      <td>61</td>\n",
       "      <td>41</td>\n",
       "      <td>152</td>\n",
       "      <td>345</td>\n",
       "    </tr>\n",
       "    <tr>\n",
       "      <th>73</th>\n",
       "      <td>37</td>\n",
       "      <td>69</td>\n",
       "      <td>86</td>\n",
       "      <td>106</td>\n",
       "      <td>298</td>\n",
       "    </tr>\n",
       "    <tr>\n",
       "      <th>74</th>\n",
       "      <td>88</td>\n",
       "      <td>4</td>\n",
       "      <td>56</td>\n",
       "      <td>92</td>\n",
       "      <td>240</td>\n",
       "    </tr>\n",
       "    <tr>\n",
       "      <th>75</th>\n",
       "      <td>75</td>\n",
       "      <td>89</td>\n",
       "      <td>4</td>\n",
       "      <td>164</td>\n",
       "      <td>332</td>\n",
       "    </tr>\n",
       "    <tr>\n",
       "      <th>76</th>\n",
       "      <td>43</td>\n",
       "      <td>56</td>\n",
       "      <td>93</td>\n",
       "      <td>99</td>\n",
       "      <td>291</td>\n",
       "    </tr>\n",
       "  </tbody>\n",
       "</table>\n",
       "<p>77 rows × 5 columns</p>\n",
       "</div>"
      ],
      "text/plain": [
       "     A   B   C    D    E\n",
       "0   18  67  20   85  190\n",
       "1   58  87   6  145  296\n",
       "2   58  43  60  101  262\n",
       "3   98  69  96  167  430\n",
       "4   22  46   6   68  142\n",
       "..  ..  ..  ..  ...  ...\n",
       "72  91  61  41  152  345\n",
       "73  37  69  86  106  298\n",
       "74  88   4  56   92  240\n",
       "75  75  89   4  164  332\n",
       "76  43  56  93   99  291\n",
       "\n",
       "[77 rows x 5 columns]"
      ]
     },
     "execution_count": 38,
     "metadata": {},
     "output_type": "execute_result"
    }
   ],
   "source": [
    "# num_df의 A~D 까지의 sum인 sum 컬럼을 만드시오\n",
    "num_df[\"E\"] = num_df.sum(axis=1) #열을 축으로하는 덧셈\n",
    "num_df"
   ]
  },
  {
   "cell_type": "markdown",
   "metadata": {},
   "source": [
    "4) 상관계수 <br>\n",
    "\n",
    "상관 계수는 두 변수 사이의 선형관계성의 정도를 나타내는 값이다 <br>\n",
    "-1 ~ 1 의 값을 가지며, -1은 반비례, 1은 비례, 0은 아무 관련이 없음을 나타낸다. <br>\n",
    "https://www.jmp.com/ko_kr/statistics-knowledge-portal/what-is-correlation/correlation-coefficient.html"
   ]
  },
  {
   "cell_type": "code",
   "execution_count": 14,
   "metadata": {
    "colab": {
     "base_uri": "https://localhost:8080/"
    },
    "id": "3ed9a3b0",
    "outputId": "719a5cf7-ccdb-4c68-b5fa-58b6c2e7350e"
   },
   "outputs": [
    {
     "data": {
      "text/plain": [
       "0.13269879038077087"
      ]
     },
     "execution_count": 14,
     "metadata": {},
     "output_type": "execute_result"
    }
   ],
   "source": [
    "\n",
    "# 각 컬럼 값들의 상관계수를 구하시오\n",
    "covAB = sum(\n",
    "    (num_df[\"A\"] - num_df[\"A\"].mean()\n",
    "    ) \n",
    "    * (num_df[\"B\"] - num_df[\"B\"].mean()\n",
    "      )\n",
    ")/len(num_df)  #곱의 합 \n",
    "\n",
    "\n",
    "standard_D_A = (\n",
    "    sum(\n",
    "        (num_df[\"A\"] - num_df[\"A\"].mean())**2)\n",
    "    /len(num_df))**(1/2)\n",
    "\n",
    "standard_D_B = (\n",
    "    sum(\n",
    "        (num_df[\"B\"] - num_df[\"B\"].mean())**2)\n",
    "    /len(num_df))**(1/2)\n",
    "\n",
    "\n",
    "corrAB = covAB / (standard_D_A * standard_D_B)\n",
    "\n",
    "corrAB\n",
    "\n",
    "\n",
    "\n",
    "\n",
    "#num_df.corr()"
   ]
  },
  {
   "cell_type": "markdown",
   "metadata": {
    "id": "0c11fdce"
   },
   "source": [
    "## 2. python - apply lambda"
   ]
  },
  {
   "cell_type": "code",
   "execution_count": 15,
   "metadata": {
    "colab": {
     "base_uri": "https://localhost:8080/",
     "height": 423
    },
    "id": "7f673eed",
    "outputId": "7db9b226-0a0d-4e3f-9248-19e6bd47553b"
   },
   "outputs": [
    {
     "data": {
      "text/html": [
       "<div>\n",
       "<style scoped>\n",
       "    .dataframe tbody tr th:only-of-type {\n",
       "        vertical-align: middle;\n",
       "    }\n",
       "\n",
       "    .dataframe tbody tr th {\n",
       "        vertical-align: top;\n",
       "    }\n",
       "\n",
       "    .dataframe thead th {\n",
       "        text-align: right;\n",
       "    }\n",
       "</style>\n",
       "<table border=\"1\" class=\"dataframe\">\n",
       "  <thead>\n",
       "    <tr style=\"text-align: right;\">\n",
       "      <th></th>\n",
       "      <th>A</th>\n",
       "      <th>B</th>\n",
       "      <th>C</th>\n",
       "      <th>D</th>\n",
       "    </tr>\n",
       "  </thead>\n",
       "  <tbody>\n",
       "    <tr>\n",
       "      <th>0</th>\n",
       "      <td>0a</td>\n",
       "      <td>0b</td>\n",
       "      <td>0c</td>\n",
       "      <td>0d</td>\n",
       "    </tr>\n",
       "    <tr>\n",
       "      <th>1</th>\n",
       "      <td>1a</td>\n",
       "      <td>1b</td>\n",
       "      <td>1c</td>\n",
       "      <td>1d</td>\n",
       "    </tr>\n",
       "    <tr>\n",
       "      <th>2</th>\n",
       "      <td>2a</td>\n",
       "      <td>2b</td>\n",
       "      <td>2c</td>\n",
       "      <td>2d</td>\n",
       "    </tr>\n",
       "    <tr>\n",
       "      <th>3</th>\n",
       "      <td>3a</td>\n",
       "      <td>3b</td>\n",
       "      <td>3c</td>\n",
       "      <td>3d</td>\n",
       "    </tr>\n",
       "    <tr>\n",
       "      <th>4</th>\n",
       "      <td>4a</td>\n",
       "      <td>4b</td>\n",
       "      <td>4c</td>\n",
       "      <td>4d</td>\n",
       "    </tr>\n",
       "    <tr>\n",
       "      <th>...</th>\n",
       "      <td>...</td>\n",
       "      <td>...</td>\n",
       "      <td>...</td>\n",
       "      <td>...</td>\n",
       "    </tr>\n",
       "    <tr>\n",
       "      <th>72</th>\n",
       "      <td>72a</td>\n",
       "      <td>72b</td>\n",
       "      <td>72c</td>\n",
       "      <td>72d</td>\n",
       "    </tr>\n",
       "    <tr>\n",
       "      <th>73</th>\n",
       "      <td>73a</td>\n",
       "      <td>73b</td>\n",
       "      <td>73c</td>\n",
       "      <td>73d</td>\n",
       "    </tr>\n",
       "    <tr>\n",
       "      <th>74</th>\n",
       "      <td>74a</td>\n",
       "      <td>74b</td>\n",
       "      <td>74c</td>\n",
       "      <td>74d</td>\n",
       "    </tr>\n",
       "    <tr>\n",
       "      <th>75</th>\n",
       "      <td>75a</td>\n",
       "      <td>75b</td>\n",
       "      <td>75c</td>\n",
       "      <td>75d</td>\n",
       "    </tr>\n",
       "    <tr>\n",
       "      <th>76</th>\n",
       "      <td>76a</td>\n",
       "      <td>76b</td>\n",
       "      <td>76c</td>\n",
       "      <td>76d</td>\n",
       "    </tr>\n",
       "  </tbody>\n",
       "</table>\n",
       "<p>77 rows × 4 columns</p>\n",
       "</div>"
      ],
      "text/plain": [
       "      A    B    C    D\n",
       "0    0a   0b   0c   0d\n",
       "1    1a   1b   1c   1d\n",
       "2    2a   2b   2c   2d\n",
       "3    3a   3b   3c   3d\n",
       "4    4a   4b   4c   4d\n",
       "..  ...  ...  ...  ...\n",
       "72  72a  72b  72c  72d\n",
       "73  73a  73b  73c  73d\n",
       "74  74a  74b  74c  74d\n",
       "75  75a  75b  75c  75d\n",
       "76  76a  76b  76c  76d\n",
       "\n",
       "[77 rows x 4 columns]"
      ]
     },
     "execution_count": 15,
     "metadata": {},
     "output_type": "execute_result"
    }
   ],
   "source": [
    "df = pd.DataFrame(index=range(0,77), columns=[\"A\",\"B\",\"C\",\"D\"])\n",
    "\n",
    "for col in df.columns:                           #for문으로 하나씩 접근해주면서 값을 할당\n",
    "    for ind in df.index:\n",
    "        df[col].loc[ind] = str(ind) + col.lower() \n",
    "        \n",
    "df"
   ]
  },
  {
   "cell_type": "code",
   "execution_count": 16,
   "metadata": {
    "colab": {
     "base_uri": "https://localhost:8080/",
     "height": 423
    },
    "id": "eeadc2ba",
    "outputId": "8386819a-8fd7-47d3-9c5d-84fac17443c6"
   },
   "outputs": [
    {
     "data": {
      "text/html": [
       "<div>\n",
       "<style scoped>\n",
       "    .dataframe tbody tr th:only-of-type {\n",
       "        vertical-align: middle;\n",
       "    }\n",
       "\n",
       "    .dataframe tbody tr th {\n",
       "        vertical-align: top;\n",
       "    }\n",
       "\n",
       "    .dataframe thead th {\n",
       "        text-align: right;\n",
       "    }\n",
       "</style>\n",
       "<table border=\"1\" class=\"dataframe\">\n",
       "  <thead>\n",
       "    <tr style=\"text-align: right;\">\n",
       "      <th></th>\n",
       "      <th>A</th>\n",
       "      <th>B</th>\n",
       "      <th>C</th>\n",
       "      <th>D</th>\n",
       "    </tr>\n",
       "  </thead>\n",
       "  <tbody>\n",
       "    <tr>\n",
       "      <th>0</th>\n",
       "      <td>0a</td>\n",
       "      <td>0b</td>\n",
       "      <td>0c</td>\n",
       "      <td>0d</td>\n",
       "    </tr>\n",
       "    <tr>\n",
       "      <th>1</th>\n",
       "      <td>1a</td>\n",
       "      <td>1b</td>\n",
       "      <td>1c</td>\n",
       "      <td>1d</td>\n",
       "    </tr>\n",
       "    <tr>\n",
       "      <th>2</th>\n",
       "      <td>2a</td>\n",
       "      <td>2b</td>\n",
       "      <td>2c</td>\n",
       "      <td>2d</td>\n",
       "    </tr>\n",
       "    <tr>\n",
       "      <th>3</th>\n",
       "      <td>3a</td>\n",
       "      <td>3b</td>\n",
       "      <td>3c</td>\n",
       "      <td>3d</td>\n",
       "    </tr>\n",
       "    <tr>\n",
       "      <th>4</th>\n",
       "      <td>4a</td>\n",
       "      <td>4b</td>\n",
       "      <td>4c</td>\n",
       "      <td>4d</td>\n",
       "    </tr>\n",
       "    <tr>\n",
       "      <th>...</th>\n",
       "      <td>...</td>\n",
       "      <td>...</td>\n",
       "      <td>...</td>\n",
       "      <td>...</td>\n",
       "    </tr>\n",
       "    <tr>\n",
       "      <th>72</th>\n",
       "      <td>72a</td>\n",
       "      <td>72b</td>\n",
       "      <td>72c</td>\n",
       "      <td>72d</td>\n",
       "    </tr>\n",
       "    <tr>\n",
       "      <th>73</th>\n",
       "      <td>73a</td>\n",
       "      <td>73b</td>\n",
       "      <td>73c</td>\n",
       "      <td>73d</td>\n",
       "    </tr>\n",
       "    <tr>\n",
       "      <th>74</th>\n",
       "      <td>74a</td>\n",
       "      <td>74b</td>\n",
       "      <td>74c</td>\n",
       "      <td>74d</td>\n",
       "    </tr>\n",
       "    <tr>\n",
       "      <th>75</th>\n",
       "      <td>75a</td>\n",
       "      <td>75b</td>\n",
       "      <td>75c</td>\n",
       "      <td>75d</td>\n",
       "    </tr>\n",
       "    <tr>\n",
       "      <th>76</th>\n",
       "      <td>76a</td>\n",
       "      <td>76b</td>\n",
       "      <td>76c</td>\n",
       "      <td>76d</td>\n",
       "    </tr>\n",
       "  </tbody>\n",
       "</table>\n",
       "<p>77 rows × 4 columns</p>\n",
       "</div>"
      ],
      "text/plain": [
       "      A    B    C    D\n",
       "0    0a   0b   0c   0d\n",
       "1    1a   1b   1c   1d\n",
       "2    2a   2b   2c   2d\n",
       "3    3a   3b   3c   3d\n",
       "4    4a   4b   4c   4d\n",
       "..  ...  ...  ...  ...\n",
       "72  72a  72b  72c  72d\n",
       "73  73a  73b  73c  73d\n",
       "74  74a  74b  74c  74d\n",
       "75  75a  75b  75c  75d\n",
       "76  76a  76b  76c  76d\n",
       "\n",
       "[77 rows x 4 columns]"
      ]
     },
     "execution_count": 16,
     "metadata": {},
     "output_type": "execute_result"
    }
   ],
   "source": [
    "df = pd.DataFrame(index=range(0,77), columns=[\"A\",\"B\",\"C\",\"D\"])\n",
    "df = df.apply(lambda x: df.apply(lambda x: str(x.name),axis=1)+ x.name.lower()) #위의 for문과 동일한 결과\n",
    "df"
   ]
  },
  {
   "cell_type": "code",
   "execution_count": 17,
   "metadata": {
    "colab": {
     "base_uri": "https://localhost:8080/"
    },
    "id": "f1438a3e",
    "outputId": "8c28e8ef-6662-42fe-90d1-f0166cee3a19"
   },
   "outputs": [
    {
     "name": "stdout",
     "output_type": "stream",
     "text": [
      "13.416065692901611\n",
      "1.054593563079834\n"
     ]
    }
   ],
   "source": [
    "# apply 기능\n",
    "# why?\n",
    "\n",
    "from time import time\n",
    "df = pd.DataFrame(index=range(0,77), columns=[\"A\",\"B\",\"C\",\"D\"])\n",
    "\n",
    "pos1 = time()\n",
    "for i in range(0,100):\n",
    "    for col in df.columns:\n",
    "        for ind in df.index:\n",
    "            df[col].loc[ind] = str(ind) + col.lower()\n",
    "    \n",
    "print(time()-pos1)\n",
    "\n",
    "pos1 = time()\n",
    "for i in range(0,100):\n",
    "    df.apply(lambda x: df.apply(lambda x: str(x.name),axis=1)+ x.name.lower()) #apply함수의 경우가 훨씬 빠르게 동작\n",
    "    \n",
    "print(time()-pos1)"
   ]
  },
  {
   "cell_type": "code",
   "execution_count": 18,
   "metadata": {
    "colab": {
     "base_uri": "https://localhost:8080/"
    },
    "id": "c0eb13c9",
    "outputId": "f22b5c72-0f59-46e4-9ca8-9db3acb43a47"
   },
   "outputs": [
    {
     "data": {
      "text/plain": [
       "0     74\n",
       "1     18\n",
       "2     21\n",
       "3     45\n",
       "4     94\n",
       "      ..\n",
       "72    89\n",
       "73    56\n",
       "74    79\n",
       "75    24\n",
       "76    41\n",
       "Length: 77, dtype: int64"
      ]
     },
     "execution_count": 18,
     "metadata": {},
     "output_type": "execute_result"
    }
   ],
   "source": [
    "df.apply(lambda x: random.randint(0,101),axis=1) # 1 = 가로방향, 0 = 세로방향"
   ]
  },
  {
   "cell_type": "code",
   "execution_count": 19,
   "metadata": {
    "colab": {
     "base_uri": "https://localhost:8080/",
     "height": 423
    },
    "id": "2b2fd9e3",
    "outputId": "62eba7e4-0980-40c1-a7a8-26a9dd09acc1",
    "scrolled": true
   },
   "outputs": [
    {
     "data": {
      "text/html": [
       "<div>\n",
       "<style scoped>\n",
       "    .dataframe tbody tr th:only-of-type {\n",
       "        vertical-align: middle;\n",
       "    }\n",
       "\n",
       "    .dataframe tbody tr th {\n",
       "        vertical-align: top;\n",
       "    }\n",
       "\n",
       "    .dataframe thead th {\n",
       "        text-align: right;\n",
       "    }\n",
       "</style>\n",
       "<table border=\"1\" class=\"dataframe\">\n",
       "  <thead>\n",
       "    <tr style=\"text-align: right;\">\n",
       "      <th></th>\n",
       "      <th>A</th>\n",
       "      <th>B</th>\n",
       "      <th>C</th>\n",
       "      <th>D</th>\n",
       "    </tr>\n",
       "  </thead>\n",
       "  <tbody>\n",
       "    <tr>\n",
       "      <th>0</th>\n",
       "      <td>11</td>\n",
       "      <td>51</td>\n",
       "      <td>0</td>\n",
       "      <td>82</td>\n",
       "    </tr>\n",
       "    <tr>\n",
       "      <th>1</th>\n",
       "      <td>20</td>\n",
       "      <td>2</td>\n",
       "      <td>34</td>\n",
       "      <td>36</td>\n",
       "    </tr>\n",
       "    <tr>\n",
       "      <th>2</th>\n",
       "      <td>43</td>\n",
       "      <td>59</td>\n",
       "      <td>10</td>\n",
       "      <td>49</td>\n",
       "    </tr>\n",
       "    <tr>\n",
       "      <th>3</th>\n",
       "      <td>76</td>\n",
       "      <td>43</td>\n",
       "      <td>68</td>\n",
       "      <td>1</td>\n",
       "    </tr>\n",
       "    <tr>\n",
       "      <th>4</th>\n",
       "      <td>98</td>\n",
       "      <td>5</td>\n",
       "      <td>92</td>\n",
       "      <td>3</td>\n",
       "    </tr>\n",
       "    <tr>\n",
       "      <th>...</th>\n",
       "      <td>...</td>\n",
       "      <td>...</td>\n",
       "      <td>...</td>\n",
       "      <td>...</td>\n",
       "    </tr>\n",
       "    <tr>\n",
       "      <th>72</th>\n",
       "      <td>27</td>\n",
       "      <td>39</td>\n",
       "      <td>67</td>\n",
       "      <td>0</td>\n",
       "    </tr>\n",
       "    <tr>\n",
       "      <th>73</th>\n",
       "      <td>99</td>\n",
       "      <td>29</td>\n",
       "      <td>16</td>\n",
       "      <td>37</td>\n",
       "    </tr>\n",
       "    <tr>\n",
       "      <th>74</th>\n",
       "      <td>84</td>\n",
       "      <td>51</td>\n",
       "      <td>60</td>\n",
       "      <td>69</td>\n",
       "    </tr>\n",
       "    <tr>\n",
       "      <th>75</th>\n",
       "      <td>66</td>\n",
       "      <td>55</td>\n",
       "      <td>18</td>\n",
       "      <td>4</td>\n",
       "    </tr>\n",
       "    <tr>\n",
       "      <th>76</th>\n",
       "      <td>30</td>\n",
       "      <td>5</td>\n",
       "      <td>26</td>\n",
       "      <td>81</td>\n",
       "    </tr>\n",
       "  </tbody>\n",
       "</table>\n",
       "<p>77 rows × 4 columns</p>\n",
       "</div>"
      ],
      "text/plain": [
       "     A   B   C   D\n",
       "0   11  51   0  82\n",
       "1   20   2  34  36\n",
       "2   43  59  10  49\n",
       "3   76  43  68   1\n",
       "4   98   5  92   3\n",
       "..  ..  ..  ..  ..\n",
       "72  27  39  67   0\n",
       "73  99  29  16  37\n",
       "74  84  51  60  69\n",
       "75  66  55  18   4\n",
       "76  30   5  26  81\n",
       "\n",
       "[77 rows x 4 columns]"
      ]
     },
     "execution_count": 19,
     "metadata": {},
     "output_type": "execute_result"
    }
   ],
   "source": [
    "df.apply(lambda x: df.apply(lambda x: random.randint(0,101),axis=1),axis=0)"
   ]
  },
  {
   "cell_type": "markdown",
   "metadata": {
    "id": "b5cb0499"
   },
   "source": [
    "# 3. request + beautifulsoup 이용해서 네이버 주가 가져오기"
   ]
  },
  {
   "cell_type": "markdown",
   "metadata": {
    "id": "IiiGrW5cRIny"
   },
   "source": [
    "크롤링 할 페이지: \n",
    "\n",
    "https://finance.naver.com/item/sise_day.nhn?code=035420&page=1"
   ]
  },
  {
   "cell_type": "code",
   "execution_count": 20,
   "metadata": {
    "id": "gNh4StSRMLiz"
   },
   "outputs": [],
   "source": [
    "from bs4 import BeautifulSoup"
   ]
  },
  {
   "cell_type": "code",
   "execution_count": 21,
   "metadata": {
    "id": "idJKKq4lL_I_"
   },
   "outputs": [],
   "source": [
    "code = '035420'  # NAVER"
   ]
  },
  {
   "cell_type": "code",
   "execution_count": 22,
   "metadata": {
    "colab": {
     "base_uri": "https://localhost:8080/"
    },
    "id": "3823a520",
    "outputId": "6947a774-716a-4311-ed8d-7c99687a221b"
   },
   "outputs": [
    {
     "data": {
      "text/plain": [
       "200"
      ]
     },
     "execution_count": 22,
     "metadata": {},
     "output_type": "execute_result"
    }
   ],
   "source": [
    "import requests\n",
    "url = 'https://finance.naver.com/item/sise_day.nhn?code=035420&page=1'\n",
    "agent = 'Mozilla/5.0 (Windows NT 10.0; Win64; x64) AppleWebKit/537.36 (KHTML, like Gecko) Chrome/107.0.0.0 Safari/537.36'\n",
    "response = requests.get(url = url, headers = {'User-Agent': agent})\n",
    "_soap = BeautifulSoup(response.text, 'lxml')\n",
    "response.status_code #200이 호출되면 정상적인 url 사이트"
   ]
  },
  {
   "cell_type": "code",
   "execution_count": 23,
   "metadata": {
    "id": "0fK7fi20MY2h"
   },
   "outputs": [],
   "source": [
    "import traceback\n",
    "import pandas as pd\n",
    "\n",
    "#함수로 만들어본다\n",
    "def parse_page(code, page):\n",
    "    try:\n",
    "        url = 'https://finance.naver.com/item/sise_day.nhn?code={code}&page={page}'.format(code=code, page=page)\n",
    "        agent = 'Mozilla/5.0 (Windows NT 10.0; Win64; x64) AppleWebKit/537.36 (KHTML, like Gecko) Chrome/107.0.0.0 Safari/537.36'\n",
    "        response = requests.get(url = url, headers = {'User-Agent': agent})\n",
    "        _soap = BeautifulSoup(response.text, 'lxml')\n",
    "        _df = pd.read_html(str(_soap.find(\"table\")), header=0)[0]\n",
    "        _df = _df.dropna()\n",
    "        return _df\n",
    "    except:\n",
    "        print('Error!')\n",
    "    return None\n"
   ]
  },
  {
   "cell_type": "code",
   "execution_count": 24,
   "metadata": {
    "id": "5DRkHmTnMiz0"
   },
   "outputs": [],
   "source": [
    "data = parse_page(code,1)\n",
    "data = data.sort_values('날짜')"
   ]
  },
  {
   "cell_type": "code",
   "execution_count": 25,
   "metadata": {
    "colab": {
     "base_uri": "https://localhost:8080/",
     "height": 363
    },
    "id": "2k_F67-2dITW",
    "outputId": "2351b96c-ebd0-4463-bbcc-4c09d8829cf6"
   },
   "outputs": [
    {
     "data": {
      "text/html": [
       "<div>\n",
       "<style scoped>\n",
       "    .dataframe tbody tr th:only-of-type {\n",
       "        vertical-align: middle;\n",
       "    }\n",
       "\n",
       "    .dataframe tbody tr th {\n",
       "        vertical-align: top;\n",
       "    }\n",
       "\n",
       "    .dataframe thead th {\n",
       "        text-align: right;\n",
       "    }\n",
       "</style>\n",
       "<table border=\"1\" class=\"dataframe\">\n",
       "  <thead>\n",
       "    <tr style=\"text-align: right;\">\n",
       "      <th></th>\n",
       "      <th>날짜</th>\n",
       "      <th>종가</th>\n",
       "      <th>전일비</th>\n",
       "      <th>시가</th>\n",
       "      <th>고가</th>\n",
       "      <th>저가</th>\n",
       "      <th>거래량</th>\n",
       "    </tr>\n",
       "  </thead>\n",
       "  <tbody>\n",
       "    <tr>\n",
       "      <th>13</th>\n",
       "      <td>2023.01.10</td>\n",
       "      <td>193000.0</td>\n",
       "      <td>3500.0</td>\n",
       "      <td>193000.0</td>\n",
       "      <td>196000.0</td>\n",
       "      <td>190500.0</td>\n",
       "      <td>839225.0</td>\n",
       "    </tr>\n",
       "    <tr>\n",
       "      <th>12</th>\n",
       "      <td>2023.01.11</td>\n",
       "      <td>195000.0</td>\n",
       "      <td>2000.0</td>\n",
       "      <td>197500.0</td>\n",
       "      <td>200500.0</td>\n",
       "      <td>194500.0</td>\n",
       "      <td>1030650.0</td>\n",
       "    </tr>\n",
       "    <tr>\n",
       "      <th>11</th>\n",
       "      <td>2023.01.12</td>\n",
       "      <td>194000.0</td>\n",
       "      <td>1000.0</td>\n",
       "      <td>198000.0</td>\n",
       "      <td>199000.0</td>\n",
       "      <td>194000.0</td>\n",
       "      <td>797343.0</td>\n",
       "    </tr>\n",
       "    <tr>\n",
       "      <th>10</th>\n",
       "      <td>2023.01.13</td>\n",
       "      <td>195000.0</td>\n",
       "      <td>1000.0</td>\n",
       "      <td>196000.0</td>\n",
       "      <td>200500.0</td>\n",
       "      <td>195000.0</td>\n",
       "      <td>869459.0</td>\n",
       "    </tr>\n",
       "    <tr>\n",
       "      <th>9</th>\n",
       "      <td>2023.01.16</td>\n",
       "      <td>200500.0</td>\n",
       "      <td>5500.0</td>\n",
       "      <td>197000.0</td>\n",
       "      <td>201000.0</td>\n",
       "      <td>195000.0</td>\n",
       "      <td>846276.0</td>\n",
       "    </tr>\n",
       "    <tr>\n",
       "      <th>5</th>\n",
       "      <td>2023.01.17</td>\n",
       "      <td>193500.0</td>\n",
       "      <td>7000.0</td>\n",
       "      <td>201000.0</td>\n",
       "      <td>201000.0</td>\n",
       "      <td>193500.0</td>\n",
       "      <td>976576.0</td>\n",
       "    </tr>\n",
       "    <tr>\n",
       "      <th>4</th>\n",
       "      <td>2023.01.18</td>\n",
       "      <td>195500.0</td>\n",
       "      <td>2000.0</td>\n",
       "      <td>194000.0</td>\n",
       "      <td>196000.0</td>\n",
       "      <td>193000.0</td>\n",
       "      <td>518929.0</td>\n",
       "    </tr>\n",
       "    <tr>\n",
       "      <th>3</th>\n",
       "      <td>2023.01.19</td>\n",
       "      <td>196000.0</td>\n",
       "      <td>500.0</td>\n",
       "      <td>194000.0</td>\n",
       "      <td>196500.0</td>\n",
       "      <td>192500.0</td>\n",
       "      <td>475600.0</td>\n",
       "    </tr>\n",
       "    <tr>\n",
       "      <th>2</th>\n",
       "      <td>2023.01.20</td>\n",
       "      <td>196000.0</td>\n",
       "      <td>0.0</td>\n",
       "      <td>195500.0</td>\n",
       "      <td>201000.0</td>\n",
       "      <td>195000.0</td>\n",
       "      <td>787881.0</td>\n",
       "    </tr>\n",
       "    <tr>\n",
       "      <th>1</th>\n",
       "      <td>2023.01.25</td>\n",
       "      <td>201000.0</td>\n",
       "      <td>5000.0</td>\n",
       "      <td>200500.0</td>\n",
       "      <td>203500.0</td>\n",
       "      <td>199600.0</td>\n",
       "      <td>834774.0</td>\n",
       "    </tr>\n",
       "  </tbody>\n",
       "</table>\n",
       "</div>"
      ],
      "text/plain": [
       "            날짜        종가     전일비        시가        고가        저가        거래량\n",
       "13  2023.01.10  193000.0  3500.0  193000.0  196000.0  190500.0   839225.0\n",
       "12  2023.01.11  195000.0  2000.0  197500.0  200500.0  194500.0  1030650.0\n",
       "11  2023.01.12  194000.0  1000.0  198000.0  199000.0  194000.0   797343.0\n",
       "10  2023.01.13  195000.0  1000.0  196000.0  200500.0  195000.0   869459.0\n",
       "9   2023.01.16  200500.0  5500.0  197000.0  201000.0  195000.0   846276.0\n",
       "5   2023.01.17  193500.0  7000.0  201000.0  201000.0  193500.0   976576.0\n",
       "4   2023.01.18  195500.0  2000.0  194000.0  196000.0  193000.0   518929.0\n",
       "3   2023.01.19  196000.0   500.0  194000.0  196500.0  192500.0   475600.0\n",
       "2   2023.01.20  196000.0     0.0  195500.0  201000.0  195000.0   787881.0\n",
       "1   2023.01.25  201000.0  5000.0  200500.0  203500.0  199600.0   834774.0"
      ]
     },
     "execution_count": 25,
     "metadata": {},
     "output_type": "execute_result"
    }
   ],
   "source": [
    "data"
   ]
  },
  {
   "cell_type": "code",
   "execution_count": 26,
   "metadata": {
    "colab": {
     "base_uri": "https://localhost:8080/",
     "height": 394
    },
    "id": "w86f75ZyVfAW",
    "outputId": "a609249e-1f80-4b1d-e4d7-a88781cb8473"
   },
   "outputs": [
    {
     "data": {
      "text/html": [
       "<div>\n",
       "<style scoped>\n",
       "    .dataframe tbody tr th:only-of-type {\n",
       "        vertical-align: middle;\n",
       "    }\n",
       "\n",
       "    .dataframe tbody tr th {\n",
       "        vertical-align: top;\n",
       "    }\n",
       "\n",
       "    .dataframe thead th {\n",
       "        text-align: right;\n",
       "    }\n",
       "</style>\n",
       "<table border=\"1\" class=\"dataframe\">\n",
       "  <thead>\n",
       "    <tr style=\"text-align: right;\">\n",
       "      <th></th>\n",
       "      <th>종가</th>\n",
       "      <th>전일비</th>\n",
       "      <th>시가</th>\n",
       "      <th>고가</th>\n",
       "      <th>저가</th>\n",
       "      <th>거래량</th>\n",
       "    </tr>\n",
       "    <tr>\n",
       "      <th>날짜</th>\n",
       "      <th></th>\n",
       "      <th></th>\n",
       "      <th></th>\n",
       "      <th></th>\n",
       "      <th></th>\n",
       "      <th></th>\n",
       "    </tr>\n",
       "  </thead>\n",
       "  <tbody>\n",
       "    <tr>\n",
       "      <th>2023.01.10</th>\n",
       "      <td>193000.0</td>\n",
       "      <td>3500.0</td>\n",
       "      <td>193000.0</td>\n",
       "      <td>196000.0</td>\n",
       "      <td>190500.0</td>\n",
       "      <td>839225.0</td>\n",
       "    </tr>\n",
       "    <tr>\n",
       "      <th>2023.01.11</th>\n",
       "      <td>195000.0</td>\n",
       "      <td>2000.0</td>\n",
       "      <td>197500.0</td>\n",
       "      <td>200500.0</td>\n",
       "      <td>194500.0</td>\n",
       "      <td>1030650.0</td>\n",
       "    </tr>\n",
       "    <tr>\n",
       "      <th>2023.01.12</th>\n",
       "      <td>194000.0</td>\n",
       "      <td>1000.0</td>\n",
       "      <td>198000.0</td>\n",
       "      <td>199000.0</td>\n",
       "      <td>194000.0</td>\n",
       "      <td>797343.0</td>\n",
       "    </tr>\n",
       "    <tr>\n",
       "      <th>2023.01.13</th>\n",
       "      <td>195000.0</td>\n",
       "      <td>1000.0</td>\n",
       "      <td>196000.0</td>\n",
       "      <td>200500.0</td>\n",
       "      <td>195000.0</td>\n",
       "      <td>869459.0</td>\n",
       "    </tr>\n",
       "    <tr>\n",
       "      <th>2023.01.16</th>\n",
       "      <td>200500.0</td>\n",
       "      <td>5500.0</td>\n",
       "      <td>197000.0</td>\n",
       "      <td>201000.0</td>\n",
       "      <td>195000.0</td>\n",
       "      <td>846276.0</td>\n",
       "    </tr>\n",
       "    <tr>\n",
       "      <th>2023.01.17</th>\n",
       "      <td>193500.0</td>\n",
       "      <td>7000.0</td>\n",
       "      <td>201000.0</td>\n",
       "      <td>201000.0</td>\n",
       "      <td>193500.0</td>\n",
       "      <td>976576.0</td>\n",
       "    </tr>\n",
       "    <tr>\n",
       "      <th>2023.01.18</th>\n",
       "      <td>195500.0</td>\n",
       "      <td>2000.0</td>\n",
       "      <td>194000.0</td>\n",
       "      <td>196000.0</td>\n",
       "      <td>193000.0</td>\n",
       "      <td>518929.0</td>\n",
       "    </tr>\n",
       "    <tr>\n",
       "      <th>2023.01.19</th>\n",
       "      <td>196000.0</td>\n",
       "      <td>500.0</td>\n",
       "      <td>194000.0</td>\n",
       "      <td>196500.0</td>\n",
       "      <td>192500.0</td>\n",
       "      <td>475600.0</td>\n",
       "    </tr>\n",
       "    <tr>\n",
       "      <th>2023.01.20</th>\n",
       "      <td>196000.0</td>\n",
       "      <td>0.0</td>\n",
       "      <td>195500.0</td>\n",
       "      <td>201000.0</td>\n",
       "      <td>195000.0</td>\n",
       "      <td>787881.0</td>\n",
       "    </tr>\n",
       "    <tr>\n",
       "      <th>2023.01.25</th>\n",
       "      <td>201000.0</td>\n",
       "      <td>5000.0</td>\n",
       "      <td>200500.0</td>\n",
       "      <td>203500.0</td>\n",
       "      <td>199600.0</td>\n",
       "      <td>834774.0</td>\n",
       "    </tr>\n",
       "  </tbody>\n",
       "</table>\n",
       "</div>"
      ],
      "text/plain": [
       "                  종가     전일비        시가        고가        저가        거래량\n",
       "날짜                                                                   \n",
       "2023.01.10  193000.0  3500.0  193000.0  196000.0  190500.0   839225.0\n",
       "2023.01.11  195000.0  2000.0  197500.0  200500.0  194500.0  1030650.0\n",
       "2023.01.12  194000.0  1000.0  198000.0  199000.0  194000.0   797343.0\n",
       "2023.01.13  195000.0  1000.0  196000.0  200500.0  195000.0   869459.0\n",
       "2023.01.16  200500.0  5500.0  197000.0  201000.0  195000.0   846276.0\n",
       "2023.01.17  193500.0  7000.0  201000.0  201000.0  193500.0   976576.0\n",
       "2023.01.18  195500.0  2000.0  194000.0  196000.0  193000.0   518929.0\n",
       "2023.01.19  196000.0   500.0  194000.0  196500.0  192500.0   475600.0\n",
       "2023.01.20  196000.0     0.0  195500.0  201000.0  195000.0   787881.0\n",
       "2023.01.25  201000.0  5000.0  200500.0  203500.0  199600.0   834774.0"
      ]
     },
     "execution_count": 26,
     "metadata": {},
     "output_type": "execute_result"
    }
   ],
   "source": [
    "data.set_index(data['날짜'],inplace=True,drop=True)\n",
    "data.drop(['날짜'],inplace=True,axis=1)\n",
    "data"
   ]
  },
  {
   "cell_type": "markdown",
   "metadata": {
    "id": "a112e67e"
   },
   "source": [
    "# 4. matplotlib, 캔들 데이터 그리기"
   ]
  },
  {
   "cell_type": "code",
   "execution_count": 27,
   "metadata": {
    "colab": {
     "base_uri": "https://localhost:8080/",
     "height": 546
    },
    "id": "c968a8a3",
    "outputId": "3007c881-2914-4d0a-89c1-f7497b19cf77"
   },
   "outputs": [
    {
     "data": {
      "text/plain": [
       "Text(0, 0.5, 'Price')"
      ]
     },
     "execution_count": 27,
     "metadata": {},
     "output_type": "execute_result"
    },
    {
     "data": {
      "image/png": "[encoded data removed]",
      "text/plain": [
       "<Figure size 432x288 with 1 Axes>"
      ]
     },
     "metadata": {
      "needs_background": "light"
     },
     "output_type": "display_data"
    }
   ],
   "source": [
    "import matplotlib.pyplot as plt\n",
    "\n",
    "# 그래프 결과\n",
    "plt.plot(data['종가'])\n",
    "plt.title('Naver Price')\n",
    "plt.xlabel('Date')\n",
    "plt.xticks(rotation=45)\n",
    "plt.ylabel('Price')"
   ]
  },
  {
   "cell_type": "code",
   "execution_count": 28,
   "metadata": {
    "colab": {
     "base_uri": "https://localhost:8080/",
     "height": 1000
    },
    "id": "3d400ed8",
    "outputId": "0c93ccbf-1466-4a79-85c5-080ce2994cf2",
    "scrolled": true
   },
   "outputs": [
    {
     "data": {
      "image/png": "[encoded data removed]",
      "text/plain": [
       "<Figure size 432x288 with 1 Axes>"
      ]
     },
     "metadata": {
      "needs_background": "light"
     },
     "output_type": "display_data"
    },
    {
     "data": {
      "image/png": "[encoded data removed]",
      "text/plain": [
       "<Figure size 432x288 with 1 Axes>"
      ]
     },
     "metadata": {
      "needs_background": "light"
     },
     "output_type": "display_data"
    },
    {
     "data": {
      "image/png": "[encoded data removed]",
      "text/plain": [
       "<Figure size 432x288 with 1 Axes>"
      ]
     },
     "metadata": {
      "needs_background": "light"
     },
     "output_type": "display_data"
    },
    {
     "data": {
      "image/png": "[encoded data removed]",
      "text/plain": [
       "<Figure size 432x288 with 1 Axes>"
      ]
     },
     "metadata": {
      "needs_background": "light"
     },
     "output_type": "display_data"
    },
    {
     "data": {
      "image/png": "[encoded data removed]",
      "text/plain": [
       "<Figure size 432x288 with 1 Axes>"
      ]
     },
     "metadata": {
      "needs_background": "light"
     },
     "output_type": "display_data"
    }
   ],
   "source": [
    "# 개별 이미지에 그리는 법:\n",
    "Title = ['Close','Percent Change','Open','High','Low']\n",
    "for title,i in enumerate(data.columns[:-1]):\n",
    "    plt.plot(data[i])\n",
    "    plt.title(Title[title])\n",
    "    plt.xlabel('Date')\n",
    "    plt.xticks(rotation=45)\n",
    "    plt.show()"
   ]
  },
  {
   "cell_type": "code",
   "execution_count": null,
   "metadata": {
    "id": "S_ghqtnVddj_"
   },
   "outputs": [],
   "source": []
  }
 ],
 "metadata": {
  "colab": {
   "provenance": []
  },
  "kernelspec": {
   "display_name": "Python 3",
   "language": "python",
   "name": "python3"
  },
  "language_info": {
   "codemirror_mode": {
    "name": "ipython",
    "version": 3
   },
   "file_extension": ".py",
   "mimetype": "text/x-python",
   "name": "python",
   "nbconvert_exporter": "python",
   "pygments_lexer": "ipython3",
   "version": "3.8.5"
  }
 },
 "nbformat": 4,
 "nbformat_minor": 5
}
